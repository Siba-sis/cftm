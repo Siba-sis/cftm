{
 "cells": [
  {
   "cell_type": "code",
   "execution_count": 1,
   "metadata": {},
   "outputs": [],
   "source": [
    "import numpy as np\n",
    "import pandas as pd\n",
    "from pyspark.context import SparkContext\n",
    "from pyspark.sql.session import SparkSession"
   ]
  },
  {
   "cell_type": "markdown",
   "metadata": {},
   "source": [
    "# Data Inspection"
   ]
  },
  {
   "cell_type": "markdown",
   "metadata": {},
   "source": [
    "## Data in customer_feedbacks/"
   ]
  },
  {
   "cell_type": "code",
   "execution_count": 2,
   "metadata": {},
   "outputs": [],
   "source": [
    "sc = SparkContext('local')\n",
    "spark = SparkSession(sc)"
   ]
  },
  {
   "cell_type": "code",
   "execution_count": 3,
   "metadata": {},
   "outputs": [
    {
     "ename": "AnalysisException",
     "evalue": "'Path does not exist: file:/Users/YuhouZhou/Desktop/2019 Spring/Advanced Project 1/data/customer_feedbacks/part-00000-985ad763-a6d6-4ead-a6dd-c02279e9eeba-c000.snappy.parquet;'",
     "output_type": "error",
     "traceback": [
      "\u001b[0;31m---------------------------------------------------------------------------\u001b[0m",
      "\u001b[0;31mPy4JJavaError\u001b[0m                             Traceback (most recent call last)",
      "\u001b[0;32m~/miniconda3/lib/python3.7/site-packages/pyspark/sql/utils.py\u001b[0m in \u001b[0;36mdeco\u001b[0;34m(*a, **kw)\u001b[0m\n\u001b[1;32m     62\u001b[0m         \u001b[0;32mtry\u001b[0m\u001b[0;34m:\u001b[0m\u001b[0;34m\u001b[0m\u001b[0;34m\u001b[0m\u001b[0m\n\u001b[0;32m---> 63\u001b[0;31m             \u001b[0;32mreturn\u001b[0m \u001b[0mf\u001b[0m\u001b[0;34m(\u001b[0m\u001b[0;34m*\u001b[0m\u001b[0ma\u001b[0m\u001b[0;34m,\u001b[0m \u001b[0;34m**\u001b[0m\u001b[0mkw\u001b[0m\u001b[0;34m)\u001b[0m\u001b[0;34m\u001b[0m\u001b[0;34m\u001b[0m\u001b[0m\n\u001b[0m\u001b[1;32m     64\u001b[0m         \u001b[0;32mexcept\u001b[0m \u001b[0mpy4j\u001b[0m\u001b[0;34m.\u001b[0m\u001b[0mprotocol\u001b[0m\u001b[0;34m.\u001b[0m\u001b[0mPy4JJavaError\u001b[0m \u001b[0;32mas\u001b[0m \u001b[0me\u001b[0m\u001b[0;34m:\u001b[0m\u001b[0;34m\u001b[0m\u001b[0;34m\u001b[0m\u001b[0m\n",
      "\u001b[0;32m~/miniconda3/lib/python3.7/site-packages/py4j/protocol.py\u001b[0m in \u001b[0;36mget_return_value\u001b[0;34m(answer, gateway_client, target_id, name)\u001b[0m\n\u001b[1;32m    327\u001b[0m                     \u001b[0;34m\"An error occurred while calling {0}{1}{2}.\\n\"\u001b[0m\u001b[0;34m.\u001b[0m\u001b[0;34m\u001b[0m\u001b[0;34m\u001b[0m\u001b[0m\n\u001b[0;32m--> 328\u001b[0;31m                     format(target_id, \".\", name), value)\n\u001b[0m\u001b[1;32m    329\u001b[0m             \u001b[0;32melse\u001b[0m\u001b[0;34m:\u001b[0m\u001b[0;34m\u001b[0m\u001b[0;34m\u001b[0m\u001b[0m\n",
      "\u001b[0;31mPy4JJavaError\u001b[0m: An error occurred while calling o23.parquet.\n: org.apache.spark.sql.AnalysisException: Path does not exist: file:/Users/YuhouZhou/Desktop/2019 Spring/Advanced Project 1/data/customer_feedbacks/part-00000-985ad763-a6d6-4ead-a6dd-c02279e9eeba-c000.snappy.parquet;\n\tat org.apache.spark.sql.execution.datasources.DataSource$$anonfun$org$apache$spark$sql$execution$datasources$DataSource$$checkAndGlobPathIfNecessary$1.apply(DataSource.scala:558)\n\tat org.apache.spark.sql.execution.datasources.DataSource$$anonfun$org$apache$spark$sql$execution$datasources$DataSource$$checkAndGlobPathIfNecessary$1.apply(DataSource.scala:545)\n\tat scala.collection.TraversableLike$$anonfun$flatMap$1.apply(TraversableLike.scala:241)\n\tat scala.collection.TraversableLike$$anonfun$flatMap$1.apply(TraversableLike.scala:241)\n\tat scala.collection.immutable.List.foreach(List.scala:392)\n\tat scala.collection.TraversableLike$class.flatMap(TraversableLike.scala:241)\n\tat scala.collection.immutable.List.flatMap(List.scala:355)\n\tat org.apache.spark.sql.execution.datasources.DataSource.org$apache$spark$sql$execution$datasources$DataSource$$checkAndGlobPathIfNecessary(DataSource.scala:545)\n\tat org.apache.spark.sql.execution.datasources.DataSource.resolveRelation(DataSource.scala:359)\n\tat org.apache.spark.sql.DataFrameReader.loadV1Source(DataFrameReader.scala:223)\n\tat org.apache.spark.sql.DataFrameReader.load(DataFrameReader.scala:211)\n\tat org.apache.spark.sql.DataFrameReader.parquet(DataFrameReader.scala:641)\n\tat sun.reflect.NativeMethodAccessorImpl.invoke0(Native Method)\n\tat sun.reflect.NativeMethodAccessorImpl.invoke(NativeMethodAccessorImpl.java:62)\n\tat sun.reflect.DelegatingMethodAccessorImpl.invoke(DelegatingMethodAccessorImpl.java:43)\n\tat java.lang.reflect.Method.invoke(Method.java:498)\n\tat py4j.reflection.MethodInvoker.invoke(MethodInvoker.java:244)\n\tat py4j.reflection.ReflectionEngine.invoke(ReflectionEngine.java:357)\n\tat py4j.Gateway.invoke(Gateway.java:282)\n\tat py4j.commands.AbstractCommand.invokeMethod(AbstractCommand.java:132)\n\tat py4j.commands.CallCommand.execute(CallCommand.java:79)\n\tat py4j.GatewayConnection.run(GatewayConnection.java:238)\n\tat java.lang.Thread.run(Thread.java:748)\n",
      "\nDuring handling of the above exception, another exception occurred:\n",
      "\u001b[0;31mAnalysisException\u001b[0m                         Traceback (most recent call last)",
      "\u001b[0;32m<ipython-input-3-7617c9292735>\u001b[0m in \u001b[0;36m<module>\u001b[0;34m\u001b[0m\n\u001b[0;32m----> 1\u001b[0;31m \u001b[0mparquetFile\u001b[0m \u001b[0;34m=\u001b[0m \u001b[0mspark\u001b[0m\u001b[0;34m.\u001b[0m\u001b[0mread\u001b[0m\u001b[0;34m.\u001b[0m\u001b[0mparquet\u001b[0m\u001b[0;34m(\u001b[0m\u001b[0;34m\"../data/customer_feedbacks/part-00000-985ad763-a6d6-4ead-a6dd-c02279e9eeba-c000.snappy.parquet\"\u001b[0m\u001b[0;34m)\u001b[0m\u001b[0;34m\u001b[0m\u001b[0;34m\u001b[0m\u001b[0m\n\u001b[0m",
      "\u001b[0;32m~/miniconda3/lib/python3.7/site-packages/pyspark/sql/readwriter.py\u001b[0m in \u001b[0;36mparquet\u001b[0;34m(self, *paths)\u001b[0m\n\u001b[1;32m    314\u001b[0m         \u001b[0;34m[\u001b[0m\u001b[0;34m(\u001b[0m\u001b[0;34m'name'\u001b[0m\u001b[0;34m,\u001b[0m \u001b[0;34m'string'\u001b[0m\u001b[0;34m)\u001b[0m\u001b[0;34m,\u001b[0m \u001b[0;34m(\u001b[0m\u001b[0;34m'year'\u001b[0m\u001b[0;34m,\u001b[0m \u001b[0;34m'int'\u001b[0m\u001b[0;34m)\u001b[0m\u001b[0;34m,\u001b[0m \u001b[0;34m(\u001b[0m\u001b[0;34m'month'\u001b[0m\u001b[0;34m,\u001b[0m \u001b[0;34m'int'\u001b[0m\u001b[0;34m)\u001b[0m\u001b[0;34m,\u001b[0m \u001b[0;34m(\u001b[0m\u001b[0;34m'day'\u001b[0m\u001b[0;34m,\u001b[0m \u001b[0;34m'int'\u001b[0m\u001b[0;34m)\u001b[0m\u001b[0;34m]\u001b[0m\u001b[0;34m\u001b[0m\u001b[0;34m\u001b[0m\u001b[0m\n\u001b[1;32m    315\u001b[0m         \"\"\"\n\u001b[0;32m--> 316\u001b[0;31m         \u001b[0;32mreturn\u001b[0m \u001b[0mself\u001b[0m\u001b[0;34m.\u001b[0m\u001b[0m_df\u001b[0m\u001b[0;34m(\u001b[0m\u001b[0mself\u001b[0m\u001b[0;34m.\u001b[0m\u001b[0m_jreader\u001b[0m\u001b[0;34m.\u001b[0m\u001b[0mparquet\u001b[0m\u001b[0;34m(\u001b[0m\u001b[0m_to_seq\u001b[0m\u001b[0;34m(\u001b[0m\u001b[0mself\u001b[0m\u001b[0;34m.\u001b[0m\u001b[0m_spark\u001b[0m\u001b[0;34m.\u001b[0m\u001b[0m_sc\u001b[0m\u001b[0;34m,\u001b[0m \u001b[0mpaths\u001b[0m\u001b[0;34m)\u001b[0m\u001b[0;34m)\u001b[0m\u001b[0;34m)\u001b[0m\u001b[0;34m\u001b[0m\u001b[0;34m\u001b[0m\u001b[0m\n\u001b[0m\u001b[1;32m    317\u001b[0m \u001b[0;34m\u001b[0m\u001b[0m\n\u001b[1;32m    318\u001b[0m     \u001b[0;34m@\u001b[0m\u001b[0mignore_unicode_prefix\u001b[0m\u001b[0;34m\u001b[0m\u001b[0;34m\u001b[0m\u001b[0m\n",
      "\u001b[0;32m~/miniconda3/lib/python3.7/site-packages/py4j/java_gateway.py\u001b[0m in \u001b[0;36m__call__\u001b[0;34m(self, *args)\u001b[0m\n\u001b[1;32m   1255\u001b[0m         \u001b[0manswer\u001b[0m \u001b[0;34m=\u001b[0m \u001b[0mself\u001b[0m\u001b[0;34m.\u001b[0m\u001b[0mgateway_client\u001b[0m\u001b[0;34m.\u001b[0m\u001b[0msend_command\u001b[0m\u001b[0;34m(\u001b[0m\u001b[0mcommand\u001b[0m\u001b[0;34m)\u001b[0m\u001b[0;34m\u001b[0m\u001b[0;34m\u001b[0m\u001b[0m\n\u001b[1;32m   1256\u001b[0m         return_value = get_return_value(\n\u001b[0;32m-> 1257\u001b[0;31m             answer, self.gateway_client, self.target_id, self.name)\n\u001b[0m\u001b[1;32m   1258\u001b[0m \u001b[0;34m\u001b[0m\u001b[0m\n\u001b[1;32m   1259\u001b[0m         \u001b[0;32mfor\u001b[0m \u001b[0mtemp_arg\u001b[0m \u001b[0;32min\u001b[0m \u001b[0mtemp_args\u001b[0m\u001b[0;34m:\u001b[0m\u001b[0;34m\u001b[0m\u001b[0;34m\u001b[0m\u001b[0m\n",
      "\u001b[0;32m~/miniconda3/lib/python3.7/site-packages/pyspark/sql/utils.py\u001b[0m in \u001b[0;36mdeco\u001b[0;34m(*a, **kw)\u001b[0m\n\u001b[1;32m     67\u001b[0m                                              e.java_exception.getStackTrace()))\n\u001b[1;32m     68\u001b[0m             \u001b[0;32mif\u001b[0m \u001b[0ms\u001b[0m\u001b[0;34m.\u001b[0m\u001b[0mstartswith\u001b[0m\u001b[0;34m(\u001b[0m\u001b[0;34m'org.apache.spark.sql.AnalysisException: '\u001b[0m\u001b[0;34m)\u001b[0m\u001b[0;34m:\u001b[0m\u001b[0;34m\u001b[0m\u001b[0;34m\u001b[0m\u001b[0m\n\u001b[0;32m---> 69\u001b[0;31m                 \u001b[0;32mraise\u001b[0m \u001b[0mAnalysisException\u001b[0m\u001b[0;34m(\u001b[0m\u001b[0ms\u001b[0m\u001b[0;34m.\u001b[0m\u001b[0msplit\u001b[0m\u001b[0;34m(\u001b[0m\u001b[0;34m': '\u001b[0m\u001b[0;34m,\u001b[0m \u001b[0;36m1\u001b[0m\u001b[0;34m)\u001b[0m\u001b[0;34m[\u001b[0m\u001b[0;36m1\u001b[0m\u001b[0;34m]\u001b[0m\u001b[0;34m,\u001b[0m \u001b[0mstackTrace\u001b[0m\u001b[0;34m)\u001b[0m\u001b[0;34m\u001b[0m\u001b[0;34m\u001b[0m\u001b[0m\n\u001b[0m\u001b[1;32m     70\u001b[0m             \u001b[0;32mif\u001b[0m \u001b[0ms\u001b[0m\u001b[0;34m.\u001b[0m\u001b[0mstartswith\u001b[0m\u001b[0;34m(\u001b[0m\u001b[0;34m'org.apache.spark.sql.catalyst.analysis'\u001b[0m\u001b[0;34m)\u001b[0m\u001b[0;34m:\u001b[0m\u001b[0;34m\u001b[0m\u001b[0;34m\u001b[0m\u001b[0m\n\u001b[1;32m     71\u001b[0m                 \u001b[0;32mraise\u001b[0m \u001b[0mAnalysisException\u001b[0m\u001b[0;34m(\u001b[0m\u001b[0ms\u001b[0m\u001b[0;34m.\u001b[0m\u001b[0msplit\u001b[0m\u001b[0;34m(\u001b[0m\u001b[0;34m': '\u001b[0m\u001b[0;34m,\u001b[0m \u001b[0;36m1\u001b[0m\u001b[0;34m)\u001b[0m\u001b[0;34m[\u001b[0m\u001b[0;36m1\u001b[0m\u001b[0;34m]\u001b[0m\u001b[0;34m,\u001b[0m \u001b[0mstackTrace\u001b[0m\u001b[0;34m)\u001b[0m\u001b[0;34m\u001b[0m\u001b[0;34m\u001b[0m\u001b[0m\n",
      "\u001b[0;31mAnalysisException\u001b[0m: 'Path does not exist: file:/Users/YuhouZhou/Desktop/2019 Spring/Advanced Project 1/data/customer_feedbacks/part-00000-985ad763-a6d6-4ead-a6dd-c02279e9eeba-c000.snappy.parquet;'"
     ]
    }
   ],
   "source": [
    "parquetFile = spark.read.parquet(\"../data/customer_feedbacks/part-00000-985ad763-a6d6-4ead-a6dd-c02279e9eipeba-c000.snappy.parquet\")"
   ]
  },
  {
   "cell_type": "code",
   "execution_count": 4,
   "metadata": {},
   "outputs": [
    {
     "ename": "NameError",
     "evalue": "name 'parquetFile' is not defined",
     "output_type": "error",
     "traceback": [
      "\u001b[0;31m---------------------------------------------------------------------------\u001b[0m",
      "\u001b[0;31mNameError\u001b[0m                                 Traceback (most recent call last)",
      "\u001b[0;32m<ipython-input-4-ad2474f4fc79>\u001b[0m in \u001b[0;36m<module>\u001b[0;34m\u001b[0m\n\u001b[0;32m----> 1\u001b[0;31m \u001b[0mparquetFile\u001b[0m\u001b[0;34m.\u001b[0m\u001b[0mprintSchema\u001b[0m\u001b[0;34m(\u001b[0m\u001b[0;34m)\u001b[0m\u001b[0;34m\u001b[0m\u001b[0;34m\u001b[0m\u001b[0m\n\u001b[0m",
      "\u001b[0;31mNameError\u001b[0m: name 'parquetFile' is not defined"
     ]
    }
   ],
   "source": [
    "parquetFile.printSchema()"
   ]
  },
  {
   "cell_type": "code",
   "execution_count": 5,
   "metadata": {},
   "outputs": [],
   "source": [
    "parquetFile.createOrReplaceTempView(\"parquetFile\")"
   ]
  },
  {
   "cell_type": "code",
   "execution_count": 6,
   "metadata": {},
   "outputs": [
    {
     "data": {
      "text/plain": [
       "101"
      ]
     },
     "execution_count": 6,
     "metadata": {},
     "output_type": "execute_result"
    }
   ],
   "source": [
    "len(parquetFile.columns)"
   ]
  },
  {
   "cell_type": "code",
   "execution_count": 7,
   "metadata": {},
   "outputs": [
    {
     "name": "stdout",
     "output_type": "stream",
     "text": [
      "+------------------+-------------------+-------+--------+-----+------+--------------+--------------------+-------------+--------------------+------------+--------+---------+-----------------+-------------+-------------+-------------+-------------------+----------------+----------------+-------------+----------+----------------+----------------+------------+-------+---------------+------------+--------+---+------------+--------+------------+----------+---------------+---------+----------------+-----------------+-----------------+----------------+----------------------------+----------------+---------------+------------------+--------------------+----------------------+----------------------+------------------+------------------------+------+--------+-------------+-----------+--------+----------------+--------------+----------------+-----------------+--------------------+--------------------+---------------------+-------------------------+-----------------+----------------------+--------------------+--------------+--------------------+---------------+------------+------------+---------------+--------+-------------+--------------------+----------+-----------------+--------+----------+-----------+--------+------+--------+-----------+----------------+-----------------+-------------+-------------+---------------+--------------+--------------+-------------+-------------+-------------+-------------+-------------+------------------+---------+-----------------+-------------+----------------+-----------------+\n",
      "|   ERGEBNISSATZ_ID|           DATUM_ID|JAHR_ID|MONAT_ID|KW_ID|TAG_ID|KEY_ACCOUNT_ID|          UMFRAGE_ID|UMFRAGETYP_ID|UMFRAGE_KATEGORIE_ID|     LAND_ID|LABOR_ID|CLIENT_ID|CLIENT_VERSION_ID|COMPLETION_ID|NPS_STATUS_ID|NPS_KLASSE_ID|DKON_KONSUMENT_CODE|KONTAKTWUNSCH_ID|ERSTBESTELLER_ID|PERMISSION_ID|ARTIKEL_ID|MULTI_ARTIKEL_ID|MOBILE_DEVICE_ID|NAMENSTYP_ID|BILD_ID|BESTELLERTYP_ID|KUNDENTYP_ID|CLASS_ID|NPS|LD_QUALITAET|LD_OPTIK|LD_LIEFERUNG|LD_BINDUNG|LD_FARBBRILLANZ|LD_PAPIER|LD_FORMATAUSWAHL|LD_DESIGNVIELFALT|LD_DESIGNVORLAGEN|LD_BEDIENBARKEIT|LD_GESTALTUNGSMOEGLICHKEITEN|MARKE_HOCHWERTIG|MARKE_INNOVATIV|MARKE_ZUVERLAESSIG|MARKE_PREIS_LEISTUNG|ENPS_WIEDERKAUFABSICHT|ENPS_ZUSATZKAUFABSICHT|ENPS_PREISTOLERANZ|ENPS_KUNDENDURCHDRINGUNG|PI_CFB|PI_CARDS|PI_WANDBILDER|PI_KALENDER|PI_FOTOS|PI_FOTOGESCHENKE|PI_SOFORTDRUCK|LD_CP_DRUCKDATEN|LD_CP_LIEFERDAUER|LD_CP_UNTERSTUETZUNG|LD_CP_BESTELLPROZESS|LD_CP_PRODUKTVIELFALT|LD_CP_PRODUKTBESCHREIBUNG|LD_CP_WARENSCHUTZ|LD_CP_PRODUKTQUALITAET|LD_CP_PREIS_LEISTUNG|LD_CP_BERATUNG|          ANTWORT_ID|ANTWORT_TEXT_ID|ANTWORT_TEXT|ANTWORT_WERT|ANTWORTSKALA_ID|KD_EXIST|      KD_NAME|            KD_EMAIL|KD_TELEFON|KD_AUFTRAGSNUMMER|PD_EXIST|PD_VORNAME|PD_NACHNAME|PD_ALTER|PD_ORT|PD_BERUF|BERUF_EXIST|OBERKATEGORIE_ID|UNTERKATEGORIE_ID|    GRUPPE_ID|  CHECKBOX_ID|CHECKBOX_GRP_ID|KATEGORIE_1_ID|KATEGORIE_2_ID|  STIMMUNG_ID|   PUBLISH_ID|WKATEGORIE_ID|  OCCASION_ID|   PRODUCT_ID|ANZAHL_CAT_ANSWERS|ARTGRP_ID|VEREDELUNG_TYP_ID|MESSE_JAHR_ID|ANZAHL_ANTWORTEN|ANZAHL_TEILNEHMER|\n",
      "+------------------+-------------------+-------+--------+-----+------+--------------+--------------------+-------------+--------------------+------------+--------+---------+-----------------+-------------+-------------+-------------+-------------------+----------------+----------------+-------------+----------+----------------+----------------+------------+-------+---------------+------------+--------+---+------------+--------+------------+----------+---------------+---------+----------------+-----------------+-----------------+----------------+----------------------------+----------------+---------------+------------------+--------------------+----------------------+----------------------+------------------+------------------------+------+--------+-------------+-----------+--------+----------------+--------------+----------------+-----------------+--------------------+--------------------+---------------------+-------------------------+-----------------+----------------------+--------------------+--------------+--------------------+---------------+------------+------------+---------------+--------+-------------+--------------------+----------+-----------------+--------+----------+-----------+--------+------+--------+-----------+----------------+-----------------+-------------+-------------+---------------+--------------+--------------+-------------+-------------+-------------+-------------+-------------+------------------+---------+-----------------+-------------+----------------+-----------------+\n",
      "|7492033.0000000000|2012-04-14 00:00:00|   2012|       4|   16|    14|          3018|1602629807.000000...| 1.0000000000|        1.0000000000|1.0000000000|       0|       -1|               -1|            1|            1|            1|               null|               0|               0|            0|        -1|               1|              -1|           0|      0|             -1|          -1|      -1|  0|        null|       1|           1|         1|              1|        1|            null|             null|             null|               5|                           5|               1|              1|                 1|                   1|                  null|                  null|              null|                    null|  null|    null|         null|       null|    null|            null|          null|            null|             null|                null|                null|                 null|                     null|             null|                  null|                null|          null|1290295477492033....|            126|           0|           1|              0|       1|Manuela Mayer|Manuela.mayer@onl...|      null|             null|       0|      null|       null|    null|  null|    null|          0|    8.0000000000|    34.0000000000|68.0000000000|-1.0000000000|  -1.0000000000| -1.0000000000| -1.0000000000|-1.0000000000|-1.0000000000|-1.0000000000|-1.0000000000|-1.0000000000|              null|     null|               -1|           -1|               1|                1|\n",
      "+------------------+-------------------+-------+--------+-----+------+--------------+--------------------+-------------+--------------------+------------+--------+---------+-----------------+-------------+-------------+-------------+-------------------+----------------+----------------+-------------+----------+----------------+----------------+------------+-------+---------------+------------+--------+---+------------+--------+------------+----------+---------------+---------+----------------+-----------------+-----------------+----------------+----------------------------+----------------+---------------+------------------+--------------------+----------------------+----------------------+------------------+------------------------+------+--------+-------------+-----------+--------+----------------+--------------+----------------+-----------------+--------------------+--------------------+---------------------+-------------------------+-----------------+----------------------+--------------------+--------------+--------------------+---------------+------------+------------+---------------+--------+-------------+--------------------+----------+-----------------+--------+----------+-----------+--------+------+--------+-----------+----------------+-----------------+-------------+-------------+---------------+--------------+--------------+-------------+-------------+-------------+-------------+-------------+------------------+---------+-----------------+-------------+----------------+-----------------+\n",
      "\n"
     ]
    }
   ],
   "source": [
    "spark.sql(\"SELECT * FROM parquetFile LIMIT 1\").show()"
   ]
  },
  {
   "cell_type": "markdown",
   "metadata": {},
   "source": [
    "## Data in customer_feedbacks_cat/"
   ]
  },
  {
   "cell_type": "code",
   "execution_count": 8,
   "metadata": {},
   "outputs": [],
   "source": [
    "parquetFile2 = spark.read.parquet(\"../data/customer_feedbacks_cat/part-00000-4820af87-4b19-4958-a7a6-7ed03b76f1b1-c000.snappy.parquet\")"
   ]
  },
  {
   "cell_type": "code",
   "execution_count": 9,
   "metadata": {},
   "outputs": [
    {
     "name": "stdout",
     "output_type": "stream",
     "text": [
      "+--------------------+-----------+----------+--------------+--------------+-----------+--------------+\n",
      "|         KATEGORIE_2|KATEGORIE_1|  STIMMUNG|KATEGORIE_2_ID|KATEGORIE_1_ID|STIMMUNG_ID|KATEGORIE_2_CC|\n",
      "+--------------------+-----------+----------+--------------+--------------+-----------+--------------+\n",
      "| Versand - Vorschlag|    Versand|Suggestion|            38|            10|          4|          1038|\n",
      "|       Versand - Lob|    Versand|    Praise|            39|            10|          2|          1039|\n",
      "|     Versand - Keine|    Versand|      None|            40|            10|          1|          1040|\n",
      "|Versand - Beschwerde|    Versand| Complaint|            41|            10|          3|          1041|\n",
      "|  Editor - Vorschlag|     Editor|Suggestion|            42|            11|          4|          1142|\n",
      "+--------------------+-----------+----------+--------------+--------------+-----------+--------------+\n",
      "\n"
     ]
    }
   ],
   "source": [
    "parquetFile2.createOrReplaceTempView(\"parquetFile2\")\n",
    "spark.sql(\"SELECT * FROM parquetFile2 LIMIT 5\").show()"
   ]
  },
  {
   "cell_type": "markdown",
   "metadata": {},
   "source": [
    "# Generate dataframe"
   ]
  },
  {
   "cell_type": "code",
   "execution_count": 10,
   "metadata": {},
   "outputs": [],
   "source": [
    "df=spark.sql(\"\"\"\n",
    "SELECT\n",
    "    T0.KATEGORIE_2     AS CATEGORY_2,\n",
    "    T0.KATEGORIE_1     AS CATEGORY_1,\n",
    "    T0.STIMMUNG          AS SENTIMENT,\n",
    "    T1.ERGEBNISSATZ_ID AS RESPONSE_ID,\n",
    "    T1.DATUM_ID        AS DATE,\n",
    "    T1.ANTWORT_WERT    AS TEXT\n",
    "FROM\n",
    "    parquetFile2 T0,\n",
    "    parquetFile T1\n",
    "WHERE\n",
    "    T0.KATEGORIE_1_ID = T1.KATEGORIE_1_ID\n",
    "    AND T0.KATEGORIE_2_ID = T1.KATEGORIE_2_ID\n",
    "    AND T0.STIMMUNG_ID = T1.STIMMUNG_ID            \n",
    "    AND (NOT T1.ANTWORT_WERT IS NULL\n",
    "        AND (T1.UMFRAGE_KATEGORIE_ID = 1\n",
    "            AND (T1.GRUPPE_ID = 170\n",
    "                OR T1.GRUPPE_ID = 171)))\n",
    "\"\"\")"
   ]
  },
  {
   "cell_type": "code",
   "execution_count": 11,
   "metadata": {},
   "outputs": [
    {
     "name": "stdout",
     "output_type": "stream",
     "text": [
      "+--------------------+--------------------+---------+------------------+-------------------+--------------------+\n",
      "|          CATEGORY_2|          CATEGORY_1|SENTIMENT|       RESPONSE_ID|               DATE|                TEXT|\n",
      "+--------------------+--------------------+---------+------------------+-------------------+--------------------+\n",
      "|Delivery & POS Fe...|Delivery & POS Fe...|     None|7492033.0000000000|2012-04-14 00:00:00|Habe bis heute me...|\n",
      "|  Other - Beschwerde|               Other|Complaint|7492033.0000000000|2012-04-14 00:00:00|Habe bis heute me...|\n",
      "|                 N/A|                 N/A|      N/A|7492033.0000000000|2012-04-14 00:00:00|  Bin stinke sauer! |\n",
      "|HPS, IPS & App - ...|      HPS, IPS & App|     None|7509285.0000000000|2012-04-16 00:00:00|Teuer, aber gut. ...|\n",
      "|Customer Service ...|Customer Service ...|   Praise|7509285.0000000000|2012-04-16 00:00:00|Teuer, aber gut. ...|\n",
      "|Product Quality -...|     Product Quality|   Praise|7510696.0000000000|2012-04-16 00:00:00|Bisher war ich mi...|\n",
      "|         Other - Lob|               Other|   Praise|7510696.0000000000|2012-04-16 00:00:00|Bisher war ich mi...|\n",
      "|                 N/A|                 N/A|      N/A|7520322.0000000000|2012-04-17 00:00:00|Bisher damit sehr...|\n",
      "|                 N/A|                 N/A|      N/A|7520322.0000000000|2012-04-17 00:00:00|                   -|\n",
      "|Product Quality -...|     Product Quality|   Praise|7520330.0000000000|2012-04-17 00:00:00|Ich habe gute Erf...|\n",
      "|                 N/A|                 N/A|      N/A|7522134.0000000000|2012-04-17 00:00:00|da es super gewor...|\n",
      "|Product Quality -...|     Product Quality|   Praise|7525607.0000000000|2012-04-17 00:00:00|gute Qualität, sc...|\n",
      "|         Other - Lob|               Other|   Praise|7525607.0000000000|2012-04-17 00:00:00|gute Qualität, sc...|\n",
      "|HPS, IPS & App - Lob|      HPS, IPS & App|   Praise|7526877.0000000000|2012-04-17 00:00:00|Es ist einfach mi...|\n",
      "|       Other - Keine|               Other|     None|7526877.0000000000|2012-04-17 00:00:00|Es ist einfach mi...|\n",
      "|Customer Service ...|Customer Service ...|Complaint|7533276.0000000000|2012-04-17 00:00:00|Ich habe vor läng...|\n",
      "|  Other - Beschwerde|               Other|Complaint|7533276.0000000000|2012-04-17 00:00:00|Ich habe vor läng...|\n",
      "|Product Quality -...|     Product Quality|   Praise|7544885.0000000000|2012-04-18 00:00:00|Schnelle Bearbeit...|\n",
      "|         Other - Lob|               Other|   Praise|7544885.0000000000|2012-04-18 00:00:00|Schnelle Bearbeit...|\n",
      "|Delivery & POS Fe...|Delivery & POS Fe...|   Praise|7544976.0000000000|2012-04-18 00:00:00|wir waren super z...|\n",
      "+--------------------+--------------------+---------+------------------+-------------------+--------------------+\n",
      "only showing top 20 rows\n",
      "\n"
     ]
    }
   ],
   "source": [
    "df.show()"
   ]
  },
  {
   "cell_type": "code",
   "execution_count": 130,
   "metadata": {},
   "outputs": [
    {
     "data": {
      "text/plain": [
       "[Row(CATEGORY_2='Delivery & POS Feedback - Keine', CATEGORY_1='Delivery & POS Feedback', SENTIMENT='None', RESPONSE_ID=Decimal('7492033.0000000000'), DATE=datetime.datetime(2012, 4, 14, 0, 0), TEXT='Habe bis heute mein Fotobuch noch nicht obwohl ich es im März bestellt habe. War ein Geburtstagsgeschenk doch dieser ist mittlerweile auch vorbei. Keiner weiß wo mein Buch geblieben ist. Schade oder- Vertrauen dahin. Werde ich nie wieder über Müller machen! '),\n",
       " Row(CATEGORY_2='Other - Beschwerde', CATEGORY_1='Other', SENTIMENT='Complaint', RESPONSE_ID=Decimal('7492033.0000000000'), DATE=datetime.datetime(2012, 4, 14, 0, 0), TEXT='Habe bis heute mein Fotobuch noch nicht obwohl ich es im März bestellt habe. War ein Geburtstagsgeschenk doch dieser ist mittlerweile auch vorbei. Keiner weiß wo mein Buch geblieben ist. Schade oder- Vertrauen dahin. Werde ich nie wieder über Müller machen! '),\n",
       " Row(CATEGORY_2='N/A', CATEGORY_1='N/A', SENTIMENT='N/A', RESPONSE_ID=Decimal('7492033.0000000000'), DATE=datetime.datetime(2012, 4, 14, 0, 0), TEXT='Bin stinke sauer! '),\n",
       " Row(CATEGORY_2='HPS, IPS & App - Keine', CATEGORY_1='HPS, IPS & App', SENTIMENT='None', RESPONSE_ID=Decimal('7509285.0000000000'), DATE=datetime.datetime(2012, 4, 16, 0, 0), TEXT='Teuer, aber gut. Ich schätze die vielen Möglichkeiten der Software, nutze regelmäßig das Forum und bei Problemen hilft der Kundendienst gut weiter.'),\n",
       " Row(CATEGORY_2='Customer Service Feedback - Lob', CATEGORY_1='Customer Service Feedback', SENTIMENT='Praise', RESPONSE_ID=Decimal('7509285.0000000000'), DATE=datetime.datetime(2012, 4, 16, 0, 0), TEXT='Teuer, aber gut. Ich schätze die vielen Möglichkeiten der Software, nutze regelmäßig das Forum und bei Problemen hilft der Kundendienst gut weiter.'),\n",
       " Row(CATEGORY_2='Product Quality - Lob', CATEGORY_1='Product Quality', SENTIMENT='Praise', RESPONSE_ID=Decimal('7510696.0000000000'), DATE=datetime.datetime(2012, 4, 16, 0, 0), TEXT='Bisher war ich mit der Qualität der Fotobücher immer sehr zufrieden.'),\n",
       " Row(CATEGORY_2='Other - Lob', CATEGORY_1='Other', SENTIMENT='Praise', RESPONSE_ID=Decimal('7510696.0000000000'), DATE=datetime.datetime(2012, 4, 16, 0, 0), TEXT='Bisher war ich mit der Qualität der Fotobücher immer sehr zufrieden.'),\n",
       " Row(CATEGORY_2='N/A', CATEGORY_1='N/A', SENTIMENT='N/A', RESPONSE_ID=Decimal('7520322.0000000000'), DATE=datetime.datetime(2012, 4, 17, 0, 0), TEXT='Bisher damit sehr zufrieden')]"
      ]
     },
     "execution_count": 130,
     "metadata": {},
     "output_type": "execute_result"
    }
   ],
   "source": [
    "df.head(8)"
   ]
  },
  {
   "cell_type": "code",
   "execution_count": 54,
   "metadata": {},
   "outputs": [
    {
     "name": "stdout",
     "output_type": "stream",
     "text": [
      "root\n",
      " |-- CATEGORY_2: string (nullable = true)\n",
      " |-- CATEGORY_1: string (nullable = true)\n",
      " |-- SENTIMENT: string (nullable = true)\n",
      " |-- RESPONSE_ID: decimal(38,10) (nullable = true)\n",
      " |-- DATE: timestamp (nullable = true)\n",
      " |-- TEXT: string (nullable = true)\n",
      "\n"
     ]
    }
   ],
   "source": [
    "df.printSchema()"
   ]
  },
  {
   "cell_type": "code",
   "execution_count": 57,
   "metadata": {},
   "outputs": [],
   "source": [
    "df.createOrReplaceTempView(\"df\")"
   ]
  },
  {
   "cell_type": "code",
   "execution_count": 153,
   "metadata": {},
   "outputs": [],
   "source": [
    "# df_text = spark.sql(\"SELECT TEXT FROM df DESC LIMIT 40000\")\n",
    "df_text = spark.sql(\"SELECT TEXT FROM df\")"
   ]
  },
  {
   "cell_type": "code",
   "execution_count": 154,
   "metadata": {},
   "outputs": [
    {
     "data": {
      "text/plain": [
       "pyspark.sql.dataframe.DataFrame"
      ]
     },
     "execution_count": 154,
     "metadata": {},
     "output_type": "execute_result"
    }
   ],
   "source": [
    "type(df_text)"
   ]
  },
  {
   "cell_type": "code",
   "execution_count": 155,
   "metadata": {},
   "outputs": [],
   "source": [
    "spark.catalog.dropTempView(\"df_text\")"
   ]
  },
  {
   "cell_type": "code",
   "execution_count": 148,
   "metadata": {},
   "outputs": [
    {
     "name": "stdout",
     "output_type": "stream",
     "text": [
      "+--------+\n",
      "|count(1)|\n",
      "+--------+\n",
      "| 1917490|\n",
      "+--------+\n",
      "\n"
     ]
    }
   ],
   "source": [
    "# spark.sql(\"SELECT COUNT(*) FROM df\").show()"
   ]
  },
  {
   "cell_type": "markdown",
   "metadata": {},
   "source": [
    "# Data Preparation"
   ]
  },
  {
   "cell_type": "markdown",
   "metadata": {},
   "source": [
    "**test examples**"
   ]
  },
  {
   "cell_type": "code",
   "execution_count": 156,
   "metadata": {},
   "outputs": [
    {
     "name": "stdout",
     "output_type": "stream",
     "text": [
      "Wall time: 28.3 s\n"
     ]
    }
   ],
   "source": [
    "%%time\n",
    "df_pd = df_text.dropDuplicates().toPandas()"
   ]
  },
  {
   "cell_type": "code",
   "execution_count": 157,
   "metadata": {},
   "outputs": [],
   "source": [
    "# df_pd.iloc[-1]['TEXT']"
   ]
  },
  {
   "cell_type": "code",
   "execution_count": 158,
   "metadata": {},
   "outputs": [],
   "source": [
    "# %%time\n",
    "# import spacy\n",
    "# nlp = spacy.load('de')\n",
    "# TEXT_tokenized=df_pd['TEXT'].iloc[:].apply(lambda x: nlp(x))"
   ]
  },
  {
   "cell_type": "code",
   "execution_count": 159,
   "metadata": {},
   "outputs": [],
   "source": [
    "# TEXT_tokenized"
   ]
  },
  {
   "cell_type": "code",
   "execution_count": 160,
   "metadata": {},
   "outputs": [],
   "source": [
    "# type(TEXT_tokenized[0][0])"
   ]
  },
  {
   "cell_type": "code",
   "execution_count": 161,
   "metadata": {},
   "outputs": [],
   "source": [
    "# spacy.displacy.render(TEXT_tokenized[0], style='ent',jupyter=True)"
   ]
  },
  {
   "cell_type": "code",
   "execution_count": 162,
   "metadata": {},
   "outputs": [],
   "source": [
    "# # Example of lemmatization\n",
    "# review = str(\" \".join([i.lemma_ for i in TEXT_tokenized[0]]))"
   ]
  },
  {
   "cell_type": "code",
   "execution_count": 163,
   "metadata": {},
   "outputs": [],
   "source": [
    "# # All the words are switched to its basic form\n",
    "# spacy.displacy.render(nlp(review), style='ent',jupyter=True)"
   ]
  },
  {
   "cell_type": "code",
   "execution_count": 164,
   "metadata": {},
   "outputs": [],
   "source": [
    "import string\n",
    "from spacy.lang.de.stop_words import STOP_WORDS\n",
    "stopwords = list(STOP_WORDS)\n",
    "\n",
    "def text_preproc(sentence):\n",
    "    mytokens = nlp.tokenizer(sentence)\n",
    "    mytokens = [ word.lemma_.lower().strip() for word in mytokens ]\n",
    "    mytokens = [ word for word in mytokens if word not in stopwords and word not in string.punctuation ]\n",
    "    mytokens = \" \".join([i for i in mytokens])\n",
    "    return mytokens"
   ]
  },
  {
   "cell_type": "code",
   "execution_count": 165,
   "metadata": {},
   "outputs": [
    {
     "name": "stderr",
     "output_type": "stream",
     "text": [
      "100%|████████████████████████████████████████████████████████████████████████| 896683/896683 [05:42<00:00, 2617.24it/s]\n"
     ]
    }
   ],
   "source": [
    "from tqdm import tqdm\n",
    "tqdm.pandas()\n",
    "df_pd['TEXT_processed'] = df_pd['TEXT'].progress_apply(text_preproc)"
   ]
  },
  {
   "cell_type": "markdown",
   "metadata": {},
   "source": [
    "# Data Cleaning"
   ]
  },
  {
   "cell_type": "markdown",
   "metadata": {},
   "source": [
    "# Data Modelling"
   ]
  },
  {
   "cell_type": "code",
   "execution_count": 166,
   "metadata": {},
   "outputs": [
    {
     "name": "stdout",
     "output_type": "stream",
     "text": [
      "Wall time: 8.84 s\n"
     ]
    }
   ],
   "source": [
    "%%time\n",
    "# Creating a vectorizer\n",
    "from sklearn.feature_extraction.text import CountVectorizer\n",
    "\n",
    "punctuations = string.punctuation\n",
    "vectorizer = CountVectorizer(min_df=5, max_df=0.9, stop_words=list(STOP_WORDS), lowercase=True)\n",
    "data_vectorized = vectorizer.fit_transform(df_pd['TEXT_processed'])"
   ]
  },
  {
   "cell_type": "code",
   "execution_count": 167,
   "metadata": {},
   "outputs": [],
   "source": [
    "NUM_TOPICS = 10"
   ]
  },
  {
   "cell_type": "code",
   "execution_count": 168,
   "metadata": {},
   "outputs": [
    {
     "name": "stdout",
     "output_type": "stream",
     "text": [
      "iteration: 1 of max_iter: 10\n",
      "iteration: 2 of max_iter: 10\n",
      "iteration: 3 of max_iter: 10\n",
      "iteration: 4 of max_iter: 10\n",
      "iteration: 5 of max_iter: 10\n",
      "iteration: 6 of max_iter: 10\n",
      "iteration: 7 of max_iter: 10\n",
      "iteration: 8 of max_iter: 10\n",
      "iteration: 9 of max_iter: 10\n",
      "iteration: 10 of max_iter: 10\n",
      "Wall time: 30min 16s\n"
     ]
    }
   ],
   "source": [
    "%%time\n",
    "# Latent Dirichlet Allocation Model\n",
    "from sklearn.decomposition import LatentDirichletAllocation\n",
    "lda = LatentDirichletAllocation(n_components=NUM_TOPICS, max_iter=10, learning_method='online',verbose=True)\n",
    "data_lda = lda.fit_transform(data_vectorized)"
   ]
  },
  {
   "cell_type": "code",
   "execution_count": 169,
   "metadata": {},
   "outputs": [],
   "source": [
    "# Functions for printing keywords for each topic\n",
    "def selected_topics(model, vectorizer, top_n=10):\n",
    "    for idx, topic in enumerate(model.components_):\n",
    "        print(\"Topic %d:\" % (idx))\n",
    "        print([(vectorizer.get_feature_names()[i], topic[i])\n",
    "                        for i in topic.argsort()[:-top_n - 1:-1]])"
   ]
  },
  {
   "cell_type": "code",
   "execution_count": 170,
   "metadata": {},
   "outputs": [
    {
     "name": "stdout",
     "output_type": "stream",
     "text": [
      "LDA Model:\n",
      "Topic 0:\n",
      "[('bestellen', 70787.76438177995), ('zufrieden', 58603.27698749063), ('cewe', 35171.54138934868), ('fotobücher', 31791.87395929618), ('kalender', 31586.684809625793), ('fotobuch', 15753.712718934608), ('einig', 11983.268374016454), ('obwohl', 11976.881422844624), ('mal', 11853.821506745677), ('mehrer', 11008.105785155522)]\n",
      "Topic 1:\n",
      "[('einfach', 66685.97801213167), ('software', 33564.919930763244), ('schön', 31196.83920141773), ('gestalten', 24288.460765391264), ('ergebnis', 23526.54655627589), ('erstellen', 16230.44746471368), ('super', 15849.687351570607), ('klappen', 15722.347595441746), ('leistung', 10686.913573084868), ('zuverlässig', 9336.950548106519)]\n",
      "Topic 2:\n",
      "[('geben', 23649.451996156586), ('format', 22421.793754262344), ('finden', 21161.44003401107), ('foto', 16566.42597966091), ('möglichkeit', 15934.33975659593), ('top', 15762.815259784938), ('gerne', 14510.257808029002), ('lassen', 14142.081787870127), ('abzug', 10774.39638280361), ('teuer', 10612.570531151723)]\n",
      "Topic 3:\n",
      "[('qualität', 155200.2092453079), ('schnellen', 110231.14095283471), ('lieferung', 83298.12788525417), ('super', 49627.32304284835), ('preisen', 40614.233802161776), ('schnell', 34436.01429904946), ('bearbeitung', 30631.239528523358), ('zufrieden', 22946.31135157785), ('gestaltungsmöglichkeiten', 16859.295258050573), ('einfache', 14605.25857917018)]\n",
      "Topic 4:\n",
      "[('karte', 22951.9133041256), ('sehen', 19893.631951330637), ('preis', 19532.340956008025), ('ander', 18238.819279312997), ('anbieter', 13487.53688871432), ('versand', 10495.766157610025), ('online', 10205.61813450587), ('leistungsverhältnis', 9312.889356123309), ('liefern', 8008.467655734776), ('erfahrung', 7499.602279466165)]\n",
      "Topic 5:\n",
      "[('service', 47388.4314559894), ('qualität', 39967.24715124411), ('einfach', 33152.64077329365), ('produkt', 31826.663778114427), ('programm', 24699.157986918377), ('toll', 23270.970314023107), ('handhabung', 21067.6197962621), ('auswahl', 20231.4214795375), ('gestaltung', 18462.157386251012), ('software', 16822.336782652656)]\n",
      "Topic 6:\n",
      "[('fotobuch', 38317.94737587624), ('buchen', 22727.541249023063), ('problem', 13529.859167897695), ('danken', 12925.484203422366), ('buch', 11576.364259308193), ('arbeit', 10672.776422516747), ('geben', 9717.611089213566), ('bearbeiten', 9518.86394452545), ('kunde', 9166.032123491937), ('gutschein', 8985.981558834152)]\n",
      "Topic 7:\n",
      "[('filiale', 21020.980676562132), ('bekommen', 17268.065941499266), ('dm', 17044.162165140424), ('erhalten', 15693.327693658448), ('abholen', 10243.814656451845), ('auftrag', 9875.64972858953), ('12', 9635.432825575688), ('enttäuschen', 9381.50609779558), ('neu', 9200.15298263849), ('größe', 8949.59926601925)]\n",
      "Topic 8:\n",
      "[('tollen', 24139.51771622703), ('bestellung', 20723.971648385308), ('bedienung', 13851.151026210015), ('klein', 12158.272551725306), ('erstellung', 12118.400666772608), ('kalender', 10759.314438981544), ('lieferzeit', 10705.739990024575), ('funktionieren', 9390.91784439507), ('bildqualität', 9201.240520158415), ('ankommen', 9146.599207491687)]\n",
      "Topic 9:\n",
      "[('bild', 97153.06854444371), ('foto', 60669.86057203536), ('seite', 33624.86082834626), ('all', 18263.904018138903), ('schön', 16674.362540358274), ('farbe', 15602.519691668203), ('drucken', 14937.111381034681), ('schaden', 10635.723993378131), ('begeistern', 9378.00640454427), ('wünschen', 9091.697841452942)]\n"
     ]
    }
   ],
   "source": [
    "# Keywords for topics clustered by Latent Dirichlet Allocation\n",
    "print(\"LDA Model:\")\n",
    "selected_topics(lda, vectorizer)"
   ]
  },
  {
   "cell_type": "code",
   "execution_count": 171,
   "metadata": {},
   "outputs": [
    {
     "name": "stdout",
     "output_type": "stream",
     "text": [
      "[0.46791514 0.0978956  0.00714552 0.00714286 0.00714286 0.00714286\n",
      " 0.07377012 0.10327583 0.22142595 0.00714327]\n"
     ]
    }
   ],
   "source": [
    "# Transforming an individual sentence\n",
    "text = spacy_tokenizer(\"Habe bis heute mein Fotobuch noch nicht obwohl ich es im März bestellt habe. War ein Geburtstagsgeschenk doch dieser ist mittlerweile auch vorbei. Keiner weiß wo mein Buch geblieben ist. Schade oder- Vertrauen dahin. Werde ich nie wieder über Müller machen!\")\n",
    "x = lda.transform(vectorizer.transform([text]))[0]\n",
    "print(x)"
   ]
  },
  {
   "cell_type": "code",
   "execution_count": 172,
   "metadata": {},
   "outputs": [
    {
     "name": "stdout",
     "output_type": "stream",
     "text": [
      "[0.09999998 0.0999979  0.27171696 0.00909091 0.1101003  0.00909397\n",
      " 0.28181815 0.00909311 0.09999781 0.00909091]\n"
     ]
    }
   ],
   "source": [
    "# Transforming an individual sentence\n",
    "text = spacy_tokenizer(\"Teuer, aber gut. Ich schätze die vielen Möglichkeiten der Software, nutze regelmäßig das Forum und bei Problemen hilft der Kundendienst gut weiter.\")\n",
    "x = lda.transform(vectorizer.transform([text]))[0]\n",
    "print(x)"
   ]
  },
  {
   "cell_type": "code",
   "execution_count": 173,
   "metadata": {},
   "outputs": [
    {
     "name": "stdout",
     "output_type": "stream",
     "text": [
      "Hätte dennoch gewusst wie es zu der Reklamation im ersten cewe fotobuch kam. Oder worauf war der Fehler zurück zu führen und ist es möglich, das dieser Fehler noch einmal auftritt. Bedanke mich für die schnelle Antwort. \n",
      "[0.00714423 0.00714286 0.00714286 0.22142837 0.07857146 0.00714286\n",
      " 0.49815314 0.00714286 0.00714304 0.15898834]\n"
     ]
    }
   ],
   "source": [
    "# Transforming an individual sentence\n",
    "t = df_pd.iloc[-1]['TEXT']\n",
    "print(t)\n",
    "text = spacy_tokenizer(t)\n",
    "x = lda.transform(vectorizer.transform([text]))[0]\n",
    "print(x)"
   ]
  },
  {
   "cell_type": "code",
   "execution_count": 174,
   "metadata": {},
   "outputs": [
    {
     "name": "stdout",
     "output_type": "stream",
     "text": [
      "Bisher besteht kein Bedarf das jemand zu erpfehlen. Das ist ein individuelles Geschehen und an die Geiz ist Geil Mentalität gebunden\n",
      "[0.0125     0.0125     0.26249959 0.13749962 0.0125     0.0125\n",
      " 0.13750013 0.13750015 0.26249857 0.01250194]\n"
     ]
    }
   ],
   "source": [
    "# Transforming an individual sentence\n",
    "t = df_pd.iloc[-12]['TEXT']\n",
    "print(t)\n",
    "text = spacy_tokenizer(t)\n",
    "x = lda.transform(vectorizer.transform([text]))[0]\n",
    "print(x)"
   ]
  },
  {
   "cell_type": "markdown",
   "metadata": {},
   "source": [
    "# Visualization"
   ]
  },
  {
   "cell_type": "code",
   "execution_count": 175,
   "metadata": {},
   "outputs": [
    {
     "name": "stderr",
     "output_type": "stream",
     "text": [
      "C:\\Users\\zhouy\\AppData\\Local\\Continuum\\anaconda3\\lib\\site-packages\\pyLDAvis\\_prepare.py:257: FutureWarning: Sorting because non-concatenation axis is not aligned. A future version\n",
      "of pandas will change to not sort by default.\n",
      "\n",
      "To accept the future behavior, pass 'sort=False'.\n",
      "\n",
      "To retain the current behavior and silence the warning, pass 'sort=True'.\n",
      "\n",
      "  return pd.concat([default_term_info] + list(topic_dfs))\n"
     ]
    },
    {
     "data": {
      "text/html": [
       "\n",
       "<link rel=\"stylesheet\" type=\"text/css\" href=\"https://cdn.rawgit.com/bmabey/pyLDAvis/files/ldavis.v1.0.0.css\">\n",
       "\n",
       "\n",
       "<div id=\"ldavis_el4605228437048707361720184\"></div>\n",
       "<script type=\"text/javascript\">\n",
       "\n",
       "var ldavis_el4605228437048707361720184_data = {\"mdsDat\": {\"x\": [52.038333892822266, -52.66733932495117, 76.81417846679688, 135.15550231933594, 49.44746017456055, -95.24264526367188, -17.878446578979492, 30.59339141845703, 126.1493148803711, -21.95928382873535], \"y\": [80.98201751708984, -33.094512939453125, 157.56117248535156, 67.01764678955078, 1.7003754377365112, 65.8696060180664, 43.64503860473633, -78.07755279541016, -27.208585739135742, 135.57896423339844], \"topics\": [1, 2, 3, 4, 5, 6, 7, 8, 9, 10], \"cluster\": [1, 1, 1, 1, 1, 1, 1, 1, 1, 1], \"Freq\": [12.877972310808644, 11.84078062532145, 10.686061471944734, 10.606878831772283, 10.213452881397671, 10.155515429527123, 9.264943473626316, 8.50348825215877, 8.314856153191332, 7.536050570251682]}, \"tinfo\": {\"Category\": [\"Default\", \"Default\", \"Default\", \"Default\", \"Default\", \"Default\", \"Default\", \"Default\", \"Default\", \"Default\", \"Default\", \"Default\", \"Default\", \"Default\", \"Default\", \"Default\", \"Default\", \"Default\", \"Default\", \"Default\", \"Default\", \"Default\", \"Default\", \"Default\", \"Default\", \"Default\", \"Default\", \"Default\", \"Default\", \"Default\", \"Topic1\", \"Topic1\", \"Topic1\", \"Topic1\", \"Topic1\", \"Topic1\", \"Topic1\", \"Topic1\", \"Topic1\", \"Topic1\", \"Topic1\", \"Topic1\", \"Topic1\", \"Topic1\", \"Topic1\", \"Topic1\", \"Topic1\", \"Topic1\", \"Topic1\", \"Topic1\", \"Topic1\", \"Topic1\", \"Topic1\", \"Topic1\", \"Topic1\", \"Topic1\", \"Topic1\", \"Topic1\", \"Topic1\", \"Topic1\", \"Topic1\", \"Topic1\", \"Topic1\", \"Topic1\", \"Topic1\", \"Topic1\", \"Topic1\", \"Topic1\", \"Topic1\", \"Topic1\", \"Topic2\", \"Topic2\", \"Topic2\", \"Topic2\", \"Topic2\", \"Topic2\", \"Topic2\", \"Topic2\", \"Topic2\", \"Topic2\", \"Topic2\", \"Topic2\", \"Topic2\", \"Topic2\", \"Topic2\", \"Topic2\", \"Topic2\", \"Topic2\", \"Topic2\", \"Topic2\", \"Topic2\", \"Topic2\", \"Topic2\", \"Topic2\", \"Topic2\", \"Topic2\", \"Topic2\", \"Topic2\", \"Topic2\", \"Topic2\", \"Topic2\", \"Topic2\", \"Topic2\", \"Topic2\", \"Topic2\", \"Topic2\", \"Topic2\", \"Topic3\", \"Topic3\", \"Topic3\", \"Topic3\", \"Topic3\", \"Topic3\", \"Topic3\", \"Topic3\", \"Topic3\", \"Topic3\", \"Topic3\", \"Topic3\", \"Topic3\", \"Topic3\", \"Topic3\", \"Topic3\", \"Topic3\", \"Topic3\", \"Topic3\", \"Topic3\", \"Topic3\", \"Topic3\", \"Topic3\", \"Topic3\", \"Topic3\", \"Topic3\", \"Topic3\", \"Topic3\", \"Topic3\", \"Topic3\", \"Topic3\", \"Topic3\", \"Topic3\", \"Topic3\", \"Topic3\", \"Topic3\", \"Topic3\", \"Topic3\", \"Topic3\", \"Topic3\", \"Topic4\", \"Topic4\", \"Topic4\", \"Topic4\", \"Topic4\", \"Topic4\", \"Topic4\", \"Topic4\", \"Topic4\", \"Topic4\", \"Topic4\", \"Topic4\", \"Topic4\", \"Topic4\", \"Topic4\", \"Topic4\", \"Topic4\", \"Topic4\", \"Topic4\", \"Topic4\", \"Topic4\", \"Topic4\", \"Topic4\", \"Topic4\", \"Topic4\", \"Topic4\", \"Topic4\", \"Topic4\", \"Topic4\", \"Topic4\", \"Topic4\", \"Topic4\", \"Topic4\", \"Topic4\", \"Topic4\", \"Topic4\", \"Topic4\", \"Topic4\", \"Topic4\", \"Topic4\", \"Topic4\", \"Topic4\", \"Topic4\", \"Topic5\", \"Topic5\", \"Topic5\", \"Topic5\", \"Topic5\", \"Topic5\", \"Topic5\", \"Topic5\", \"Topic5\", \"Topic5\", \"Topic5\", \"Topic5\", \"Topic5\", \"Topic5\", \"Topic5\", \"Topic5\", \"Topic5\", \"Topic5\", \"Topic5\", \"Topic5\", \"Topic5\", \"Topic5\", \"Topic5\", \"Topic5\", \"Topic5\", \"Topic5\", \"Topic5\", \"Topic5\", \"Topic5\", \"Topic5\", \"Topic5\", \"Topic5\", \"Topic5\", \"Topic5\", \"Topic5\", \"Topic5\", \"Topic6\", \"Topic6\", \"Topic6\", \"Topic6\", \"Topic6\", \"Topic6\", \"Topic6\", \"Topic6\", \"Topic6\", \"Topic6\", \"Topic6\", \"Topic6\", \"Topic6\", \"Topic6\", \"Topic6\", \"Topic6\", \"Topic6\", \"Topic6\", \"Topic6\", \"Topic6\", \"Topic6\", \"Topic6\", \"Topic6\", \"Topic6\", \"Topic6\", \"Topic6\", \"Topic6\", \"Topic6\", \"Topic6\", \"Topic6\", \"Topic6\", \"Topic6\", \"Topic6\", \"Topic6\", \"Topic6\", \"Topic6\", \"Topic6\", \"Topic6\", \"Topic6\", \"Topic6\", \"Topic7\", \"Topic7\", \"Topic7\", \"Topic7\", \"Topic7\", \"Topic7\", \"Topic7\", \"Topic7\", \"Topic7\", \"Topic7\", \"Topic7\", \"Topic7\", \"Topic7\", \"Topic7\", \"Topic7\", \"Topic7\", \"Topic7\", \"Topic7\", \"Topic7\", \"Topic7\", \"Topic7\", \"Topic7\", \"Topic7\", \"Topic7\", \"Topic7\", \"Topic7\", \"Topic7\", \"Topic7\", \"Topic7\", \"Topic7\", \"Topic7\", \"Topic7\", \"Topic7\", \"Topic7\", \"Topic7\", \"Topic7\", \"Topic7\", \"Topic7\", \"Topic7\", \"Topic8\", \"Topic8\", \"Topic8\", \"Topic8\", \"Topic8\", \"Topic8\", \"Topic8\", \"Topic8\", \"Topic8\", \"Topic8\", \"Topic8\", \"Topic8\", \"Topic8\", \"Topic8\", \"Topic8\", \"Topic8\", \"Topic8\", \"Topic8\", \"Topic8\", \"Topic8\", \"Topic8\", \"Topic8\", \"Topic8\", \"Topic8\", \"Topic8\", \"Topic8\", \"Topic8\", \"Topic8\", \"Topic8\", \"Topic8\", \"Topic8\", \"Topic8\", \"Topic8\", \"Topic8\", \"Topic8\", \"Topic8\", \"Topic8\", \"Topic8\", \"Topic9\", \"Topic9\", \"Topic9\", \"Topic9\", \"Topic9\", \"Topic9\", \"Topic9\", \"Topic9\", \"Topic9\", \"Topic9\", \"Topic9\", \"Topic9\", \"Topic9\", \"Topic9\", \"Topic9\", \"Topic9\", \"Topic9\", \"Topic9\", \"Topic9\", \"Topic9\", \"Topic9\", \"Topic9\", \"Topic9\", \"Topic9\", \"Topic9\", \"Topic9\", \"Topic9\", \"Topic9\", \"Topic9\", \"Topic9\", \"Topic9\", \"Topic9\", \"Topic9\", \"Topic9\", \"Topic9\", \"Topic9\", \"Topic9\", \"Topic9\", \"Topic10\", \"Topic10\", \"Topic10\", \"Topic10\", \"Topic10\", \"Topic10\", \"Topic10\", \"Topic10\", \"Topic10\", \"Topic10\", \"Topic10\", \"Topic10\", \"Topic10\", \"Topic10\", \"Topic10\", \"Topic10\", \"Topic10\", \"Topic10\", \"Topic10\", \"Topic10\", \"Topic10\", \"Topic10\", \"Topic10\", \"Topic10\", \"Topic10\", \"Topic10\", \"Topic10\", \"Topic10\", \"Topic10\", \"Topic10\", \"Topic10\", \"Topic10\", \"Topic10\", \"Topic10\", \"Topic10\", \"Topic10\"], \"Freq\": [183045.0, 102232.0, 96501.0, 98682.0, 77253.0, 70162.0, 93399.0, 76939.0, 46370.0, 73745.0, 54366.0, 49802.0, 47552.0, 37667.0, 43670.0, 31143.0, 42373.0, 31511.0, 33399.0, 41246.0, 24039.0, 24828.0, 28409.0, 24127.0, 23370.0, 31481.0, 33634.0, 22771.0, 20836.0, 44744.0, 96500.36494149757, 33398.95887650843, 15497.697260731487, 14836.759363727588, 10564.269993268572, 9030.617074505273, 7158.214691540068, 6833.34276128752, 6649.533761666395, 6168.556392462817, 5968.445301175394, 5777.068902008423, 5769.092245325375, 5629.485405335268, 5052.155696384951, 4670.72970410454, 4650.360704192303, 4511.84477436801, 4430.190411511654, 4366.805867583096, 4250.7162437231445, 4228.29573574422, 4053.3447830570976, 3887.7991180972435, 3597.5051482122562, 3256.19885644512, 3004.7377190174634, 2889.17475545532, 2834.8863328962984, 2777.216605287975, 60262.2621587388, 18141.20160497685, 9315.00213035711, 16562.339146038583, 4322.230811119365, 4136.742148878995, 5746.252029110695, 4683.196921611248, 5026.358986663564, 4673.281986294133, 102231.17676589171, 77252.81224975186, 37666.67821043978, 28408.19423377575, 15635.741214105663, 13545.290002555363, 10712.552737000411, 10153.963819365483, 8739.383731112159, 6153.925854004977, 5919.81115784447, 5424.888922224083, 5397.059194406172, 4265.848727882183, 4145.853187477867, 3686.7735018775334, 3359.0358295503893, 3317.4164975116664, 2901.106728985438, 2758.443197481501, 2551.919638498884, 2382.5619381816805, 2379.940763682466, 2289.494588755109, 2183.7223706199943, 1950.3422116354884, 1947.2231153898401, 1911.8197688026908, 1800.3863327486854, 1740.46351771969, 143936.63975817204, 31936.83957626103, 46025.647476353835, 21280.99547578907, 9908.275313926964, 2600.5602931059066, 3638.5549323106497, 22570.6044636583, 15867.431141395216, 14606.56061866031, 14235.941059177916, 10845.904736979486, 10280.542286787311, 8906.411879657946, 7274.669461777582, 7115.4833341709245, 6847.53351203752, 6709.181476542821, 6577.62560640506, 5794.931358254561, 5760.072899133977, 5610.5611463318855, 5521.610388666246, 5450.716436527466, 4976.555719359535, 4899.254258110349, 4661.975536190898, 4042.822414465279, 4020.815343164631, 3705.18418435693, 3654.2812699958095, 3613.8859213282085, 3568.2393674453856, 3479.93831537917, 3436.934157554136, 3205.9611544571635, 3187.1428366929217, 23806.410523513685, 10683.004866895048, 21301.8859295453, 16040.094025363318, 6258.570264821759, 6903.655557474017, 6972.8603664990305, 16676.375327568025, 6167.016185082447, 4203.699343148757, 70161.72704797797, 31510.71096193545, 11877.289982854918, 11870.95951700817, 10910.751598932306, 9807.688007334002, 9335.41895971322, 8126.779793682277, 5641.594585824038, 5275.12762309316, 5229.2530291604635, 4961.881885162133, 4890.903682596967, 4824.255288821515, 4580.05747641646, 4365.345465586961, 4350.465653706927, 4175.822397347508, 4156.048362611681, 3912.098739044536, 3499.2268048042297, 3270.680868464325, 2858.3692050571885, 2828.3074311861906, 2684.3981668465544, 2670.8442342582307, 2513.238586178026, 2494.26976447955, 2481.431303233993, 2370.1387062483527, 34860.48907417257, 31307.336477120025, 58084.99759842222, 9452.231505366528, 11748.98792602367, 15614.389032218736, 6136.2600674727155, 4128.545075465583, 6472.839112017915, 7857.147774502943, 5865.188864024831, 6643.1558359037035, 6517.4320234756, 21522.05591956995, 17679.683290425295, 17450.44233970358, 16067.408147310587, 10487.995553493996, 9865.111779133933, 9605.132222573555, 9069.123995511585, 9004.389921506907, 8982.341834722054, 7401.365427325429, 7223.848750699709, 6878.248788698489, 6747.32100988025, 6430.992676963668, 6199.63735211834, 4826.3540323536445, 4730.279437545123, 4329.905080691528, 4189.030692820265, 4072.86439829356, 4058.6931974745703, 3840.731846177498, 3781.4845165022048, 3761.970676568639, 3417.871695938007, 3343.5931803826516, 3329.3219338150802, 3277.4260310261675, 3192.8058348065892, 9419.456209372565, 10111.054711056904, 9162.930066139494, 7032.681487989462, 5997.355036769666, 3999.453113320257, 13682.799866619302, 13071.593084590688, 10793.420833009368, 9626.464599095887, 9269.644388784229, 9087.558543579744, 8309.826761112407, 7987.762303611433, 7664.256649842843, 6122.183342816929, 5983.777915146676, 5916.232805083674, 5828.708064666733, 5758.2493230684395, 5666.687375057556, 4801.649627939128, 4489.263988697639, 4169.549010637653, 4103.1515137504075, 3908.4468384877864, 3838.673529315022, 3596.1223291288675, 3486.4732631380525, 3441.960000816243, 3420.2791735932415, 3332.111272095362, 3320.3008736623788, 3057.0464874421305, 3004.940951611981, 2958.138328625974, 38751.09110431572, 22984.451982218063, 6574.172918098759, 5082.962724269182, 11707.222771322515, 5253.339628486589, 8580.286457225648, 8292.782999901894, 9827.458369325357, 8809.681518115896, 46369.69553566227, 31142.46798140292, 22770.701099968643, 20614.717254801544, 19796.49516635864, 18065.265944221028, 12246.758540227434, 9963.428203682353, 9727.026744774406, 8853.084987951435, 6831.498646897234, 6587.189560488362, 6383.5549665830695, 5083.3786463814595, 5054.413642016498, 4873.6849987277365, 4861.754452844407, 4451.295251450595, 4296.713761406036, 4129.273818378579, 4003.1050937579676, 3977.1874105017814, 3680.473522620121, 3441.561132645012, 3292.2667744854607, 3154.4966584315393, 2938.3263621104647, 2872.4700741073702, 2810.41199868387, 2564.0500401699546, 24168.186214483227, 32439.93969896452, 4749.567425796292, 39108.04862834347, 16460.697491842948, 10471.838441211365, 14033.123506102616, 11974.625294935406, 9308.568149017057, 24827.11387146703, 14245.690730906284, 12504.591875880924, 12463.584270027837, 11010.685007678829, 9658.41113402447, 9463.330992696998, 9407.13326299872, 8645.957992252772, 7422.642357737325, 6891.051423705885, 6648.8467126241185, 5974.548143191537, 5214.730488182809, 4997.490893532373, 4566.9399838574855, 4541.669877703754, 3970.472048525269, 3910.403916811926, 3834.2031693246427, 3788.9188965230537, 3593.827163862919, 3453.6464397228724, 3228.9757002077504, 3117.157804183611, 3079.207638564718, 2988.871860910758, 2917.739937848084, 2907.0789256329585, 2744.4172793998296, 6387.233686191089, 8456.140659255978, 21314.278521714165, 5267.170745425254, 11065.785484850403, 7312.271449921509, 3846.4783283141405, 6321.145166891191, 24126.604290376425, 23369.767420222226, 15617.575054055249, 10615.69678514446, 9274.729812189908, 7942.143225523624, 7718.708139038636, 7097.979780910169, 5666.480367093494, 4880.523576224717, 4827.693881339043, 4614.157148220064, 4470.288971857233, 4348.17322422246, 4090.0852705724847, 3875.458843543595, 3649.417297985287, 3617.730535924043, 3567.7387686156367, 3445.041613744157, 3396.303003717473, 3382.2482414672354, 3215.264072887989, 3085.5649497414784, 2954.174401353823, 2932.10472006428, 2795.5906307642376, 2613.2441491423588, 2501.530899185803, 2456.0830572418945, 66241.58767228186, 33341.24582985481, 30988.94581230922, 16122.288984029085, 15744.066227630636, 4781.286762572219, 4577.281622481901, 4271.971587375963, 24039.080165917152, 20835.936722683917, 20457.532400364384, 14126.403154820582, 10992.92075228235, 10689.029242456483, 9754.014440614137, 7854.837111822666, 6244.631830974294, 5689.012125090816, 5570.590550152504, 4895.53816710978, 4892.021168975294, 4771.55017086224, 4709.266804172987, 4505.637204226239, 4126.821932875622, 4025.1137635425616, 3827.3690347781985, 3781.8710254012726, 3635.4034109274025, 3489.731528019577, 3421.6129213319023, 3382.289156076614, 2743.7918911968845, 2677.256756175861, 2418.429990537673, 2371.905015105621, 2347.683325189669, 2286.321163804135, 19102.74028040487, 6865.780037304661, 8387.80599383661, 3717.2539783157495, 7354.012297701781, 3099.8610070297054], \"Term\": [\"qualit\\u00e4t\", \"schnellen\", \"bild\", \"einfach\", \"lieferung\", \"bestellen\", \"zufrieden\", \"foto\", \"service\", \"super\", \"fotobuch\", \"software\", \"sch\\u00f6n\", \"preisen\", \"cewe\", \"produkt\", \"kalender\", \"fotob\\u00fccher\", \"seite\", \"schnell\", \"karte\", \"tollen\", \"bearbeitung\", \"gestalten\", \"ergebnis\", \"programm\", \"geben\", \"toll\", \"sehen\", \"bestellung\", \"bild\", \"seite\", \"farbe\", \"drucken\", \"schaden\", \"w\\u00fcnschen\", \"\\u00e4rgerlich\", \"unterschiedlich\", \"app\", \"ordnung\", \"dunkeln\", \"ware\", \"w\\u00e4hlen\", \"matt\", \"teilweise\", \"manchmal\", \"einzeln\", \"bitte\", \"anzeigen\", \"schwierig\", \"unscharf\", \"ausw\\u00e4hlen\", \"bindung\", \"manch\", \"erkennen\", \"dunkel\", \"bilder\", \"erscheinen\", \"aussehen\", \"passen\", \"foto\", \"all\", \"begeistern\", \"sch\\u00f6n\", \"deutlich\", \"fall\", \"jed\", \"letzt\", \"ander\", \"buchen\", \"schnellen\", \"lieferung\", \"preisen\", \"bearbeitung\", \"gestaltungsm\\u00f6glichkeiten\", \"einfache\", \"g\\u00fcnstig\", \"stimmen\", \"abwicklung\", \"reklamation\", \"entsprechen\", \"voll\", \"versandkosten\", \"letzte\", \"verarbeitung\", \"preiswert\", \"100\", \"z\\u00fcgig\", \"rundum\", \"schnelligkeit\", \"hochladen\", \"postkarte\", \"reibungslos\", \"artikel\", \"erwartung\", \"liefertermin\", \"termin\", \"vorstellung\", \"erledigung\", \"stets\", \"qualit\\u00e4t\", \"schnell\", \"super\", \"zufrieden\", \"bestellung\", \"vielf\\u00e4ltig\", \"auftrag\", \"format\", \"top\", \"gerne\", \"lassen\", \"abzug\", \"rahmen\", \"verschieden\", \"freundlich\", \"dauern\", \"angebot\", \"individuell\", \"welch\", \"einf\\u00fcgen\", \"cm\", \"pers\\u00f6nlich\", \"nutzen\", \"gru\\u00dfkarten\", \"etc\", \"anwendung\", \"cliparts\", \"bestimmen\", \"paar\", \"klaren\", \"l\\u00e4sst\", \"internet\", \"15\", \"erinnerung\", \"verschicken\", \"m\\u00fcsste\", \"schwer\", \"geben\", \"teuer\", \"finden\", \"m\\u00f6glichkeit\", \"wei\\u00df\", \"n\\u00e4chst\", \"hintergrund\", \"foto\", \"bestellung\", \"karten\", \"bestellen\", \"fotob\\u00fccher\", \"einig\", \"obwohl\", \"mehrer\", \"empfehlen\", \"weihnachten\", \"rand\", \"laufen\", \"fast\", \"weiterempfehlen\", \"bestens\", \"zufriedenheit\", \"hab\", \"p\\u00fcnktlich\", \"vergleichen\", \"kundenservice\", \"bieten\", \"kosten\", \"echt\", \"30\", \"mehrfach\", \"fotobuchs\", \"einhalten\", \"erkl\\u00e4ren\", \"gelingen\", \"denken\", \"fotoabz\\u00fcge\", \"wandbild\", \"kaufen\", \"cewe\", \"kalender\", \"zufrieden\", \"malen\", \"mal\", \"fotobuch\", \"10\", \"nehmen\", \"letzt\", \"erstellen\", \"gr\\u00f6\\u00dfe\", \"buch\", \"ander\", \"filiale\", \"bekommen\", \"dm\", \"erhalten\", \"abholen\", \"12\", \"entt\\u00e4uschen\", \"ausf\\u00fchrung\", \"mail\", \"markt\", \"sp\\u00e4t\", \"per\", \"falsch\", \"relativ\", \"fallen\", \"eigentlich\", \"fr\\u00fch\", \"verst\\u00e4ndlich\", \"somit\", \"reklamieren\", \"euro\", \"fotopapier\", \"version\", \"umschlag\", \"verschieben\", \"positiv\", \"versenden\", \"optimal\", \"email\", \"grund\", \"neu\", \"auftrag\", \"gr\\u00f6\\u00dfe\", \"liefern\", \"finden\", \"malen\", \"problem\", \"danken\", \"arbeit\", \"bearbeiten\", \"kunde\", \"gutschein\", \"bitten\", \"ok\", \"papier\", \"erwarten\", \"\\u00e4ndern\", \"fertigen\", \"angeben\", \"stehen\", \"frage\", \"ca\", \"diesmal\", \"bekennen\", \"freunden\", \"antwort\", \"hilfe\", \"nachbestellung\", \"fragen\", \"passieren\", \"st\\u00f6ren\", \"ziemlich\", \"schreiben\", \"siehe\", \"freund\", \"stark\", \"fotobuch\", \"buchen\", \"fehler\", \"pc\", \"buch\", \"freuen\", \"jed\", \"mal\", \"geben\", \"cewe\", \"service\", \"produkt\", \"toll\", \"handhabung\", \"auswahl\", \"gestaltung\", \"sch\\u00f6ne\", \"bedienen\", \"unkompliziert\", \"abholung\", \"genau\", \"extrem\", \"prima\", \"qualitativ\", \"total\", \"vorliegen\", \"verwenden\", \"unkomplizierte\", \"r\\u00fcckseite\", \"sache\", \"unzufrieden\", \"schrift\", \"leichte\", \"hervorragen\", \"handling\", \"telefonisch\", \"individuelle\", \"papierqualit\\u00e4t\", \"zahlen\", \"ecke\", \"programm\", \"einfach\", \"arbeiten\", \"qualit\\u00e4t\", \"software\", \"m\\u00f6glichkeit\", \"zufrieden\", \"super\", \"schnell\", \"tollen\", \"bedienung\", \"klein\", \"erstellung\", \"lieferzeit\", \"funktionieren\", \"bildqualit\\u00e4t\", \"ankommen\", \"schade\", \"liegen\", \"text\", \"woche\", \"klasse\", \"bleiben\", \"verschenken\", \"passt\", \"alt\", \"hilfreich\", \"postkarten\", \"warten\", \"vorher\", \"hochwertig\", \"sichern\", \"langen\", \"porto\", \"fotoqualit\\u00e4t\", \"sogar\", \"rechnung\", \"innerhalb\", \"brauchen\", \"fotobuches\", \"geschenk\", \"bestellung\", \"\\u00fcberzeugen\", \"kalender\", \"programm\", \"problemlos\", \"finden\", \"gestalten\", \"ergebnis\", \"klappen\", \"leistung\", \"zuverl\\u00e4ssig\", \"perfekt\", \"design\", \"fotob\\u00fcchern\", \"spa\\u00dfen\", \"gefallen\", \"idee\", \"\\u00fcbersichtlich\", \"eher\", \"motiv\", \"bedienbarkeit\", \"freude\", \"schneller\", \"handhaben\", \"funktion\", \"speichern\", \"selber\", \"vorstellen\", \"einwandfrei\", \"hoffen\", \"lieb\", \"praktisch\", \"bequemen\", \"kennen\", \"zurecht\", \"paket\", \"einfach\", \"software\", \"sch\\u00f6n\", \"erstellen\", \"super\", \"buch\", \"buchen\", \"finden\", \"karte\", \"sehen\", \"preis\", \"anbieter\", \"versand\", \"online\", \"leistungsverh\\u00e4ltnis\", \"erfahrung\", \"erfolgen\", \"layout\", \"verbessern\", \"verh\\u00e4ltnis\", \"poster\", \"mitarbeiter\", \"gleichen\", \"verpackung\", \"abschneiden\", \"hotline\", \"weg\", \"danke\", \"umst\\u00e4ndlich\", \"leistungs\", \"meist\", \"rossmann\", \"gr\\u00fc\\u00dfen\", \"leinwand\", \"doppeln\", \"scharf\", \"ausprobieren\", \"ausdrucken\", \"ander\", \"fehlen\", \"liefern\", \"sagen\", \"bestellung\", \"teuer\"], \"Total\": [183045.0, 102232.0, 96501.0, 98682.0, 77253.0, 70162.0, 93399.0, 76939.0, 46370.0, 73745.0, 54366.0, 49802.0, 47552.0, 37667.0, 43670.0, 31143.0, 42373.0, 31511.0, 33399.0, 41246.0, 24039.0, 24828.0, 28409.0, 24127.0, 23370.0, 31481.0, 33634.0, 22771.0, 20836.0, 44744.0, 96501.26587338044, 33399.8598138182, 15498.598177451395, 14837.660311705265, 10565.170993860409, 9031.518043144006, 7159.1157546227205, 6834.24370122596, 6650.434725182833, 6169.45737298344, 5969.3461717066275, 5777.9699425352765, 5769.993211717238, 5630.3863187298075, 5053.056622066273, 4671.630652387083, 4651.261650680625, 4512.745785609393, 4431.0913377848165, 4367.706836521614, 4251.6171151950175, 4229.196681192588, 4054.2457288258997, 3888.700032254285, 3598.406075590572, 3257.099720430849, 3005.638651238882, 2890.075689456401, 2835.7872714428213, 2778.117548237713, 76939.43776881564, 21132.28646239031, 11618.710940503614, 47552.08657337464, 5405.203277856866, 5708.471359779736, 17662.692403764097, 14141.580657961744, 30647.22837603493, 32235.71606272191, 102232.08423315437, 77253.71974068029, 37667.585726371355, 28409.101723963136, 15636.648770685844, 13546.19747135185, 10713.460247925666, 10154.87136276748, 8740.291191655731, 6154.833542315648, 5920.718817467492, 5425.796504987118, 5397.9668574460275, 4266.756509528686, 4146.760690346329, 3687.6809830462557, 3359.943576427587, 3318.323981914426, 2902.014227278828, 2759.35065270482, 2552.8273971326166, 2383.4696297390547, 2380.8482615112575, 2290.40223897745, 2184.6298545913346, 1951.249905201548, 1948.1308095727177, 1912.7272920711266, 1801.293764626982, 1741.3711529603572, 183045.49804333135, 41246.217335367044, 73745.0493048791, 93399.82711520002, 44744.181625318, 3542.628668795135, 13750.414775390962, 22571.504037416482, 15868.330741330632, 14607.46022581934, 14236.840724177611, 10846.804324090628, 10281.441866989235, 8907.31149102499, 7275.569155756611, 7116.382998627466, 6848.433094771654, 6710.081063977336, 6578.525249386798, 5795.830951304725, 5760.972455015038, 5611.460747343593, 5522.510008694547, 5451.616041781466, 4977.455332132565, 4900.153867122263, 4662.875084001035, 4043.722031920396, 4021.71497318397, 3706.0838098690456, 3655.1809314775505, 3614.7855744607814, 3569.139043826866, 3480.8379185440126, 3437.83384305635, 3206.860795524257, 3188.0424653420287, 33634.66738882146, 13783.660732525326, 37892.95276462468, 26512.734221014296, 7783.551944401818, 9044.357029075953, 10604.57314004626, 76939.43776881564, 44744.181625318, 8351.968163308396, 70162.62820992012, 31511.61209111944, 11878.191172711995, 11871.860723404961, 10911.65277176989, 9808.589121556648, 9336.320105669583, 8127.681024697628, 5642.495753236102, 5276.02882108936, 5230.154139010775, 4962.782985647286, 4891.804797457202, 4825.156451717366, 4580.9586224097775, 4366.246645522933, 4351.366836392114, 4176.723594572666, 4156.949568497044, 3912.9999198291594, 3500.1279876829108, 3271.5820344518193, 2859.270422579544, 2829.208586043653, 2685.299373850748, 2671.7454213212873, 2514.1398074931208, 2495.170903046102, 2482.3324569775, 2371.039896924043, 43670.970606220275, 42373.920264565524, 93399.82711520002, 13452.483403506287, 20042.570965173774, 54366.280170270984, 11446.760801461107, 5664.7943541343675, 14141.580657961744, 26941.65400921304, 15028.917751413888, 25862.68126297156, 30647.22837603493, 21522.953751551977, 17680.581180645233, 17451.340187943784, 16068.306015943732, 10488.893386888594, 9866.009596827256, 9606.030132913824, 9070.021860294406, 9005.287743520512, 8983.23966336571, 7402.263290944981, 7224.7466139248245, 6879.146670838551, 6748.218928282537, 6431.890587075693, 6200.535280925039, 4827.251947307028, 4731.177346536181, 4330.8030044863135, 4189.928584881269, 4073.7623164625343, 4059.591143548108, 3841.629763610542, 3782.3823970513513, 3762.868656114689, 3418.7696083741475, 3344.4910623300752, 3330.219850409917, 3278.32385477377, 3193.7037623519627, 11996.324201677418, 13750.414775390962, 15028.917751413888, 15421.280626335936, 37892.95276462468, 13452.483403506287, 13683.699009834922, 13072.492190676752, 10794.319938340259, 9627.3637619196, 9270.543517648784, 9088.457648879952, 8310.725898244342, 7988.661436682292, 7665.155806689546, 6123.082491392878, 5984.677098588758, 5917.131964597121, 5829.607265364457, 5759.1485201470905, 5667.586481787562, 4802.548809656954, 4490.163162114475, 4170.448108130661, 4104.050613872833, 3909.345962800228, 3839.572657137648, 3597.021449405512, 3487.372371379931, 3442.8591672039333, 3421.1783516803243, 3333.0104445799657, 3321.200035666923, 3057.9455706334916, 3005.8400538199153, 2959.0375069278653, 54366.280170270984, 32235.71606272191, 8086.283019804948, 6569.5304658611985, 25862.68126297156, 7006.510366988637, 17662.692403764097, 20042.570965173774, 33634.66738882146, 43670.970606220275, 46370.59790834087, 31143.37041226036, 22771.60346461184, 20615.619600282243, 19797.39757370491, 18066.168352319877, 12247.660919980759, 9964.330562381409, 9727.929106342539, 8853.987492906228, 6832.401177211198, 6588.092055732621, 6384.457352208533, 5084.281058335959, 5055.316097215201, 4874.587430051467, 4862.657003653986, 4452.197615939981, 4297.616290350316, 4130.176245140198, 4004.0076449519343, 3978.089950341067, 3681.375886355872, 3442.463518424662, 3293.169131787752, 3155.399222059142, 2939.228754809019, 2873.372549023503, 2811.3145960864445, 2564.952621408933, 31481.257252836145, 98682.33041798952, 6232.8715188112465, 183045.49804333135, 49802.74641763545, 26512.734221014296, 93399.82711520002, 73745.0493048791, 41246.217335367044, 24828.01126968202, 14246.58813099711, 12505.489329371325, 12464.481675186771, 11011.58238990701, 9659.308537812314, 9464.228384716553, 9408.030659155991, 8646.85544304659, 7423.539817794284, 6891.948856092136, 6649.744136826505, 5975.445539525241, 5215.627920952319, 4998.388324589642, 4567.837403800106, 4542.567335831701, 3971.3695106103464, 3911.301332017785, 3835.100589915241, 3789.816366795875, 3594.7245836845746, 3454.5438816715646, 3229.8731022936063, 3118.0552291345443, 3080.105033099647, 2989.7693145353533, 2918.637341586732, 2907.976361466321, 2745.3147250628363, 7403.062793464674, 11582.406722741816, 44744.181625318, 7241.396438044459, 42373.920264565524, 31481.257252836145, 5606.29078738749, 37892.95276462468, 24127.50521882415, 23370.668310324185, 15618.475953925452, 10616.59768483812, 9275.630690977037, 7943.044118461404, 7719.609066965747, 7098.880755088437, 5667.381243492495, 4881.424518487404, 4828.594784837306, 4615.058029987573, 4471.189990773765, 4349.074195050037, 4090.9861796206783, 3876.359758675998, 3650.3181849787916, 3618.6313914535376, 3568.6397547119277, 3445.942636144728, 3397.203969080447, 3383.149170604095, 3216.1650135517566, 3086.466016974718, 2955.0754299411587, 2933.0056295531444, 2796.4915073351494, 2614.1451033797543, 2502.4318193900413, 2456.984140990181, 98682.33041798952, 49802.74641763545, 47552.08657337464, 26941.65400921304, 73745.0493048791, 25862.68126297156, 32235.71606272191, 37892.95276462468, 24039.97567055204, 20836.832269988285, 20458.42785746504, 14127.298642393402, 10993.816267472184, 10689.924783798475, 9754.909880235607, 7855.732590190477, 6245.5273796571155, 5689.9076690984375, 5571.486088349038, 4896.433609324473, 4892.916686702991, 4772.445711030764, 4710.162373609673, 4506.532703413309, 4127.71748017385, 4026.0093043908337, 3828.264599875502, 3782.7665187289044, 3636.2989525961984, 3490.626948486922, 3422.5084653410995, 3383.1847044177275, 2744.6874689749916, 2678.15226492883, 2419.3255367544903, 2372.800555247966, 2348.5788318609684, 2287.216721381507, 30647.22837603493, 10154.919890611696, 15421.280626335936, 6711.039236185483, 44744.181625318, 13783.660732525326], \"loglift\": [30.0, 29.0, 28.0, 27.0, 26.0, 25.0, 24.0, 23.0, 22.0, 21.0, 20.0, 19.0, 18.0, 17.0, 16.0, 15.0, 14.0, 13.0, 12.0, 11.0, 10.0, 9.0, 8.0, 7.0, 6.0, 5.0, 4.0, 3.0, 2.0, 1.0, 2.0496, 2.0496, 2.0496, 2.0496, 2.0496, 2.0496, 2.0495, 2.0495, 2.0495, 2.0495, 2.0495, 2.0495, 2.0495, 2.0495, 2.0495, 2.0495, 2.0495, 2.0495, 2.0494, 2.0494, 2.0494, 2.0494, 2.0494, 2.0494, 2.0494, 2.0494, 2.0494, 2.0493, 2.0493, 2.0493, 1.8053, 1.897, 1.8287, 0.995, 1.8261, 1.7276, 0.9267, 0.9445, 0.2418, 0.1184, 2.1336, 2.1336, 2.1336, 2.1336, 2.1336, 2.1336, 2.1335, 2.1335, 2.1335, 2.1335, 2.1335, 2.1335, 2.1335, 2.1334, 2.1334, 2.1334, 2.1334, 2.1333, 2.1333, 2.1333, 2.1333, 2.1332, 2.1332, 2.1332, 2.1332, 2.1332, 2.1332, 2.1331, 2.1331, 2.1331, 1.8933, 1.8778, 1.6622, 0.6545, 0.626, 1.8245, 0.8041, 2.2362, 2.2362, 2.2362, 2.2362, 2.2361, 2.2361, 2.2361, 2.2361, 2.2361, 2.2361, 2.2361, 2.2361, 2.2361, 2.2361, 2.2361, 2.2361, 2.2361, 2.236, 2.236, 2.236, 2.236, 2.236, 2.236, 2.236, 2.236, 2.236, 2.236, 2.236, 2.2359, 2.2359, 1.8906, 1.9814, 1.6603, 1.7337, 2.0182, 1.9661, 1.817, 0.7072, 0.2545, 1.5497, 2.2437, 2.2436, 2.2436, 2.2436, 2.2436, 2.2436, 2.2436, 2.2436, 2.2435, 2.2435, 2.2435, 2.2435, 2.2435, 2.2435, 2.2435, 2.2435, 2.2435, 2.2435, 2.2435, 2.2434, 2.2434, 2.2434, 2.2434, 2.2433, 2.2433, 2.2433, 2.2433, 2.2433, 2.2433, 2.2433, 2.0183, 1.941, 1.7687, 1.8908, 1.7096, 0.9961, 1.6202, 1.9273, 1.4622, 1.0114, 1.3027, 0.8845, 0.6956, 2.2814, 2.2814, 2.2814, 2.2814, 2.2814, 2.2814, 2.2814, 2.2814, 2.2814, 2.2814, 2.2813, 2.2813, 2.2813, 2.2813, 2.2813, 2.2813, 2.2813, 2.2813, 2.2813, 2.2813, 2.2812, 2.2812, 2.2812, 2.2812, 2.2812, 2.2812, 2.2812, 2.2812, 2.2812, 2.2812, 2.0396, 1.974, 1.7867, 1.4963, 0.438, 1.0685, 2.2871, 2.2871, 2.2871, 2.2871, 2.2871, 2.2871, 2.287, 2.287, 2.287, 2.287, 2.287, 2.287, 2.287, 2.287, 2.287, 2.287, 2.287, 2.2869, 2.2869, 2.2869, 2.2869, 2.2869, 2.2869, 2.2869, 2.2869, 2.2869, 2.2869, 2.2869, 2.2869, 2.2868, 1.9486, 1.9489, 2.0801, 2.0306, 1.4946, 1.9992, 1.5652, 1.4047, 1.0568, 0.6863, 2.3789, 2.3789, 2.3789, 2.3789, 2.3789, 2.3789, 2.3789, 2.3788, 2.3788, 2.3788, 2.3788, 2.3788, 2.3788, 2.3788, 2.3788, 2.3787, 2.3787, 2.3787, 2.3787, 2.3787, 2.3787, 2.3787, 2.3787, 2.3787, 2.3787, 2.3786, 2.3786, 2.3786, 2.3786, 2.3786, 2.1146, 1.2664, 2.1071, 0.8355, 1.2718, 1.45, 0.4835, 0.5611, 0.8903, 2.4647, 2.4646, 2.4646, 2.4646, 2.4646, 2.4646, 2.4646, 2.4646, 2.4646, 2.4646, 2.4646, 2.4646, 2.4645, 2.4645, 2.4645, 2.4645, 2.4645, 2.4645, 2.4645, 2.4645, 2.4645, 2.4644, 2.4644, 2.4644, 2.4644, 2.4644, 2.4644, 2.4644, 2.4644, 2.4644, 2.3171, 2.1501, 1.7231, 2.1464, 1.122, 1.0049, 2.088, 0.6738, 2.4871, 2.4871, 2.4871, 2.487, 2.487, 2.487, 2.487, 2.487, 2.487, 2.4869, 2.4869, 2.4869, 2.4869, 2.4869, 2.4869, 2.4869, 2.4869, 2.4869, 2.4869, 2.4869, 2.4869, 2.4869, 2.4868, 2.4868, 2.4868, 2.4868, 2.4868, 2.4868, 2.4868, 2.4868, 2.0885, 2.0859, 2.0589, 1.9737, 0.943, 0.799, 0.5352, 0.3044, 2.5854, 2.5854, 2.5854, 2.5854, 2.5854, 2.5854, 2.5854, 2.5854, 2.5853, 2.5853, 2.5853, 2.5853, 2.5853, 2.5853, 2.5853, 2.5853, 2.5853, 2.5852, 2.5852, 2.5852, 2.5852, 2.5852, 2.5852, 2.5852, 2.5851, 2.5851, 2.5851, 2.5851, 2.5851, 2.5851, 2.1128, 2.1941, 1.9765, 1.9947, 0.7798, 1.0933], \"logprob\": [30.0, 29.0, 28.0, 27.0, 26.0, 25.0, 24.0, 23.0, 22.0, 21.0, 20.0, 19.0, 18.0, 17.0, 16.0, 15.0, 14.0, 13.0, 12.0, 11.0, 10.0, 9.0, 8.0, 7.0, 6.0, 5.0, 4.0, 3.0, 2.0, 1.0, -2.1143, -3.1753, -3.9431, -3.9867, -4.3264, -4.4832, -4.7156, -4.762, -4.7893, -4.8644, -4.8973, -4.9299, -4.9313, -4.9558, -5.064, -5.1425, -5.1469, -5.1771, -5.1954, -5.2098, -5.2367, -5.242, -5.2843, -5.326, -5.4036, -5.5033, -5.5836, -5.6229, -5.6418, -5.6624, -2.5851, -3.7856, -4.4522, -3.8767, -5.2201, -5.2639, -4.9353, -5.1399, -5.0691, -5.142, -1.9726, -2.2528, -2.9711, -3.2532, -3.8503, -3.9938, -4.2284, -4.282, -4.432, -4.7828, -4.8216, -4.9089, -4.914, -5.1492, -5.1778, -5.2951, -5.3882, -5.4007, -5.5348, -5.5852, -5.663, -5.7317, -5.7328, -5.7715, -5.8188, -5.9319, -5.9335, -5.9518, -6.0119, -6.0457, -1.6305, -3.1361, -2.7707, -3.542, -4.3065, -5.6441, -5.3083, -3.3806, -3.733, -3.8158, -3.8415, -4.1135, -4.167, -4.3105, -4.5129, -4.535, -4.5734, -4.5938, -4.6136, -4.7403, -4.7463, -4.7726, -4.7886, -4.8015, -4.8925, -4.9082, -4.9578, -5.1003, -5.1058, -5.1875, -5.2014, -5.2125, -5.2252, -5.2502, -5.2627, -5.3322, -5.3381, -3.3273, -4.1286, -3.4385, -3.7222, -4.6633, -4.5652, -4.5552, -3.6833, -4.678, -5.0613, -2.239, -3.0395, -4.0152, -4.0157, -4.1001, -4.2066, -4.256, -4.3947, -4.7596, -4.8268, -4.8355, -4.888, -4.9024, -4.9162, -4.9681, -5.0161, -5.0195, -5.0605, -5.0653, -5.1257, -5.2373, -5.3048, -5.4396, -5.4501, -5.5024, -5.5074, -5.5682, -5.5758, -5.581, -5.6269, -2.9385, -3.046, -2.4279, -4.2436, -4.026, -3.7416, -4.6756, -5.0719, -4.6222, -4.4284, -4.7208, -4.5962, -4.6153, -3.3829, -3.5796, -3.5927, -3.6752, -4.1018, -4.163, -4.1897, -4.2471, -4.2543, -4.2568, -4.4504, -4.4746, -4.5237, -4.5429, -4.5909, -4.6275, -4.8779, -4.898, -4.9865, -5.0195, -5.0477, -5.0512, -5.1064, -5.1219, -5.1271, -5.223, -5.245, -5.2493, -5.265, -5.2911, -4.2092, -4.1384, -4.2369, -4.5015, -4.6607, -5.0659, -3.8302, -3.8759, -4.0674, -4.1818, -4.2196, -4.2394, -4.3289, -4.3684, -4.4098, -4.6344, -4.6573, -4.6686, -4.6835, -4.6957, -4.7117, -4.8774, -4.9446, -5.0185, -5.0346, -5.0832, -5.1012, -5.1665, -5.1974, -5.2103, -5.2166, -5.2427, -5.2463, -5.3289, -5.3461, -5.3618, -2.7892, -3.3115, -4.5632, -4.8204, -3.9861, -4.7875, -4.2969, -4.3309, -4.1611, -4.2705, -2.5179, -2.916, -3.2291, -3.3285, -3.369, -3.4606, -3.8493, -4.0556, -4.0796, -4.1738, -4.433, -4.4694, -4.5008, -4.7286, -4.7343, -4.7707, -4.7732, -4.8614, -4.8967, -4.9364, -4.9675, -4.974, -5.0515, -5.1186, -5.163, -5.2057, -5.2767, -5.2994, -5.3212, -5.413, -3.1695, -2.8752, -4.7965, -2.6882, -3.5536, -4.0059, -3.7131, -3.8718, -4.1236, -3.0569, -3.6123, -3.7427, -3.746, -3.8699, -4.001, -4.0214, -4.0273, -4.1117, -4.2643, -4.3386, -4.3743, -4.4813, -4.6173, -4.6599, -4.7499, -4.7555, -4.8899, -4.9051, -4.9248, -4.9367, -4.9896, -5.0294, -5.0966, -5.1319, -5.1441, -5.1739, -5.198, -5.2016, -5.2592, -4.4145, -4.1339, -3.2094, -4.6073, -3.8649, -4.2792, -4.9216, -4.4249, -3.063, -3.0949, -3.498, -3.884, -4.0191, -4.1742, -4.2027, -4.2865, -4.5118, -4.6611, -4.672, -4.7172, -4.7489, -4.7766, -4.8378, -4.8917, -4.9518, -4.9605, -4.9744, -5.0094, -5.0237, -5.0278, -5.0784, -5.1196, -5.1631, -5.1706, -5.2183, -5.2858, -5.3295, -5.3478, -2.053, -2.7396, -2.8127, -3.4662, -3.4899, -4.6816, -4.7253, -4.7943, -2.9683, -3.1113, -3.1297, -3.5, -3.7508, -3.7788, -3.8703, -4.0869, -4.3163, -4.4095, -4.4305, -4.5597, -4.5604, -4.5853, -4.5985, -4.6427, -4.7305, -4.7555, -4.8058, -4.8178, -4.8573, -4.8982, -4.9179, -4.9295, -5.1387, -5.1632, -5.2649, -5.2843, -5.2946, -5.3211, -3.1982, -4.2215, -4.0212, -4.835, -4.1528, -5.0167]}, \"token.table\": {\"Topic\": [4, 5, 8, 2, 5, 3, 4, 5, 7, 10, 2, 3, 1, 10, 8, 10, 1, 4, 10, 6, 3, 8, 6, 3, 1, 1, 6, 7, 8, 2, 2, 5, 10, 5, 10, 1, 7, 1, 6, 2, 9, 7, 8, 1, 8, 6, 5, 9, 4, 2, 3, 8, 10, 4, 3, 4, 1, 1, 8, 1, 1, 6, 8, 8, 4, 6, 7, 9, 1, 6, 9, 6, 4, 6, 3, 3, 10, 6, 3, 4, 9, 1, 3, 6, 5, 10, 1, 1, 1, 4, 7, 9, 5, 7, 9, 2, 3, 4, 4, 9, 1, 5, 4, 2, 5, 10, 10, 9, 5, 3, 1, 4, 2, 1, 4, 6, 9, 8, 6, 2, 3, 5, 7, 1, 3, 5, 5, 1, 4, 5, 10, 6, 8, 6, 5, 3, 5, 8, 9, 3, 1, 3, 4, 4, 6, 6, 8, 4, 4, 9, 5, 8, 6, 6, 9, 4, 6, 6, 6, 3, 5, 9, 8, 3, 6, 9, 4, 7, 3, 3, 8, 9, 7, 2, 10, 5, 3, 4, 5, 10, 6, 2, 4, 9, 7, 7, 7, 6, 8, 1, 3, 2, 8, 9, 10, 9, 3, 7, 8, 3, 1, 5, 6, 9, 4, 8, 10, 3, 8, 9, 10, 4, 9, 9, 3, 8, 8, 4, 6, 4, 8, 3, 4, 10, 7, 10, 9, 10, 10, 1, 4, 5, 2, 9, 5, 10, 2, 2, 8, 8, 3, 5, 4, 6, 4, 5, 1, 1, 5, 1, 4, 4, 10, 10, 9, 3, 7, 3, 6, 4, 9, 5, 10, 3, 3, 10, 4, 6, 10, 5, 1, 3, 9, 6, 7, 1, 6, 8, 6, 7, 5, 9, 3, 8, 5, 10, 2, 8, 9, 10, 2, 2, 7, 6, 8, 9, 7, 7, 8, 4, 7, 2, 7, 3, 4, 8, 2, 2, 5, 5, 10, 2, 7, 7, 6, 10, 8, 1, 10, 2, 7, 2, 9, 2, 6, 7, 3, 1, 1, 9, 7, 10, 1, 9, 7, 8, 6, 7, 9, 8, 5, 9, 9, 5, 6, 6, 2, 2, 6, 2, 7, 9, 1, 7, 2, 3, 10, 8, 7, 8, 3, 7, 5, 10, 7, 7, 1, 1, 7, 2, 10, 4, 10, 10, 10, 2, 8, 3, 5, 3, 5, 5, 5, 7, 2, 3, 2, 8, 7, 9, 2, 4, 1, 8, 10, 4, 4, 3, 8, 3, 8, 1, 1, 7, 6, 2, 4, 7, 4, 9, 9, 2, 6, 1, 9, 8, 9], \"Freq\": [0.536046843856192, 0.31738236371081247, 0.14650432808781516, 0.9997191689663462, 0.9998976691825253, 0.9996808631401357, 0.9996777295896379, 0.9999148254390963, 0.999888469132465, 0.999826179922125, 0.9998522713228406, 0.9999258469069234, 0.8584494646277873, 0.14148965874191521, 0.9998751067865905, 0.9999080756748849, 0.16399525393722578, 0.2126456565676284, 0.6233190083491492, 0.9998958308275645, 0.9999367600200424, 0.9998904490011427, 0.9996557063987083, 0.9997645243081028, 0.9997537090297575, 0.9999346320653014, 0.9998777191756592, 0.7620885470948927, 0.23793206638773176, 0.9993877761060538, 0.26464656226317607, 0.7353232731637738, 0.9994680340651008, 0.9998873365125084, 0.9997535395222353, 0.999722379936341, 0.9999294061909042, 0.99971704290843, 0.999858345238289, 0.9999612193312608, 0.9997589384130431, 0.9998664674587943, 0.9999587177651448, 0.8017240507746242, 0.1982147599499688, 0.9998925515630352, 0.9999671288721058, 0.9998242414347192, 0.9999910463741717, 0.22143661231684406, 0.13782797619680837, 0.4763524379209946, 0.16435656509669674, 0.9998422285138095, 0.9998214437306282, 0.9998267554564524, 0.9999868823132113, 0.9997875156287936, 0.999870207621095, 0.9996927347503772, 0.9998347379522747, 0.9999126552537974, 0.9998796077937622, 0.9995211022434572, 0.25685658545817514, 0.45265994971531787, 0.10555750087322267, 0.1848609566574643, 0.144963430962961, 0.7129979664568148, 0.1419853677546485, 0.9998857253348783, 0.7982419331672632, 0.2017358413999882, 0.999812329520892, 0.9998311995027521, 0.9997973655722315, 0.9999623491320879, 0.9998056598938347, 0.9995466411654103, 0.9999211013199679, 0.7995998999160027, 0.20017748535611174, 0.9997409532632824, 0.99992320429667, 0.9994521048389923, 0.9999554975857787, 0.9996623620628036, 0.9997744859038318, 0.9997444620880025, 0.999628600777659, 0.9997338536773832, 0.9999136718201272, 0.328731596250247, 0.6712650554503349, 0.999911600923109, 0.9998566294787224, 0.999572818331736, 0.9998997176678944, 0.9996377631288047, 0.9997287508690377, 0.9995961793793366, 0.9999399381960701, 0.9998785928719717, 0.999892761848592, 0.9999067445101948, 0.9999155588271323, 0.9999714038847622, 0.9999187209938349, 0.9997592767708176, 0.9998871512602965, 0.9995161158329677, 0.9992817581160894, 0.9996277988634258, 0.2916302019658184, 0.1099412827062179, 0.598404240307105, 0.9999613561799582, 0.9998232113654519, 0.9997116881882709, 0.999908521101209, 0.9998128716396993, 0.9998342379366617, 0.7247124035951418, 0.2752050244254213, 0.9998615357236514, 0.9998333120525819, 0.9999614044157706, 0.999805000858743, 0.3237839427014862, 0.6761254715901472, 0.8129816856396122, 0.18685964815963707, 0.9998086970843487, 0.9999556867722253, 0.5621625776254281, 0.1582616175955165, 0.1668120201469501, 0.112738641048532, 0.9999776693030449, 0.7832394120304428, 0.21674190094951484, 0.999530732325921, 0.2872000797387307, 0.7127763731238346, 0.1371054154634523, 0.8627510232168177, 0.9995556829569139, 0.9999805756964235, 0.9998759304292011, 0.9998543834767579, 0.999641235254067, 0.9998965200108642, 0.9996064740917278, 0.9996492176266781, 0.25005315174506776, 0.7497312820301604, 0.9997205261075526, 0.9997440056247645, 0.9999217716518906, 0.9997406501005761, 0.9998207286933115, 0.9998645309022699, 0.7077816386527421, 0.29216878782829947, 0.9999130338929145, 0.999720998372323, 0.9997949217010453, 0.9999684937824764, 0.2698057558162007, 0.7300727907781738, 0.999979060461512, 0.9999353292686588, 0.9999585096080779, 0.999753220055388, 0.9997796406917075, 0.9998869983181602, 0.3902476610099376, 0.6096912732879894, 0.9997495274114949, 0.9999496450445573, 0.9999570402171646, 0.9997603286589901, 0.9998255165046573, 0.9999699451050098, 0.9996449827685839, 0.9998653526980951, 0.9998508539390227, 0.9996551540704819, 0.3423994489969788, 0.6575465045045257, 0.9996758899040546, 0.9997984313769508, 0.9998490127634145, 0.999749304009374, 0.9998768203040823, 0.9998388895801662, 0.9995819465201514, 0.9996642471103758, 0.999782677438371, 0.32531846610064213, 0.0002264660397498379, 0.4857696552634023, 0.18864621111161498, 0.7388270852574372, 0.2611511970312965, 0.9999594146614201, 0.5033544091402169, 0.21336288227589592, 0.11590082493999285, 0.16726596326567147, 0.9995614173656916, 0.9995619587534472, 0.999969526224783, 0.999707559266156, 0.9999254382753062, 0.9999608708337245, 0.9997715708402526, 0.9999413715444245, 0.9996858834376631, 0.9997296790722254, 0.999940947279393, 0.9999121393692112, 0.9998404773589971, 0.9996262575737046, 0.9995697537649673, 0.9999437027891739, 0.9998203908649723, 0.9999067259209179, 0.3311511006630974, 0.4577281816340443, 0.2110796573733388, 0.9998226968126733, 0.9996360736073732, 0.45605810376015615, 0.5439236988966571, 0.9993594335619358, 0.9999906834171519, 0.9999471111520227, 0.9999272829664104, 0.9996769157260095, 0.9998570014021553, 0.5862022402422928, 0.4137692721362954, 0.7026211976248496, 0.2972685325118254, 0.9998199829638494, 0.9998650037997416, 0.9998620026391185, 0.9997537791101127, 0.9999401766365239, 0.9998220938843378, 0.9998514348916158, 0.9999066074172968, 0.999753006041778, 0.6049922979006259, 0.3949800089535757, 0.9997315768974262, 0.9997160291035571, 0.7288878892817194, 0.2709718842449599, 0.7851571732850436, 0.2147324427627426, 0.9999076491135835, 0.7633489011772648, 0.23661162348194478, 0.9999274988626454, 0.9999172030649272, 0.9999134901491659, 0.9996337027389448, 0.9999258649576795, 0.9998222218161313, 0.9995994516310617, 0.9998492128902928, 0.9995223212444313, 0.9995977318388051, 0.9997504495065852, 0.9998166739036269, 0.7737234839558158, 0.22619576965538898, 0.9998966588082985, 0.9998685493312347, 0.999917891728315, 0.9996615745851182, 0.9997748873242986, 0.9998126502530725, 0.9998029638250074, 0.9996672892453639, 0.9996571334391549, 0.9999790864934479, 0.9999844501217675, 0.9998153356948754, 0.9999283647484347, 0.9999489166025635, 0.6860150758951662, 0.3137546849972952, 0.9999559966618186, 0.7676948797152219, 0.2322651837337679, 0.9997907375969108, 0.999748035499757, 0.7863454798867907, 0.21365179924142236, 0.9999570228577906, 0.999916209224309, 0.999781630428128, 0.9996437145848518, 0.9998645711033586, 0.9997783769192107, 0.9998193703708355, 0.9996498256757367, 0.9996505091983029, 0.9998565971672017, 0.9997152070346678, 0.4459815975835666, 0.5538635476839683, 0.9999010688854203, 0.9998891647034308, 0.9996626116568478, 0.7743013072041215, 0.22569342357651523, 0.9999893943945044, 0.999638884910303, 0.9995105179171426, 0.9996386740774311, 0.9997260116400903, 0.9996730076988115, 0.9998381675904382, 0.3482917615916647, 0.6516853882359678, 0.9999460370445363, 0.9999600577488219, 0.9999742569632629, 0.9996456000018236, 0.9999871058738115, 0.9998425604970745, 0.9996907823858697, 0.33052394062691814, 0.6694610718936929, 0.9997426843162738, 0.9998145830033179, 0.9997562818816749, 0.9997264504246702, 0.9998293372046727, 0.9996493768918319, 0.9998005746608075, 0.9992126015421662, 0.9999141926336285, 0.9996555713969879, 0.6241232521212084, 0.16238378186571656, 0.21349229742746068, 0.9997908944733255, 0.9995565625898111, 0.9994195412509462, 0.7750480955172748, 0.2249039685578538, 0.9998623239794797, 0.9999734992481852, 0.9999592690018126, 0.9999161385433463, 0.9997396607472427, 0.9996345168451426, 0.9996427816818331, 0.9999044908394806, 0.9997310056643278, 0.9998548516533128, 0.999818019186858, 0.9997483409020947, 0.9998165579344619, 0.9999127542739351, 0.9997144811953738, 0.9999114438468751, 0.9998817930661181, 0.9999257521271663, 0.9998208848865581, 0.9997222455520688, 0.9997574510303824, 0.9997691505619581, 0.9998527624158747, 0.9998531727784815, 0.9998360686351123, 0.9997511514682401, 0.9998648879298926, 0.7342005734077155, 0.2656219683109036, 0.9998532003575169, 0.9997845893529228, 0.9998794913292876, 0.9996603251745207, 0.9996197617537317, 0.999463223802374, 0.9998321309136387, 0.9997130218909681, 0.9996696675889271, 0.9998586053547177, 0.9997793298285099, 0.8041315898844453, 0.1957974984796125, 0.9999201569703108, 0.9998880954197343, 0.9998278660509996, 0.9999426405238265, 0.9995323909717274, 0.9996968372596585, 0.2278483874895385, 0.6218962260857029, 0.15024653078524006, 0.999835480463648, 0.9998274400977899, 0.9999320055963795, 0.9996010088461398, 0.9998868612996819, 0.9998441491015144, 0.9997707439471621, 0.7273458986899984, 0.2724612603218847], \"Term\": [\"10\", \"10\", \"10\", \"100\", \"12\", \"15\", \"30\", \"abholen\", \"abholung\", \"abschneiden\", \"abwicklung\", \"abzug\", \"all\", \"all\", \"alt\", \"anbieter\", \"ander\", \"ander\", \"ander\", \"angeben\", \"angebot\", \"ankommen\", \"antwort\", \"anwendung\", \"anzeigen\", \"app\", \"arbeit\", \"arbeiten\", \"arbeiten\", \"artikel\", \"auftrag\", \"auftrag\", \"ausdrucken\", \"ausf\\u00fchrung\", \"ausprobieren\", \"aussehen\", \"auswahl\", \"ausw\\u00e4hlen\", \"bearbeiten\", \"bearbeitung\", \"bedienbarkeit\", \"bedienen\", \"bedienung\", \"begeistern\", \"begeistern\", \"bekennen\", \"bekommen\", \"bequemen\", \"bestellen\", \"bestellung\", \"bestellung\", \"bestellung\", \"bestellung\", \"bestens\", \"bestimmen\", \"bieten\", \"bild\", \"bilder\", \"bildqualit\\u00e4t\", \"bindung\", \"bitte\", \"bitten\", \"bleiben\", \"brauchen\", \"buch\", \"buch\", \"buch\", \"buch\", \"buchen\", \"buchen\", \"buchen\", \"ca\", \"cewe\", \"cewe\", \"cliparts\", \"cm\", \"danke\", \"danken\", \"dauern\", \"denken\", \"design\", \"deutlich\", \"deutlich\", \"diesmal\", \"dm\", \"doppeln\", \"drucken\", \"dunkel\", \"dunkeln\", \"echt\", \"ecke\", \"eher\", \"eigentlich\", \"einfach\", \"einfach\", \"einfache\", \"einf\\u00fcgen\", \"einhalten\", \"einig\", \"einwandfrei\", \"einzeln\", \"email\", \"empfehlen\", \"entsprechen\", \"entt\\u00e4uschen\", \"erfahrung\", \"erfolgen\", \"ergebnis\", \"erhalten\", \"erinnerung\", \"erkennen\", \"erkl\\u00e4ren\", \"erledigung\", \"erscheinen\", \"erstellen\", \"erstellen\", \"erstellen\", \"erstellung\", \"erwarten\", \"erwartung\", \"etc\", \"euro\", \"extrem\", \"fall\", \"fall\", \"fallen\", \"falsch\", \"farbe\", \"fast\", \"fehlen\", \"fehlen\", \"fehler\", \"fehler\", \"fertigen\", \"filiale\", \"finden\", \"finden\", \"finden\", \"finden\", \"format\", \"foto\", \"foto\", \"fotoabz\\u00fcge\", \"fotobuch\", \"fotobuch\", \"fotobuches\", \"fotobuches\", \"fotobuchs\", \"fotob\\u00fccher\", \"fotob\\u00fcchern\", \"fotopapier\", \"fotoqualit\\u00e4t\", \"frage\", \"fragen\", \"freude\", \"freuen\", \"freuen\", \"freund\", \"freunden\", \"freundlich\", \"fr\\u00fch\", \"funktion\", \"funktionieren\", \"geben\", \"geben\", \"gefallen\", \"gelingen\", \"genau\", \"gerne\", \"geschenk\", \"geschenk\", \"gestalten\", \"gestaltung\", \"gestaltungsm\\u00f6glichkeiten\", \"gleichen\", \"grund\", \"gru\\u00dfkarten\", \"gr\\u00f6\\u00dfe\", \"gr\\u00f6\\u00dfe\", \"gr\\u00fc\\u00dfen\", \"gutschein\", \"g\\u00fcnstig\", \"hab\", \"handhaben\", \"handhabung\", \"handling\", \"hervorragen\", \"hilfe\", \"hilfreich\", \"hintergrund\", \"hintergrund\", \"hochladen\", \"hochwertig\", \"hoffen\", \"hotline\", \"idee\", \"individuell\", \"individuelle\", \"innerhalb\", \"internet\", \"jed\", \"jed\", \"jed\", \"jed\", \"kalender\", \"kalender\", \"karte\", \"karten\", \"karten\", \"karten\", \"karten\", \"kaufen\", \"kennen\", \"klappen\", \"klaren\", \"klasse\", \"klein\", \"kosten\", \"kunde\", \"kundenservice\", \"langen\", \"lassen\", \"laufen\", \"layout\", \"leichte\", \"leinwand\", \"leistung\", \"leistungs\", \"leistungsverh\\u00e4ltnis\", \"letzt\", \"letzt\", \"letzt\", \"letzte\", \"lieb\", \"liefern\", \"liefern\", \"liefertermin\", \"lieferung\", \"lieferzeit\", \"liegen\", \"l\\u00e4sst\", \"mail\", \"mal\", \"mal\", \"malen\", \"malen\", \"manch\", \"manchmal\", \"markt\", \"matt\", \"mehrer\", \"mehrfach\", \"meist\", \"mitarbeiter\", \"motiv\", \"m\\u00f6glichkeit\", \"m\\u00f6glichkeit\", \"m\\u00fcsste\", \"nachbestellung\", \"nehmen\", \"nehmen\", \"neu\", \"neu\", \"nutzen\", \"n\\u00e4chst\", \"n\\u00e4chst\", \"obwohl\", \"ok\", \"online\", \"optimal\", \"ordnung\", \"paar\", \"paket\", \"papier\", \"papierqualit\\u00e4t\", \"passen\", \"passieren\", \"passt\", \"pc\", \"pc\", \"per\", \"perfekt\", \"pers\\u00f6nlich\", \"porto\", \"positiv\", \"poster\", \"postkarte\", \"postkarten\", \"praktisch\", \"preis\", \"preisen\", \"preiswert\", \"prima\", \"problem\", \"problemlos\", \"problemlos\", \"produkt\", \"programm\", \"programm\", \"p\\u00fcnktlich\", \"qualitativ\", \"qualit\\u00e4t\", \"qualit\\u00e4t\", \"rahmen\", \"rand\", \"rechnung\", \"reibungslos\", \"reklamation\", \"reklamieren\", \"relativ\", \"rossmann\", \"rundum\", \"r\\u00fcckseite\", \"sache\", \"sagen\", \"sagen\", \"schade\", \"schaden\", \"scharf\", \"schnell\", \"schnell\", \"schnellen\", \"schneller\", \"schnelligkeit\", \"schreiben\", \"schrift\", \"schwer\", \"schwierig\", \"sch\\u00f6n\", \"sch\\u00f6n\", \"sch\\u00f6ne\", \"sehen\", \"seite\", \"selber\", \"service\", \"sichern\", \"siehe\", \"software\", \"software\", \"sogar\", \"somit\", \"spa\\u00dfen\", \"speichern\", \"sp\\u00e4t\", \"stark\", \"stehen\", \"stets\", \"stimmen\", \"st\\u00f6ren\", \"super\", \"super\", \"super\", \"teilweise\", \"telefonisch\", \"termin\", \"teuer\", \"teuer\", \"text\", \"toll\", \"tollen\", \"top\", \"total\", \"umschlag\", \"umst\\u00e4ndlich\", \"unkompliziert\", \"unkomplizierte\", \"unscharf\", \"unterschiedlich\", \"unzufrieden\", \"verarbeitung\", \"verbessern\", \"vergleichen\", \"verh\\u00e4ltnis\", \"verpackung\", \"versand\", \"versandkosten\", \"verschenken\", \"verschicken\", \"verschieben\", \"verschieden\", \"versenden\", \"version\", \"verst\\u00e4ndlich\", \"verwenden\", \"vielf\\u00e4ltig\", \"vielf\\u00e4ltig\", \"voll\", \"vorher\", \"vorliegen\", \"vorstellen\", \"vorstellung\", \"wandbild\", \"ware\", \"warten\", \"weg\", \"weihnachten\", \"weiterempfehlen\", \"wei\\u00df\", \"wei\\u00df\", \"welch\", \"woche\", \"w\\u00e4hlen\", \"w\\u00fcnschen\", \"zahlen\", \"ziemlich\", \"zufrieden\", \"zufrieden\", \"zufrieden\", \"zufriedenheit\", \"zurecht\", \"zuverl\\u00e4ssig\", \"z\\u00fcgig\", \"\\u00e4ndern\", \"\\u00e4rgerlich\", \"\\u00fcbersichtlich\", \"\\u00fcberzeugen\", \"\\u00fcberzeugen\"]}, \"R\": 30, \"lambda.step\": 0.01, \"plot.opts\": {\"xlab\": \"PC1\", \"ylab\": \"PC2\"}, \"topic.order\": [10, 4, 3, 1, 8, 7, 6, 9, 2, 5]};\n",
       "\n",
       "function LDAvis_load_lib(url, callback){\n",
       "  var s = document.createElement('script');\n",
       "  s.src = url;\n",
       "  s.async = true;\n",
       "  s.onreadystatechange = s.onload = callback;\n",
       "  s.onerror = function(){console.warn(\"failed to load library \" + url);};\n",
       "  document.getElementsByTagName(\"head\")[0].appendChild(s);\n",
       "}\n",
       "\n",
       "if(typeof(LDAvis) !== \"undefined\"){\n",
       "   // already loaded: just create the visualization\n",
       "   !function(LDAvis){\n",
       "       new LDAvis(\"#\" + \"ldavis_el4605228437048707361720184\", ldavis_el4605228437048707361720184_data);\n",
       "   }(LDAvis);\n",
       "}else if(typeof define === \"function\" && define.amd){\n",
       "   // require.js is available: use it to load d3/LDAvis\n",
       "   require.config({paths: {d3: \"https://cdnjs.cloudflare.com/ajax/libs/d3/3.5.5/d3.min\"}});\n",
       "   require([\"d3\"], function(d3){\n",
       "      window.d3 = d3;\n",
       "      LDAvis_load_lib(\"https://cdn.rawgit.com/bmabey/pyLDAvis/files/ldavis.v1.0.0.js\", function(){\n",
       "        new LDAvis(\"#\" + \"ldavis_el4605228437048707361720184\", ldavis_el4605228437048707361720184_data);\n",
       "      });\n",
       "    });\n",
       "}else{\n",
       "    // require.js not available: dynamically load d3 & LDAvis\n",
       "    LDAvis_load_lib(\"https://cdnjs.cloudflare.com/ajax/libs/d3/3.5.5/d3.min.js\", function(){\n",
       "         LDAvis_load_lib(\"https://cdn.rawgit.com/bmabey/pyLDAvis/files/ldavis.v1.0.0.js\", function(){\n",
       "                 new LDAvis(\"#\" + \"ldavis_el4605228437048707361720184\", ldavis_el4605228437048707361720184_data);\n",
       "            })\n",
       "         });\n",
       "}\n",
       "</script>"
      ],
      "text/plain": [
       "PreparedData(topic_coordinates=                x           y  topics  cluster       Freq\n",
       "topic                                                    \n",
       "9       52.038334   80.982018       1        1  12.877972\n",
       "3      -52.667339  -33.094513       2        1  11.840781\n",
       "2       76.814178  157.561172       3        1  10.686061\n",
       "0      135.155502   67.017647       4        1  10.606879\n",
       "7       49.447460    1.700375       5        1  10.213453\n",
       "6      -95.242645   65.869606       6        1  10.155515\n",
       "5      -17.878447   43.645039       7        1   9.264943\n",
       "8       30.593391  -78.077553       8        1   8.503488\n",
       "1      126.149315  -27.208586       9        1   8.314856\n",
       "4      -21.959284  135.578964      10        1   7.536051, topic_info=      Category           Freq                 Term          Total  loglift  \\\n",
       "term                                                                         \n",
       "17893  Default  183045.000000             qualität  183045.000000  30.0000   \n",
       "19229  Default  102232.000000            schnellen  102232.000000  29.0000   \n",
       "4004   Default   96501.000000                 bild   96501.000000  28.0000   \n",
       "6401   Default   98682.000000              einfach   98682.000000  27.0000   \n",
       "14430  Default   77253.000000            lieferung   77253.000000  26.0000   \n",
       "3661   Default   70162.000000            bestellen   70162.000000  25.0000   \n",
       "25290  Default   93399.000000            zufrieden   93399.000000  24.0000   \n",
       "8596   Default   76939.000000                 foto   76939.000000  23.0000   \n",
       "19864  Default   46370.000000              service   46370.000000  22.0000   \n",
       "20975  Default   73745.000000                super   73745.000000  21.0000   \n",
       "8694   Default   54366.000000             fotobuch   54366.000000  20.0000   \n",
       "20166  Default   49802.000000             software   49802.000000  19.0000   \n",
       "19527  Default   47552.000000                schön   47552.000000  18.0000   \n",
       "17333  Default   37667.000000              preisen   37667.000000  17.0000   \n",
       "4921   Default   43670.000000                 cewe   43670.000000  16.0000   \n",
       "17543  Default   31143.000000              produkt   31143.000000  15.0000   \n",
       "12606  Default   42373.000000             kalender   42373.000000  14.0000   \n",
       "8771   Default   31511.000000           fotobücher   31511.000000  13.0000   \n",
       "19615  Default   33399.000000                seite   33399.000000  12.0000   \n",
       "19224  Default   41246.000000              schnell   41246.000000  11.0000   \n",
       "12755  Default   24039.000000                karte   24039.000000  10.0000   \n",
       "21596  Default   24828.000000               tollen   24828.000000   9.0000   \n",
       "2875   Default   28409.000000          bearbeitung   28409.000000   8.0000   \n",
       "10066  Default   24127.000000            gestalten   24127.000000   7.0000   \n",
       "7195   Default   23370.000000             ergebnis   23370.000000   6.0000   \n",
       "17657  Default   31481.000000             programm   31481.000000   5.0000   \n",
       "9472   Default   33634.000000                geben   33634.000000   4.0000   \n",
       "21594  Default   22771.000000                 toll   22771.000000   3.0000   \n",
       "19584  Default   20836.000000                sehen   20836.000000   2.0000   \n",
       "3752   Default   44744.000000           bestellung   44744.000000   1.0000   \n",
       "...        ...            ...                  ...            ...      ...   \n",
       "14189  Topic10    9754.014441  leistungsverhältnis    9754.909880   2.5854   \n",
       "7149   Topic10    7854.837112            erfahrung    7855.732590   2.5854   \n",
       "7167   Topic10    6244.631831             erfolgen    6245.527380   2.5853   \n",
       "14001  Topic10    5689.012125               layout    5689.907669   2.5853   \n",
       "22776  Topic10    5570.590550           verbessern    5571.486088   2.5853   \n",
       "22982  Topic10    4895.538167           verhältnis    4896.433609   2.5853   \n",
       "17219  Topic10    4892.021169               poster    4892.916687   2.5853   \n",
       "15277  Topic10    4771.550171          mitarbeiter    4772.445711   2.5853   \n",
       "10405  Topic10    4709.266804             gleichen    4710.162374   2.5853   \n",
       "23122  Topic10    4505.637204           verpackung    4506.532703   2.5853   \n",
       "924    Topic10    4126.821933          abschneiden    4127.717480   2.5853   \n",
       "11851  Topic10    4025.113764              hotline    4026.009304   2.5852   \n",
       "24253  Topic10    3827.369035                  weg    3828.264600   2.5852   \n",
       "5199   Topic10    3781.871025                danke    3782.766519   2.5852   \n",
       "21986  Topic10    3635.403411          umständlich    3636.298953   2.5852   \n",
       "14165  Topic10    3489.731528            leistungs    3490.626948   2.5852   \n",
       "15062  Topic10    3421.612921                meist    3422.508465   2.5852   \n",
       "18685  Topic10    3382.289156             rossmann    3383.184704   2.5852   \n",
       "10770  Topic10    2743.791891               grüßen    2744.687469   2.5851   \n",
       "14137  Topic10    2677.256756             leinwand    2678.152265   2.5851   \n",
       "5785   Topic10    2418.429991              doppeln    2419.325537   2.5851   \n",
       "19001  Topic10    2371.905015               scharf    2372.800555   2.5851   \n",
       "2515   Topic10    2347.683325         ausprobieren    2348.578832   2.5851   \n",
       "2329   Topic10    2286.321164           ausdrucken    2287.216721   2.5851   \n",
       "1378   Topic10   19102.740280                ander   30647.228376   2.1128   \n",
       "8087   Topic10    6865.780037               fehlen   10154.919891   2.1941   \n",
       "14378  Topic10    8387.805994              liefern   15421.280626   1.9765   \n",
       "18911  Topic10    3717.253978                sagen    6711.039236   1.9947   \n",
       "3752   Topic10    7354.012298           bestellung   44744.181625   0.7798   \n",
       "21357  Topic10    3099.861007                teuer   13783.660733   1.0933   \n",
       "\n",
       "       logprob  \n",
       "term            \n",
       "17893  30.0000  \n",
       "19229  29.0000  \n",
       "4004   28.0000  \n",
       "6401   27.0000  \n",
       "14430  26.0000  \n",
       "3661   25.0000  \n",
       "25290  24.0000  \n",
       "8596   23.0000  \n",
       "19864  22.0000  \n",
       "20975  21.0000  \n",
       "8694   20.0000  \n",
       "20166  19.0000  \n",
       "19527  18.0000  \n",
       "17333  17.0000  \n",
       "4921   16.0000  \n",
       "17543  15.0000  \n",
       "12606  14.0000  \n",
       "8771   13.0000  \n",
       "19615  12.0000  \n",
       "19224  11.0000  \n",
       "12755  10.0000  \n",
       "21596   9.0000  \n",
       "2875    8.0000  \n",
       "10066   7.0000  \n",
       "7195    6.0000  \n",
       "17657   5.0000  \n",
       "9472    4.0000  \n",
       "21594   3.0000  \n",
       "19584   2.0000  \n",
       "3752    1.0000  \n",
       "...        ...  \n",
       "14189  -3.8703  \n",
       "7149   -4.0869  \n",
       "7167   -4.3163  \n",
       "14001  -4.4095  \n",
       "22776  -4.4305  \n",
       "22982  -4.5597  \n",
       "17219  -4.5604  \n",
       "15277  -4.5853  \n",
       "10405  -4.5985  \n",
       "23122  -4.6427  \n",
       "924    -4.7305  \n",
       "11851  -4.7555  \n",
       "24253  -4.8058  \n",
       "5199   -4.8178  \n",
       "21986  -4.8573  \n",
       "14165  -4.8982  \n",
       "15062  -4.9179  \n",
       "18685  -4.9295  \n",
       "10770  -5.1387  \n",
       "14137  -5.1632  \n",
       "5785   -5.2649  \n",
       "19001  -5.2843  \n",
       "2515   -5.2946  \n",
       "2329   -5.3211  \n",
       "1378   -3.1982  \n",
       "8087   -4.2215  \n",
       "14378  -4.0212  \n",
       "18911  -4.8350  \n",
       "3752   -4.1528  \n",
       "21357  -5.0167  \n",
       "\n",
       "[417 rows x 6 columns], token_table=       Topic      Freq             Term\n",
       "term                                   \n",
       "38         4  0.536047               10\n",
       "38         5  0.317382               10\n",
       "38         8  0.146504               10\n",
       "39         2  0.999719              100\n",
       "109        5  0.999898               12\n",
       "165        3  0.999681               15\n",
       "344        4  0.999678               30\n",
       "763        5  0.999915          abholen\n",
       "809        7  0.999888         abholung\n",
       "924       10  0.999826      abschneiden\n",
       "1016       2  0.999852       abwicklung\n",
       "1036       3  0.999926            abzug\n",
       "1238       1  0.858449              all\n",
       "1238      10  0.141490              all\n",
       "1297       8  0.999875              alt\n",
       "1360      10  0.999908         anbieter\n",
       "1378       1  0.163995            ander\n",
       "1378       4  0.212646            ander\n",
       "1378      10  0.623319            ander\n",
       "1450       6  0.999896          angeben\n",
       "1455       3  0.999937          angebot\n",
       "1589       8  0.999890         ankommen\n",
       "1791       6  0.999656          antwort\n",
       "1828       3  0.999765        anwendung\n",
       "1850       1  0.999754         anzeigen\n",
       "1867       1  0.999935              app\n",
       "1880       6  0.999878           arbeit\n",
       "1882       7  0.762089         arbeiten\n",
       "1882       8  0.237932         arbeiten\n",
       "1954       2  0.999388          artikel\n",
       "...      ...       ...              ...\n",
       "23895      8  0.999785           vorher\n",
       "23933      7  0.999879        vorliegen\n",
       "24004      9  0.999660       vorstellen\n",
       "24005      2  0.999620      vorstellung\n",
       "24119      4  0.999463         wandbild\n",
       "24160      1  0.999832             ware\n",
       "24194      8  0.999713           warten\n",
       "24253     10  0.999670              weg\n",
       "24304      4  0.999859      weihnachten\n",
       "24408      4  0.999779  weiterempfehlen\n",
       "24468      3  0.804132             weiß\n",
       "24468      8  0.195797             weiß\n",
       "24476      3  0.999920            welch\n",
       "24769      8  0.999888            woche\n",
       "24913      1  0.999828           wählen\n",
       "24942      1  0.999943         wünschen\n",
       "25004      7  0.999532           zahlen\n",
       "25216      6  0.999697         ziemlich\n",
       "25290      2  0.227848        zufrieden\n",
       "25290      4  0.621896        zufrieden\n",
       "25290      7  0.150247        zufrieden\n",
       "25298      4  0.999835    zufriedenheit\n",
       "25430      9  0.999827          zurecht\n",
       "25647      9  0.999932      zuverlässig\n",
       "25771      2  0.999601            zügig\n",
       "25792      6  0.999887           ändern\n",
       "25807      1  0.999844        ärgerlich\n",
       "26025      9  0.999771    übersichtlich\n",
       "26077      8  0.727346       überzeugen\n",
       "26077      9  0.272461       überzeugen\n",
       "\n",
       "[417 rows x 3 columns], R=30, lambda_step=0.01, plot_opts={'xlab': 'PC1', 'ylab': 'PC2'}, topic_order=[10, 4, 3, 1, 8, 7, 6, 9, 2, 5])"
      ]
     },
     "execution_count": 175,
     "metadata": {},
     "output_type": "execute_result"
    }
   ],
   "source": [
    "import pyLDAvis.sklearn\n",
    "pyLDAvis.enable_notebook()\n",
    "dash = pyLDAvis.sklearn.prepare(lda, data_vectorized, vectorizer, mds='tsne')\n",
    "dash"
   ]
  },
  {
   "cell_type": "markdown",
   "metadata": {},
   "source": [
    "# Gensim LDA"
   ]
  },
  {
   "cell_type": "code",
   "execution_count": 200,
   "metadata": {},
   "outputs": [],
   "source": [
    "import string\n",
    "from spacy.lang.de.stop_words import STOP_WORDS\n",
    "stopwords = list(STOP_WORDS)\n",
    "\n",
    "def text_preproc2(sentence):\n",
    "    mytokens = nlp.tokenizer(sentence)\n",
    "    mytokens = [ word.lemma_.lower().strip() for word in mytokens ]\n",
    "    mytokens = [ word for word in mytokens if word not in stopwords and word not in string.punctuation ]\n",
    "    return mytokens"
   ]
  },
  {
   "cell_type": "code",
   "execution_count": 201,
   "metadata": {},
   "outputs": [
    {
     "data": {
      "text/plain": [
       "['stein']"
      ]
     },
     "execution_count": 201,
     "metadata": {},
     "output_type": "execute_result"
    }
   ],
   "source": [
    "# text_preproc2('Habe ich kein Zeit! Warum. Stein')"
   ]
  },
  {
   "cell_type": "code",
   "execution_count": 283,
   "metadata": {},
   "outputs": [
    {
     "name": "stderr",
     "output_type": "stream",
     "text": [
      "100%|████████████████████████████████████████████████████████████████████████| 896683/896683 [05:22<00:00, 2779.76it/s]\n"
     ]
    }
   ],
   "source": [
    "from tqdm import tqdm\n",
    "tqdm.pandas()\n",
    "example = df_pd['TEXT'].progress_apply(text_preproc2)"
   ]
  },
  {
   "cell_type": "code",
   "execution_count": 284,
   "metadata": {},
   "outputs": [],
   "source": [
    "# from gensim.test.utils import common_texts\n",
    "from gensim.corpora.dictionary import Dictionary\n",
    "# Create a corpus from a list of texts\n",
    "dictionary = Dictionary(example)\n",
    "corpus = [dictionary.doc2bow(text) for text in example]"
   ]
  },
  {
   "cell_type": "code",
   "execution_count": 285,
   "metadata": {},
   "outputs": [],
   "source": [
    "# print(dictionary)"
   ]
  },
  {
   "cell_type": "code",
   "execution_count": 286,
   "metadata": {},
   "outputs": [],
   "source": [
    "from  gensim.models.ldamodel import LdaModel\n",
    "lda2 = LdaModel(corpus, num_topics=10)"
   ]
  },
  {
   "cell_type": "code",
   "execution_count": 287,
   "metadata": {},
   "outputs": [],
   "source": [
    "# print(type(lda2))\n",
    "# print(corpus)\n",
    "# print(type(dictionary))"
   ]
  },
  {
   "cell_type": "code",
   "execution_count": 288,
   "metadata": {},
   "outputs": [
    {
     "data": {
      "text/html": [
       "\n",
       "<link rel=\"stylesheet\" type=\"text/css\" href=\"https://cdn.rawgit.com/bmabey/pyLDAvis/files/ldavis.v1.0.0.css\">\n",
       "\n",
       "\n",
       "<div id=\"ldavis_el4605228437048719365286699205\"></div>\n",
       "<script type=\"text/javascript\">\n",
       "\n",
       "var ldavis_el4605228437048719365286699205_data = {\"mdsDat\": {\"x\": [-0.1716183995101862, 0.3141060433309339, -0.1250217687990122, -0.10013287151064221, -0.15871692527067655, 0.25741692797768334, -0.1613107123880936, -0.07220559254332735, 0.28673720104456557, -0.06925390233124504], \"y\": [-0.12637780158447878, -0.033924268243852744, -0.0831509793278119, 0.11593158963849456, -0.2114146611683466, -0.05618207865190794, -0.09276308253240365, 0.2668067327970784, -0.02612815368368764, 0.24720270275691636], \"topics\": [1, 2, 3, 4, 5, 6, 7, 8, 9, 10], \"cluster\": [1, 1, 1, 1, 1, 1, 1, 1, 1, 1], \"Freq\": [18.75063705444336, 12.825027465820312, 12.707474708557129, 9.888957023620605, 9.20435619354248, 8.915486335754395, 8.252411842346191, 7.348932266235352, 6.719542503356934, 5.387174129486084]}, \"tinfo\": {\"Category\": [\"Default\", \"Default\", \"Default\", \"Default\", \"Default\", \"Default\", \"Default\", \"Default\", \"Default\", \"Default\", \"Default\", \"Default\", \"Default\", \"Default\", \"Default\", \"Default\", \"Default\", \"Default\", \"Default\", \"Default\", \"Default\", \"Default\", \"Default\", \"Default\", \"Default\", \"Default\", \"Default\", \"Default\", \"Default\", \"Default\", \"Topic1\", \"Topic1\", \"Topic1\", \"Topic1\", \"Topic1\", \"Topic1\", \"Topic1\", \"Topic1\", \"Topic1\", \"Topic1\", \"Topic1\", \"Topic1\", \"Topic1\", \"Topic1\", \"Topic1\", \"Topic1\", \"Topic1\", \"Topic1\", \"Topic1\", \"Topic1\", \"Topic1\", \"Topic1\", \"Topic1\", \"Topic1\", \"Topic1\", \"Topic1\", \"Topic1\", \"Topic1\", \"Topic1\", \"Topic1\", \"Topic1\", \"Topic1\", \"Topic1\", \"Topic1\", \"Topic1\", \"Topic1\", \"Topic1\", \"Topic1\", \"Topic1\", \"Topic1\", \"Topic1\", \"Topic1\", \"Topic1\", \"Topic1\", \"Topic1\", \"Topic1\", \"Topic1\", \"Topic1\", \"Topic1\", \"Topic1\", \"Topic1\", \"Topic1\", \"Topic1\", \"Topic1\", \"Topic1\", \"Topic1\", \"Topic1\", \"Topic1\", \"Topic1\", \"Topic2\", \"Topic2\", \"Topic2\", \"Topic2\", \"Topic2\", \"Topic2\", \"Topic2\", \"Topic2\", \"Topic2\", \"Topic2\", \"Topic2\", \"Topic2\", \"Topic2\", \"Topic2\", \"Topic2\", \"Topic2\", \"Topic2\", \"Topic2\", \"Topic2\", \"Topic2\", \"Topic2\", \"Topic2\", \"Topic2\", \"Topic2\", \"Topic2\", \"Topic2\", \"Topic2\", \"Topic2\", \"Topic2\", \"Topic2\", \"Topic2\", \"Topic2\", \"Topic2\", \"Topic2\", \"Topic2\", \"Topic2\", \"Topic2\", \"Topic2\", \"Topic2\", \"Topic2\", \"Topic2\", \"Topic2\", \"Topic2\", \"Topic2\", \"Topic2\", \"Topic2\", \"Topic2\", \"Topic2\", \"Topic2\", \"Topic2\", \"Topic2\", \"Topic3\", \"Topic3\", \"Topic3\", \"Topic3\", \"Topic3\", \"Topic3\", \"Topic3\", \"Topic3\", \"Topic3\", \"Topic3\", \"Topic3\", \"Topic3\", \"Topic3\", \"Topic3\", \"Topic3\", \"Topic3\", \"Topic3\", \"Topic3\", \"Topic3\", \"Topic3\", \"Topic3\", \"Topic3\", \"Topic3\", \"Topic3\", \"Topic3\", \"Topic3\", \"Topic3\", \"Topic3\", \"Topic3\", \"Topic3\", \"Topic3\", \"Topic3\", \"Topic3\", \"Topic3\", \"Topic3\", \"Topic3\", \"Topic3\", \"Topic3\", \"Topic3\", \"Topic3\", \"Topic3\", \"Topic3\", \"Topic3\", \"Topic3\", \"Topic3\", \"Topic3\", \"Topic3\", \"Topic3\", \"Topic3\", \"Topic4\", \"Topic4\", \"Topic4\", \"Topic4\", \"Topic4\", \"Topic4\", \"Topic4\", \"Topic4\", \"Topic4\", \"Topic4\", \"Topic4\", \"Topic4\", \"Topic4\", \"Topic4\", \"Topic4\", \"Topic4\", \"Topic4\", \"Topic4\", \"Topic4\", \"Topic4\", \"Topic4\", \"Topic4\", \"Topic4\", \"Topic4\", \"Topic4\", \"Topic4\", \"Topic4\", \"Topic4\", \"Topic4\", \"Topic4\", \"Topic4\", \"Topic4\", \"Topic4\", \"Topic4\", \"Topic4\", \"Topic4\", \"Topic4\", \"Topic4\", \"Topic4\", \"Topic4\", \"Topic4\", \"Topic4\", \"Topic4\", \"Topic4\", \"Topic4\", \"Topic4\", \"Topic4\", \"Topic4\", \"Topic4\", \"Topic4\", \"Topic4\", \"Topic4\", \"Topic4\", \"Topic4\", \"Topic4\", \"Topic4\", \"Topic4\", \"Topic4\", \"Topic5\", \"Topic5\", \"Topic5\", \"Topic5\", \"Topic5\", \"Topic5\", \"Topic5\", \"Topic5\", \"Topic5\", \"Topic5\", \"Topic5\", \"Topic5\", \"Topic5\", \"Topic5\", \"Topic5\", \"Topic5\", \"Topic5\", \"Topic5\", \"Topic5\", \"Topic5\", \"Topic5\", \"Topic5\", \"Topic5\", \"Topic5\", \"Topic5\", \"Topic5\", \"Topic5\", \"Topic5\", \"Topic5\", \"Topic5\", \"Topic5\", \"Topic5\", \"Topic5\", \"Topic5\", \"Topic5\", \"Topic5\", \"Topic5\", \"Topic5\", \"Topic5\", \"Topic5\", \"Topic5\", \"Topic5\", \"Topic5\", \"Topic5\", \"Topic5\", \"Topic5\", \"Topic5\", \"Topic5\", \"Topic5\", \"Topic6\", \"Topic6\", \"Topic6\", \"Topic6\", \"Topic6\", \"Topic6\", \"Topic6\", \"Topic6\", \"Topic6\", \"Topic6\", \"Topic6\", \"Topic6\", \"Topic6\", \"Topic6\", \"Topic6\", \"Topic6\", \"Topic6\", \"Topic6\", \"Topic6\", \"Topic6\", \"Topic6\", \"Topic6\", \"Topic6\", \"Topic6\", \"Topic6\", \"Topic6\", \"Topic6\", \"Topic6\", \"Topic6\", \"Topic6\", \"Topic6\", \"Topic6\", \"Topic6\", \"Topic6\", \"Topic6\", \"Topic6\", \"Topic6\", \"Topic6\", \"Topic6\", \"Topic6\", \"Topic6\", \"Topic6\", \"Topic6\", \"Topic6\", \"Topic6\", \"Topic6\", \"Topic6\", \"Topic6\", \"Topic6\", \"Topic6\", \"Topic7\", \"Topic7\", \"Topic7\", \"Topic7\", \"Topic7\", \"Topic7\", \"Topic7\", \"Topic7\", \"Topic7\", \"Topic7\", \"Topic7\", \"Topic7\", \"Topic7\", \"Topic7\", \"Topic7\", \"Topic7\", \"Topic7\", \"Topic7\", \"Topic7\", \"Topic7\", \"Topic7\", \"Topic7\", \"Topic7\", \"Topic7\", \"Topic7\", \"Topic7\", \"Topic7\", \"Topic7\", \"Topic7\", \"Topic7\", \"Topic7\", \"Topic7\", \"Topic7\", \"Topic7\", \"Topic7\", \"Topic7\", \"Topic7\", \"Topic7\", \"Topic7\", \"Topic7\", \"Topic7\", \"Topic7\", \"Topic7\", \"Topic7\", \"Topic7\", \"Topic8\", \"Topic8\", \"Topic8\", \"Topic8\", \"Topic8\", \"Topic8\", \"Topic8\", \"Topic8\", \"Topic8\", \"Topic8\", \"Topic8\", \"Topic8\", \"Topic8\", \"Topic8\", \"Topic8\", \"Topic8\", \"Topic8\", \"Topic8\", \"Topic8\", \"Topic8\", \"Topic8\", \"Topic8\", \"Topic8\", \"Topic8\", \"Topic8\", \"Topic8\", \"Topic8\", \"Topic8\", \"Topic8\", \"Topic8\", \"Topic8\", \"Topic8\", \"Topic8\", \"Topic8\", \"Topic8\", \"Topic8\", \"Topic8\", \"Topic8\", \"Topic8\", \"Topic8\", \"Topic8\", \"Topic8\", \"Topic8\", \"Topic8\", \"Topic9\", \"Topic9\", \"Topic9\", \"Topic9\", \"Topic9\", \"Topic9\", \"Topic9\", \"Topic9\", \"Topic9\", \"Topic9\", \"Topic9\", \"Topic9\", \"Topic9\", \"Topic9\", \"Topic9\", \"Topic9\", \"Topic9\", \"Topic9\", \"Topic9\", \"Topic9\", \"Topic9\", \"Topic9\", \"Topic9\", \"Topic9\", \"Topic9\", \"Topic9\", \"Topic9\", \"Topic9\", \"Topic9\", \"Topic9\", \"Topic9\", \"Topic9\", \"Topic9\", \"Topic9\", \"Topic9\", \"Topic9\", \"Topic9\", \"Topic9\", \"Topic9\", \"Topic9\", \"Topic9\", \"Topic9\", \"Topic9\", \"Topic10\", \"Topic10\", \"Topic10\", \"Topic10\", \"Topic10\", \"Topic10\", \"Topic10\", \"Topic10\", \"Topic10\", \"Topic10\", \"Topic10\", \"Topic10\", \"Topic10\", \"Topic10\", \"Topic10\", \"Topic10\", \"Topic10\", \"Topic10\", \"Topic10\", \"Topic10\", \"Topic10\", \"Topic10\", \"Topic10\", \"Topic10\", \"Topic10\", \"Topic10\", \"Topic10\", \"Topic10\", \"Topic10\", \"Topic10\", \"Topic10\", \"Topic10\", \"Topic10\", \"Topic10\", \"Topic10\", \"Topic10\", \"Topic10\", \"Topic10\", \"Topic10\", \"Topic10\", \"Topic10\", \"Topic10\", \"Topic10\"], \"Freq\": [186965.0, 105748.0, 103658.0, 78497.0, 101648.0, 75821.0, 44709.0, 101544.0, 80198.0, 76926.0, 34891.0, 41815.0, 33455.0, 41022.0, 45042.0, 32446.0, 38928.0, 25887.0, 36382.0, 56136.0, 23549.0, 28599.0, 21224.0, 29869.0, 26383.0, 24201.0, 16804.0, 20000.0, 46504.0, 17288.0, 36381.2734375, 8754.0185546875, 6763.41162109375, 8200.2158203125, 6123.03076171875, 5961.6044921875, 5238.90576171875, 4885.888671875, 4886.66064453125, 4704.74365234375, 4600.72119140625, 4428.64990234375, 4209.5029296875, 4014.42333984375, 3795.5068359375, 3769.930419921875, 3702.594970703125, 3646.552978515625, 3633.24072265625, 3584.71484375, 3546.03955078125, 3319.95263671875, 2957.4052734375, 2910.4228515625, 2889.146240234375, 2830.743408203125, 2773.802001953125, 2698.45654296875, 2598.030029296875, 2724.755615234375, 5163.52880859375, 4109.83203125, 4909.93701171875, 3095.09326171875, 3591.86083984375, 9318.7626953125, 9639.25, 74418.4609375, 9560.4912109375, 8868.9091796875, 5070.63427734375, 22498.689453125, 8631.33984375, 33640.54296875, 6308.60400390625, 6141.8662109375, 14689.380859375, 6986.033203125, 10445.8798828125, 10719.8076171875, 8321.1083984375, 6903.59375, 7197.83935546875, 7378.125, 5859.57666015625, 5639.55224609375, 5727.28955078125, 5395.4716796875, 5376.208984375, 105747.765625, 78496.1015625, 41814.046875, 28598.5078125, 13895.01953125, 8824.80078125, 8362.330078125, 6208.431640625, 5288.826171875, 4377.8662109375, 3724.361572265625, 2706.165771484375, 2594.241455078125, 2263.30615234375, 2244.01171875, 2108.35107421875, 2029.4600830078125, 2015.2054443359375, 1955.5927734375, 1892.1329345703125, 1784.5540771484375, 1668.2708740234375, 1588.1251220703125, 1547.6846923828125, 1421.81787109375, 8025.79638671875, 1380.4232177734375, 1290.4268798828125, 1256.40234375, 1241.451904296875, 5836.2255859375, 32863.8046875, 37158.8984375, 138887.484375, 9036.2080078125, 8359.2822265625, 6031.33984375, 8672.1865234375, 36176.546875, 7558.6875, 3136.125, 5605.02685546875, 22444.068359375, 2715.21240234375, 7415.71728515625, 3480.046630859375, 9301.1435546875, 3282.700927734375, 5558.34375, 3669.068115234375, 3732.79150390625, 20249.509765625, 17183.193359375, 12113.7958984375, 11655.5751953125, 9880.4189453125, 7769.31103515625, 6887.361328125, 6812.7138671875, 6667.20654296875, 5882.7255859375, 5825.298828125, 5105.1865234375, 4747.63671875, 4460.04345703125, 4283.91796875, 4221.42578125, 4055.787841796875, 3856.84228515625, 3741.518310546875, 3696.765380859375, 3641.0419921875, 3591.223876953125, 3423.82421875, 3374.655029296875, 3363.695556640625, 3121.068603515625, 3052.853271484375, 2975.7265625, 2929.91259765625, 8332.369140625, 3775.9814453125, 6796.5556640625, 14419.2919921875, 10070.5478515625, 14632.2421875, 28824.033203125, 10233.8193359375, 7491.78759765625, 5802.0654296875, 7708.44677734375, 9706.0810546875, 19978.619140625, 9383.09375, 4790.13427734375, 7536.94482421875, 10262.1865234375, 7592.52587890625, 4954.56103515625, 5321.5126953125, 33454.90625, 14079.009765625, 7240.24755859375, 6167.23779296875, 5118.431640625, 4803.638671875, 4693.130859375, 3947.0126953125, 3109.142578125, 2573.609619140625, 2374.554443359375, 2164.025634765625, 2132.195556640625, 2020.4527587890625, 1977.868896484375, 1924.73486328125, 1758.5064697265625, 1696.997802734375, 1598.490478515625, 1525.4801025390625, 1510.6669921875, 1484.6951904296875, 1477.2208251953125, 1428.730224609375, 1414.447509765625, 1397.2081298828125, 1376.713623046875, 1314.719970703125, 1306.287841796875, 1303.722900390625, 23596.935546875, 23354.140625, 29380.05078125, 4612.810546875, 6962.36767578125, 19320.88671875, 6037.49267578125, 15914.517578125, 4848.00439453125, 8159.501953125, 6426.15185546875, 4647.3349609375, 6468.904296875, 7449.412109375, 8344.708984375, 9116.7060546875, 3133.55419921875, 10739.5263671875, 4033.923095703125, 7582.37060546875, 11329.9892578125, 6253.357421875, 4735.57177734375, 6548.61376953125, 7252.99267578125, 7175.2353515625, 6189.29345703125, 5186.8486328125, 44708.50390625, 12734.708984375, 10520.03125, 9834.400390625, 7784.33642578125, 6088.31689453125, 5636.96630859375, 5492.005859375, 5115.60595703125, 4385.84130859375, 3776.751220703125, 3258.52099609375, 3113.044189453125, 3059.453369140625, 2865.72216796875, 2823.088623046875, 2573.530029296875, 2544.68798828125, 2465.357421875, 2362.450439453125, 2253.350830078125, 2246.458740234375, 2224.87255859375, 2008.5230712890625, 1968.4852294921875, 1961.1966552734375, 1905.3681640625, 1817.4052734375, 1796.716796875, 1688.2799072265625, 4136.5595703125, 3791.641845703125, 10125.03515625, 9679.89453125, 4571.17431640625, 5854.15185546875, 9047.837890625, 5938.78515625, 4040.037353515625, 5116.732421875, 14582.4873046875, 14542.7841796875, 11315.33984375, 5213.685546875, 7142.1416015625, 6314.33642578125, 4703.228515625, 3698.62451171875, 3585.47265625, 19999.85546875, 18021.90625, 16822.087890625, 13422.712890625, 10297.3125, 6970.82275390625, 5669.8125, 5440.328125, 4963.90380859375, 4777.0478515625, 4538.5986328125, 4190.103515625, 3713.15625, 3595.0556640625, 3488.6259765625, 3085.083251953125, 3065.655029296875, 2351.348876953125, 2251.392333984375, 2218.513916015625, 2131.21142578125, 1917.38720703125, 1882.506591796875, 1789.7305908203125, 1776.4732666015625, 1690.833984375, 1546.1971435546875, 1540.5921630859375, 1531.6265869140625, 1515.4420166015625, 25859.97265625, 55821.94140625, 39644.0625, 13403.509765625, 4517.900390625, 14038.61328125, 16061.62890625, 12904.462890625, 20075.02734375, 3217.488037109375, 15941.595703125, 3846.501953125, 3681.54541015625, 28028.220703125, 8750.951171875, 7386.705078125, 4923.24169921875, 6514.0859375, 3766.89697265625, 3731.47021484375, 23548.1328125, 11963.4248046875, 6474.3291015625, 7218.216796875, 5120.57958984375, 3378.03466796875, 3064.63330078125, 2989.700439453125, 2731.7919921875, 2724.15673828125, 2696.62890625, 2591.411376953125, 2525.135009765625, 2470.154541015625, 2450.20654296875, 2375.6328125, 2361.369873046875, 2193.7470703125, 2192.397705078125, 1925.6536865234375, 1902.6998291015625, 1866.64306640625, 1707.5186767578125, 1642.582275390625, 1625.20068359375, 1560.8115234375, 1520.0465087890625, 1488.48388671875, 1447.1895751953125, 1447.4027099609375, 15514.861328125, 72004.8203125, 3187.992919921875, 7658.6826171875, 38322.9140625, 31974.451171875, 2527.959228515625, 8672.072265625, 5702.0146484375, 8556.39453125, 12582.083984375, 5666.96533203125, 3025.529296875, 2460.626953125, 2452.563232421875, 34891.00390625, 15042.2001953125, 14649.2705078125, 7576.7666015625, 7488.58642578125, 6360.9482421875, 6772.865234375, 5506.56396484375, 6367.35546875, 4643.33935546875, 4574.59765625, 3880.936279296875, 3201.56396484375, 3025.042236328125, 2742.816162109375, 2694.73193359375, 2402.337158203125, 2402.03515625, 2310.772705078125, 2147.396484375, 2135.537841796875, 2106.642578125, 2024.2069091796875, 1973.911865234375, 1945.8349609375, 1921.030517578125, 1828.7568359375, 1764.085205078125, 1756.802734375, 1753.962158203125, 3100.425537109375, 21999.91796875, 21700.3125, 6331.71728515625, 6143.22802734375, 3289.814453125, 20322.66796875, 6064.146484375, 5752.85888671875, 3289.511474609375, 5123.60595703125, 2720.389892578125, 2483.213623046875, 2618.796630859375, 21223.70703125, 17287.83203125, 15194.6904296875, 15199.3828125, 8620.7841796875, 6617.77392578125, 6602.52783203125, 4939.36376953125, 4372.52392578125, 4095.434326171875, 4017.055419921875, 3854.850830078125, 3464.617919921875, 3191.034423828125, 3148.093505859375, 3138.923095703125, 3037.149169921875, 2785.41943359375, 2756.849853515625, 12844.009765625, 2630.656005859375, 2581.025390625, 2395.159423828125, 5165.43603515625, 2140.098388671875, 2055.751220703125, 1949.5557861328125, 10228.6484375, 1879.0205078125, 1735.0731201171875, 3352.79541015625, 4613.9716796875, 16813.927734375, 5508.6728515625, 4192.9736328125, 23381.912109375, 4860.3466796875, 20049.037109375, 3951.51318359375, 7861.298828125, 7099.37353515625, 5180.68212890625, 5548.52880859375, 16803.66796875, 7314.95703125, 4965.6552734375, 4154.40478515625, 3834.07958984375, 3282.618408203125, 3266.240478515625, 3254.673828125, 3222.9208984375, 3193.78369140625, 3145.079833984375, 3136.662353515625, 3051.79345703125, 2979.172607421875, 2835.7451171875, 2706.468505859375, 2595.469970703125, 2584.654541015625, 2319.60400390625, 2241.088623046875, 2182.826904296875, 1925.0391845703125, 1840.4346923828125, 1834.2647705078125, 1786.328125, 1758.5579833984375, 1755.1441650390625, 1664.6759033203125, 1633.3284912109375, 1587.57861328125, 9559.1689453125, 13441.318359375, 4685.97119140625, 4190.4775390625, 3861.37158203125, 2533.9404296875, 4007.902587890625, 3592.677734375, 8879.48046875, 4046.513427734375, 4187.86767578125, 5854.41455078125, 2590.617431640625], \"Term\": [\"qualit\\u00e4t\", \"schnellen\", \"zufrieden\", \"lieferung\", \"einfach\", \"super\", \"kalender\", \"bild\", \"foto\", \"bestellen\", \"produkt\", \"schnell\", \"fotob\\u00fccher\", \"cewe\", \"service\", \"ander\", \"preisen\", \"tollen\", \"seite\", \"fotobuch\", \"format\", \"bearbeitung\", \"handhabung\", \"erstellen\", \"buch\", \"ergebnis\", \"gerne\", \"auswahl\", \"bestellung\", \"klappen\", \"seite\", \"rand\", \"\\u00e4ndern\", \"wei\\u00df\", \"text\", \"einf\\u00fcgen\", \"manchmal\", \"einzeln\", \"schwierig\", \"ausw\\u00e4hlen\", \"r\\u00fcckseite\", \"abschneiden\", \"schrift\", \"erkennen\", \"verschieben\", \"speichern\", \"manch\", \"dunkel\", \"m\\u00fcsste\", \"umschlag\", \"st\\u00f6ren\", \"aussehen\", \"erscheinen\", \"paket\", \"vorschau\", \"hinweisen\", \"z.\", \"bildschirm\", \"b.\", \"nachbestellen\", \"layout\", \"paar\", \"anzeigen\", \"einband\", \"umst\\u00e4ndlich\", \"fehlen\", \"rahmen\", \"bild\", \"hintergrund\", \"zum beispiel\", \"verbessern\", \"finden\", \"schaden\", \"foto\", \"karten\", \"fehler\", \"sch\\u00f6n\", \"klein\", \"ander\", \"geben\", \"sehen\", \"drucken\", \"m\\u00f6glichkeit\", \"buchen\", \"...\", \"jed\", \"karte\", \"einig\", \"2\", \"schnellen\", \"lieferung\", \"schnell\", \"bearbeitung\", \"top\", \"zuverl\\u00e4ssig\", \"abwicklung\", \"..\", \"problemlos\", \"preis-leistungsverh\\u00e4ltnis\", \"preiswert\", \"hochladen\", \"schnelligkeit\", \"preis-leistung\", \"kurze\", \"hervorragend\", \"h\\u00fclle\", \"tolles\", \"prompt\", \"fair\", \"erledigung\", \"okay\", \"bedienend\", \".....\", \"produktes\", \"ausf\\u00fchrung\", \"angemessen\", \"o.k.\", \"zusammenstellen\", \"bearbeitungszeit\", \"leistung\", \"preisen\", \"service\", \"qualit\\u00e4t\", \"stimmen\", \"unkompliziert\", \"ok\", \"g\\u00fcnstig\", \"super\", \"lieferzeit\", \"verarbeitung\", \"versand\", \"einfach\", \"hervorragen\", \"toll\", \"ordnung\", \"software\", \"erfolgen\", \"bestellung\", \"arbeit\", \"liefern\", \"filiale\", \"erhalten\", \"dm\", \"abholen\", \"ankommen\", \"dauern\", \"woche\", \"laufen\", \"markt\", \"frage\", \"bezahlen\", \"mail\", \"mitarbeiter\", \"x\", \"antwort\", \"hotline\", \"warten\", \"vorstellen\", \"langen\", \"danke\", \"versenden\", \"telefonisch\", \"version\", \"20\", \"m\\u00fcller\", \"porto\", \"e-mail\", \"option\", \"30\", \"sp\\u00e4t\", \"euro\", \"per\", \"bekommen\", \"3\", \"2\", \"bestellung\", \"auftrag\", \"abholung\", \"reklamation\", \"1\", \"liefern\", \"bestellen\", \"karte\", \"5\", \"mal\", \"fotobuch\", \"buchen\", \"4\", \"finden\", \"fotob\\u00fccher\", \"danken\", \"angebot\", \"arbeiten\", \"alt\", \"cliparts\", \"bieten\", \"selber\", \"rossmann\", \"rabatt\", \"thema\", \"anfertigen\", \"wechseln\", \"h\\u00e4ufig\", \"vermissen\", \"sprechen\", \"team\", \"update\", \"projekt\", \"dame\", \"jedesmal\", \"warenkorb\", \"hilfsbereit\", \"fotoservice\", \"video\", \"vergr\\u00f6\\u00dfern\", \"anleitung\", \"herr\", \"personal\", \"selten\", \"buch\", \"erstellen\", \"fotobuch\", \"nutzen\", \"arbeit\", \"cewe\", \"n\\u00e4chst\", \"geben\", \"fallen\", \"problem\", \"mehrer\", \"freundlich\", \"neu\", \"lassen\", \"mal\", \"gestalten\", \"freude\", \"software\", \"freuen\", \"programm\", \"zufrieden\", \"m\\u00f6glichkeit\", \"einig\", \"buchen\", \"sch\\u00f6n\", \"bestellen\", \"finden\", \"all\", \"kalender\", \"begeistern\", \"entt\\u00e4uschen\", \"weihnachten\", \"papier\", \"matt\", \"total\", \"teilweise\", \"verschenken\", \"fotopapier\", \"hilfe\", \":)\", \"rechtzeitig\", \"wandbild\", \"gelingen\", \"monat\", \"darstellen\", \"tasse\", \"v\\u00f6llig\", \"dhl\", \"handyh\\u00fclle\", \"person\", \"entwickeln\", \"schief\", \"fotos\", \"raus\", \"\\u00e4u\\u00dfern\", \"gedenken\", \"rasch\", \"weihnachtsgeschenk\", \"diesmal\", \"unzufrieden\", \"farbe\", \"drucken\", \"trotzen\", \"bildqualit\\u00e4t\", \"sehen\", \"geschenk\", \"dunkeln\", \"w\\u00fcnschen\", \"foto\", \"bild\", \"bestellen\", \"letzt\", \"fotobuch\", \"sch\\u00f6n\", \"buchen\", \"obwohl\", \"lassen\", \"auswahl\", \"gestaltung\", \"gestaltungsm\\u00f6glichkeiten\", \"sch\\u00f6ne\", \"bedienen\", \"individuell\", \"klasse\", \"qualitativ\", \"anwendung\", \"\\u00fcbersichtlich\", \"bedienbarkeit\", \"verst\\u00e4ndlich\", \"leichte\", \"vielf\\u00e4ltig\", \"preis\", \"papierqualit\\u00e4t\", \"individuelle\", \"bringen\", \"vorstellung\", \"vielseitig\", \"preis-leistungs-verh\\u00e4ltnis\", \"umfangreich\", \"verh\\u00e4ltnis\", \"herstellung\", \"ausreichen\", \"einfaches\", \"beste\", \"vielfalt\", \"sauber\", \"verst\\u00e4ndliche\", \"tollen\", \"einfach\", \"super\", \"toll\", \"ware\", \"m\\u00f6glichkeit\", \"programm\", \"gestalten\", \"sch\\u00f6n\", \"sache\", \"software\", \"pers\\u00f6nlich\", \"vorliegen\", \"qualit\\u00e4t\", \"karte\", \"ergebnis\", \"geschenk\", \"erstellen\", \"...\", \"sehen\", \"format\", \"abzug\", \"cm\", \"unterschiedlich\", \"poster\", \"rundum\", \"siehe\", \"fotoqualit\\u00e4t\", \"leinwand\", \"leistungsverh\\u00e4ltnis\", \"bilder\", \"10x15\", \"gesamt\", \"lade\", \"u\", \"artikel\", \"collage\", \"sowohl\", \"wandbilder\", \"schwierigkeit\", \"mehrmals\", \"wissen\", \"preis-\", \"gepasst\", \"bilderrahmen\", \"kind\", \"schauen\", \"mangel\", \"ordentlich\", \"zuhause\", \"gr\\u00f6\\u00dfe\", \"zufrieden\", \"handy\", \"verschieden\", \"bestellen\", \"foto\", \"passen\", \"all\", \"klein\", \"...\", \"bild\", \"bestellung\", \"bekommen\", \"liefern\", \"mal\", \"produkt\", \"teuer\", \"anbieter\", \"fotob\\u00fcchern\", \"\\u00fcberzeugen\", \"voll\", \"\\u20ac\", \"zufriedenheit\", \"versandkosten\", \"freunden\", \"vergleichen\", \"meist\", \"email\", \"datum\", \"eintreffen\", \"kennen\", \"ort\", \"ausprobieren\", \"urlaub\", \"punkten\", \"werbung\", \"intuitiv\", \"information\", \"einl\\u00f6sen\", \"jederzeit\", \"exemplar\", \"angegeben\", \"toller\", \"ausfallen\", \"preislich\", \"einzig\", \"ander\", \"cewe\", \"kunde\", \"gutschein\", \"absolut\", \"zufrieden\", \"preisen\", \"geben\", \"erfahrung\", \"finden\", \"fast\", \"druckqualit\\u00e4t\", \"g\\u00fcnstig\", \"handhabung\", \"klappen\", \"einfache\", \"bedienung\", \"perfekt\", \"relativ\", \"prima\", \"unkomplizierte\", \"kundenservice\", \"handhaben\", \"z\\u00fcgig\", \"schneller\", \"positiv\", \"rechnung\", \"bequemen\", \"fertigstellung\", \"praktisch\", \"zufriedenstellen\", \"fotoabz\\u00fcge\", \"erstellung\", \"reibungslos\", \"lieferzeiten\", \"wunderbar\", \"idee\", \"ablauf\", \"bestellsoftware\", \"empfehlung\", \"funktionieren\", \"lieferservice\", \"ank\\u00fcndigen\", \"fragen\", \"bestens\", \"ergebnis\", \"online\", \"app\", \"einfach\", \"erfahrung\", \"qualit\\u00e4t\", \"fotobuches\", \"software\", \"service\", \"programm\", \"bestellung\", \"gerne\", \"entsprechen\", \"bekennen\", \"erinnerung\", \"freund\", \"zeigen\", \"weiterhin\", \"w\\u00fcnschenswert\", \"helfen\", \"hand\", \"erkl\\u00e4ren\", \"zurecht\", \"halten\", \"wundersch\\u00f6n\", \"telefon\", \"u.\", \"geliefert\", \"erwartung\", \"aktuell\", \"gestalt\", \"aufnehmen\", \"bisschen\", \"endprodukt\", \"pixum\", \"farbqualit\\u00e4t\", \"bislang\", \"inzwischen\", \"umsetzen\", \"gering\", \"bez\\u00fcglich\", \"empfehlen\", \"jed\", \"gru\\u00dfkarten\", \"weiterempfehlen\", \"bleiben\", \"art\", \"nehmen\", \"fall\", \"buchen\", \"freuen\", \"malen\", \"fotobuch\", \"mehrfach\"], \"Total\": [186965.0, 105748.0, 103658.0, 78497.0, 101648.0, 75821.0, 44709.0, 101544.0, 80198.0, 76926.0, 34891.0, 41815.0, 33455.0, 41022.0, 45042.0, 32446.0, 38928.0, 25887.0, 36382.0, 56136.0, 23549.0, 28599.0, 21224.0, 29869.0, 26383.0, 24201.0, 16804.0, 20000.0, 46504.0, 17288.0, 36382.2421875, 8754.98828125, 6764.3828125, 8201.4365234375, 6124.00048828125, 5962.57421875, 5239.87548828125, 4886.8583984375, 4887.63330078125, 4705.71337890625, 4601.69091796875, 4429.61962890625, 4210.47265625, 4015.392822265625, 3796.476318359375, 3770.900146484375, 3703.564453125, 3647.5224609375, 3634.210205078125, 3585.684326171875, 3547.009033203125, 3320.92236328125, 2958.374755859375, 2911.392578125, 2890.11572265625, 2831.713134765625, 2774.771484375, 2699.426025390625, 2598.99951171875, 2725.7744140625, 5170.4794921875, 4118.4736328125, 4941.810546875, 3102.663818359375, 3650.89501953125, 10287.7470703125, 10744.4013671875, 101544.078125, 11206.4345703125, 10391.1123046875, 5713.771484375, 40783.8671875, 11754.9794921875, 80198.234375, 8267.0498046875, 8696.037109375, 50456.86328125, 12688.9658203125, 32446.66015625, 35442.51953125, 21101.17578125, 16584.34765625, 27490.568359375, 35102.49609375, 28059.505859375, 20045.107421875, 23862.091796875, 13002.7685546875, 20023.53515625, 105748.75, 78497.0859375, 41815.03125, 28599.48828125, 13896.001953125, 8825.783203125, 8363.3125, 6209.4150390625, 5289.80859375, 4378.8486328125, 3725.343994140625, 2707.148681640625, 2595.2236328125, 2264.28857421875, 2244.994384765625, 2109.33349609375, 2030.44287109375, 2016.1878662109375, 1956.5753173828125, 1893.115478515625, 1785.5364990234375, 1669.25341796875, 1589.1075439453125, 1548.6673583984375, 1422.8004150390625, 8031.38330078125, 1381.40576171875, 1291.409423828125, 1257.385009765625, 1242.4344482421875, 6000.134765625, 38928.82421875, 45042.76171875, 186965.640625, 10562.8720703125, 9727.669921875, 7361.6123046875, 11291.8544921875, 75821.4921875, 11013.7666015625, 4128.0458984375, 10501.4345703125, 101648.6953125, 3331.520263671875, 23424.4375, 5652.9619140625, 49024.875, 5772.4462890625, 46504.66015625, 10632.3154296875, 16189.998046875, 20250.4765625, 17184.16015625, 12114.763671875, 11656.54296875, 9881.38671875, 7770.27880859375, 6888.3291015625, 6813.681640625, 6668.17431640625, 5883.693359375, 5826.29638671875, 5106.154296875, 4748.64697265625, 4461.01123046875, 4284.8857421875, 4222.3935546875, 4056.755126953125, 3857.81005859375, 3742.485595703125, 3697.73291015625, 3642.009521484375, 3592.19140625, 3424.7919921875, 3375.622314453125, 3364.6630859375, 3122.035888671875, 3053.820556640625, 2976.694580078125, 2930.8798828125, 8335.1865234375, 3853.478271484375, 7713.15625, 18500.94921875, 12214.310546875, 20023.53515625, 46504.66015625, 13259.2431640625, 9119.697265625, 7042.92724609375, 10786.16015625, 16189.998046875, 76926.234375, 23862.091796875, 6033.0625, 21371.88671875, 56136.61328125, 35102.49609375, 7224.52880859375, 40783.8671875, 33455.875, 14079.9775390625, 7241.21484375, 6168.205078125, 5119.39892578125, 4804.60595703125, 4694.09814453125, 3947.980224609375, 3110.110107421875, 2574.576904296875, 2375.521728515625, 2164.9931640625, 2133.162841796875, 2021.4202880859375, 1978.83642578125, 1925.702392578125, 1759.4739990234375, 1697.96533203125, 1599.4580078125, 1526.4476318359375, 1511.634521484375, 1485.6627197265625, 1478.1883544921875, 1429.69775390625, 1415.420654296875, 1398.1756591796875, 1377.6810302734375, 1315.6875, 1307.25537109375, 1304.6903076171875, 26383.66796875, 29869.091796875, 56136.61328125, 6211.6611328125, 10632.3154296875, 41022.0546875, 9503.9541015625, 35442.51953125, 7245.03857421875, 14906.09375, 11697.900390625, 7602.51025390625, 12364.732421875, 15612.7421875, 21371.88671875, 25351.486328125, 4297.98681640625, 49024.875, 8081.2861328125, 33039.15234375, 103658.2265625, 27490.568359375, 13002.7685546875, 35102.49609375, 50456.86328125, 76926.234375, 40783.8671875, 22281.005859375, 44709.47265625, 12735.6767578125, 10520.9990234375, 9835.3681640625, 7785.30419921875, 6089.28466796875, 5637.935546875, 5492.9736328125, 5116.57373046875, 4386.80908203125, 3777.719482421875, 3259.489013671875, 3114.011962890625, 3060.421142578125, 2866.690185546875, 2824.056396484375, 2574.497802734375, 2545.65576171875, 2466.325439453125, 2363.41845703125, 2254.318603515625, 2247.426513671875, 2225.84033203125, 2009.4910888671875, 1969.4532470703125, 1962.1646728515625, 1906.336181640625, 1818.373291015625, 1797.684814453125, 1689.2479248046875, 4793.74560546875, 4666.73291015625, 16787.1015625, 16584.34765625, 6674.68603515625, 9772.6259765625, 21101.17578125, 11493.29296875, 6140.5166015625, 10296.8515625, 80198.234375, 101544.078125, 76926.234375, 16672.236328125, 56136.61328125, 50456.86328125, 35102.49609375, 12900.787109375, 15612.7421875, 20000.853515625, 18022.880859375, 16823.0625, 13423.6884765625, 10298.2880859375, 6971.79833984375, 5670.7880859375, 5441.3037109375, 4964.87939453125, 4778.0234375, 4539.57421875, 4191.0791015625, 3714.13232421875, 3596.031494140625, 3489.601806640625, 3086.05908203125, 3066.630859375, 2352.3251953125, 2252.3681640625, 2219.489990234375, 2132.187255859375, 1918.3631591796875, 1883.4825439453125, 1790.70654296875, 1777.44921875, 1691.809814453125, 1547.173095703125, 1541.5679931640625, 1532.6025390625, 1516.4178466796875, 25887.390625, 101648.6953125, 75821.4921875, 23424.4375, 5965.490234375, 27490.568359375, 33039.15234375, 25351.486328125, 50456.86328125, 3965.38623046875, 49024.875, 5332.53466796875, 5041.26171875, 186965.640625, 23862.091796875, 24201.501953125, 11493.29296875, 29869.091796875, 28059.505859375, 21101.17578125, 23549.099609375, 11964.392578125, 6475.29736328125, 7219.4384765625, 5121.5478515625, 3379.0029296875, 3065.6015625, 2990.6689453125, 2732.76025390625, 2725.125, 2697.59716796875, 2592.379638671875, 2526.103515625, 2471.123046875, 2451.1748046875, 2376.60107421875, 2362.33837890625, 2194.715576171875, 2193.365966796875, 1926.6220703125, 1903.668212890625, 1867.6114501953125, 1708.4869384765625, 1643.5506591796875, 1626.1689453125, 1561.7799072265625, 1521.0150146484375, 1489.4522705078125, 1448.157958984375, 1448.37109375, 15531.318359375, 103658.2265625, 3520.640625, 9568.8876953125, 76926.234375, 80198.234375, 3052.858154296875, 22281.005859375, 12688.9658203125, 28059.505859375, 101544.078125, 46504.66015625, 18500.94921875, 16189.998046875, 21371.88671875, 34891.96875, 15043.166015625, 14650.236328125, 7577.732421875, 7489.55224609375, 6361.9140625, 6774.0400390625, 5507.52978515625, 6368.52685546875, 4644.30517578125, 4575.5634765625, 3881.902099609375, 3202.5322265625, 3026.008056640625, 2743.781982421875, 2695.69775390625, 2403.30322265625, 2403.002685546875, 2311.738525390625, 2148.3623046875, 2136.503662109375, 2107.608642578125, 2025.1727294921875, 1974.8775634765625, 1946.8006591796875, 1921.996337890625, 1829.72265625, 1765.0509033203125, 1757.7684326171875, 1754.9278564453125, 3103.966064453125, 32446.66015625, 41022.0546875, 9657.1259765625, 9350.0263671875, 4392.99658203125, 103658.2265625, 38928.82421875, 35442.51953125, 8150.71826171875, 40783.8671875, 5755.05615234375, 3700.37451171875, 11291.8544921875, 21224.677734375, 17288.802734375, 15195.6630859375, 15200.3544921875, 8621.755859375, 6618.74560546875, 6603.49951171875, 4940.33544921875, 4373.49560546875, 4096.40576171875, 4018.02685546875, 3855.822265625, 3465.589599609375, 3192.006103515625, 3149.06494140625, 3139.894775390625, 3038.120849609375, 2786.39111328125, 2757.821533203125, 12848.5908203125, 2631.62744140625, 2581.9970703125, 2396.131103515625, 5167.74951171875, 2141.070068359375, 2056.722900390625, 1950.5272216796875, 10233.7939453125, 1879.991943359375, 1736.044677734375, 3358.117431640625, 5181.794921875, 24201.501953125, 8063.89501953125, 6258.708984375, 101648.6953125, 8150.71826171875, 186965.640625, 7278.376953125, 49024.875, 45042.76171875, 33039.15234375, 46504.66015625, 16804.650390625, 7315.91650390625, 4966.6142578125, 4155.36376953125, 3835.038818359375, 3283.57763671875, 3267.19970703125, 3255.633056640625, 3223.880126953125, 3194.742919921875, 3146.0390625, 3137.62158203125, 3052.752685546875, 2980.1318359375, 2836.704345703125, 2707.427734375, 2596.42919921875, 2585.61376953125, 2320.563232421875, 2242.0478515625, 2183.7861328125, 1925.9984130859375, 1841.3939208984375, 1835.2239990234375, 1787.287353515625, 1759.5172119140625, 1756.1033935546875, 1665.6351318359375, 1634.2877197265625, 1588.537841796875, 11436.34375, 20045.107421875, 5839.2392578125, 5970.4892578125, 5384.25634765625, 3078.98583984375, 6646.740234375, 6298.4912109375, 35102.49609375, 8081.2861328125, 14611.392578125, 56136.61328125, 3877.11767578125], \"loglift\": [30.0, 29.0, 28.0, 27.0, 26.0, 25.0, 24.0, 23.0, 22.0, 21.0, 20.0, 19.0, 18.0, 17.0, 16.0, 15.0, 14.0, 13.0, 12.0, 11.0, 10.0, 9.0, 8.0, 7.0, 6.0, 5.0, 4.0, 3.0, 2.0, 1.0, 1.6739000082015991, 1.673799991607666, 1.673799991607666, 1.673799991607666, 1.673799991607666, 1.673799991607666, 1.673799991607666, 1.673699975013733, 1.673699975013733, 1.673699975013733, 1.673699975013733, 1.673699975013733, 1.673699975013733, 1.673699975013733, 1.673699975013733, 1.673699975013733, 1.673699975013733, 1.673699975013733, 1.673699975013733, 1.673699975013733, 1.673699975013733, 1.673699975013733, 1.6735999584197998, 1.6735999584197998, 1.6735999584197998, 1.6735999584197998, 1.6735999584197998, 1.6735999584197998, 1.6735999584197998, 1.6735999584197998, 1.6726000308990479, 1.6718000173568726, 1.6675000190734863, 1.6714999675750732, 1.6576000452041626, 1.5750000476837158, 1.5654000043869019, 1.3631999492645264, 1.5151000022888184, 1.5154999494552612, 1.5544999837875366, 1.0791000127792358, 1.3651000261306763, 0.8051999807357788, 1.4035999774932861, 1.326200008392334, 0.4399000108242035, 1.0771000385284424, 0.5406000018119812, 0.4781000018119812, 0.743399977684021, 0.7975000143051147, 0.33390000462532043, 0.11420000344514847, 0.10769999772310257, 0.4058000147342682, 0.24690000712871552, 0.7943000197410583, 0.35899999737739563, 2.053800106048584, 2.053800106048584, 2.0536999702453613, 2.0536999702453613, 2.0536999702453613, 2.0536999702453613, 2.0536999702453613, 2.0536000728607178, 2.0536000728607178, 2.053499937057495, 2.053499937057495, 2.0534000396728516, 2.0534000396728516, 2.053299903869629, 2.053299903869629, 2.053299903869629, 2.053299903869629, 2.053299903869629, 2.053299903869629, 2.053299903869629, 2.0532000064849854, 2.0532000064849854, 2.0532000064849854, 2.053100109100342, 2.053100109100342, 2.053100109100342, 2.053100109100342, 2.052999973297119, 2.052999973297119, 2.052999973297119, 2.026099920272827, 1.8844000101089478, 1.8614000082015991, 1.756500005722046, 1.8976999521255493, 1.9021999835968018, 1.8545000553131104, 1.7898000478744507, 1.3137999773025513, 1.677299976348877, 1.7790000438690186, 1.4258999824523926, 0.5432999730110168, 1.8492000102996826, 0.9035999774932861, 1.568600058555603, 0.39160001277923584, 1.489300012588501, -0.07050000131130219, 0.989799976348877, 0.5864999890327454, 2.0629000663757324, 2.0629000663757324, 2.0629000663757324, 2.0629000663757324, 2.0629000663757324, 2.0629000663757324, 2.0627999305725098, 2.0627999305725098, 2.0627999305725098, 2.0627999305725098, 2.0627999305725098, 2.0627999305725098, 2.0627999305725098, 2.0627999305725098, 2.0627999305725098, 2.0627999305725098, 2.062700033187866, 2.062700033187866, 2.062700033187866, 2.062700033187866, 2.062700033187866, 2.062700033187866, 2.062700033187866, 2.062700033187866, 2.062700033187866, 2.062700033187866, 2.062700033187866, 2.062700033187866, 2.0625998973846436, 2.0625998973846436, 2.0427000522613525, 1.9364999532699585, 1.8136999607086182, 1.8700000047683716, 1.7493000030517578, 1.5845999717712402, 1.8040000200271606, 1.8664000034332275, 1.8691999912261963, 1.7269999980926514, 1.551300048828125, 0.7148000001907349, 1.1296000480651855, 1.8322999477386475, 1.0206999778747559, 0.3637000024318695, 0.5318999886512756, 1.6857999563217163, 0.026499999687075615, 2.313699960708618, 2.313699960708618, 2.3136000633239746, 2.3136000633239746, 2.3136000633239746, 2.3136000633239746, 2.313499927520752, 2.313499927520752, 2.3134000301361084, 2.3134000301361084, 2.3132998943328857, 2.3132998943328857, 2.3132998943328857, 2.3132998943328857, 2.3132998943328857, 2.313199996948242, 2.313199996948242, 2.313199996948242, 2.3131000995635986, 2.3131000995635986, 2.3131000995635986, 2.3131000995635986, 2.3131000995635986, 2.3131000995635986, 2.3131000995635986, 2.3131000995635986, 2.312999963760376, 2.312999963760376, 2.312999963760376, 2.312999963760376, 2.2021000385284424, 2.067699909210205, 1.6663000583648682, 2.016200065612793, 1.8904000520706177, 1.5607999563217163, 1.8600000143051147, 1.513100028038025, 1.9119999408721924, 1.7111999988555908, 1.7146999835968018, 1.8215999603271484, 1.6658999919891357, 1.573799967765808, 1.3732999563217163, 1.2910000085830688, 1.9977999925613403, 0.7954000234603882, 1.618899941444397, 0.8418999910354614, 0.10010000318288803, 0.8330000042915344, 1.3036999702453613, 0.6347000002861023, 0.37400001287460327, -0.05849999934434891, 0.42829999327659607, 0.8561000227928162, 2.385499954223633, 2.3854000568389893, 2.3854000568389893, 2.3854000568389893, 2.3854000568389893, 2.3852999210357666, 2.3852999210357666, 2.3852999210357666, 2.3852999210357666, 2.3852999210357666, 2.385200023651123, 2.385200023651123, 2.385200023651123, 2.385200023651123, 2.385200023651123, 2.385200023651123, 2.3850998878479004, 2.3850998878479004, 2.3850998878479004, 2.3850998878479004, 2.3850998878479004, 2.3850998878479004, 2.3850998878479004, 2.384999990463257, 2.384999990463257, 2.384999990463257, 2.384999990463257, 2.384999990463257, 2.384999990463257, 2.3849000930786133, 2.23799991607666, 2.177799940109253, 1.8798999786376953, 1.847100019454956, 2.0069000720977783, 1.8731000423431396, 1.538699984550476, 1.7252000570297241, 1.9667999744415283, 1.6862000226974487, 0.6808000206947327, 0.44209998846054077, 0.46880000829696655, 1.2230000495910645, 0.3237000107765198, 0.30720001459121704, 0.37549999356269836, 1.136199951171875, 0.9143000245094299, 2.41729998588562, 2.41729998588562, 2.41729998588562, 2.41729998588562, 2.41729998588562, 2.4172000885009766, 2.4172000885009766, 2.4172000885009766, 2.4172000885009766, 2.4172000885009766, 2.4172000885009766, 2.417099952697754, 2.417099952697754, 2.417099952697754, 2.417099952697754, 2.417099952697754, 2.417099952697754, 2.4170000553131104, 2.4168999195098877, 2.4168999195098877, 2.4168999195098877, 2.4168999195098877, 2.4168999195098877, 2.416800022125244, 2.416800022125244, 2.416800022125244, 2.4166998863220215, 2.4166998863220215, 2.4166998863220215, 2.4166998863220215, 2.416300058364868, 1.8179999589920044, 1.7689000368118286, 1.8590999841690063, 2.139400005340576, 1.745300054550171, 1.6960999965667725, 1.7421000003814697, 1.4957000017166138, 2.208400011062622, 1.2940000295639038, 2.0906999111175537, 2.103100061416626, 0.5196999907493591, 1.4142999649047852, 1.2305999994277954, 1.569599986076355, 0.8945000171661377, 0.4092999994754791, 0.6848999857902527, 2.4946000576019287, 2.4946000576019287, 2.494499921798706, 2.494499921798706, 2.494499921798706, 2.4944000244140625, 2.49429988861084, 2.49429988861084, 2.49429988861084, 2.49429988861084, 2.49429988861084, 2.49429988861084, 2.49429988861084, 2.49429988861084, 2.49429988861084, 2.49429988861084, 2.49429988861084, 2.4941999912261963, 2.4941999912261963, 2.4941999912261963, 2.4941999912261963, 2.4941000938415527, 2.4941000938415527, 2.4941000938415527, 2.4941000938415527, 2.49399995803833, 2.49399995803833, 2.49399995803833, 2.49399995803833, 2.49399995803833, 2.4935998916625977, 2.1303000450134277, 2.395400047302246, 2.2720000743865967, 1.7978999614715576, 1.5750999450683594, 2.305999994277954, 1.5509999990463257, 1.6948000192642212, 1.3070000410079956, 0.40639999508857727, 0.3898000121116638, 0.683899998664856, 0.6107000112533569, 0.3296999931335449, 2.610599994659424, 2.610599994659424, 2.6105000972747803, 2.6105000972747803, 2.6105000972747803, 2.6105000972747803, 2.6103999614715576, 2.6103999614715576, 2.6103999614715576, 2.6103999614715576, 2.6103999614715576, 2.6103999614715576, 2.610300064086914, 2.610300064086914, 2.610300064086914, 2.610300064086914, 2.6101999282836914, 2.6101999282836914, 2.6101999282836914, 2.6101999282836914, 2.6101999282836914, 2.6101999282836914, 2.610100030899048, 2.610100030899048, 2.610100030899048, 2.610100030899048, 2.610100030899048, 2.610100030899048, 2.610100030899048, 2.610100030899048, 2.609499931335449, 2.222100019454956, 1.9737999439239502, 2.188499927520752, 2.1905999183654785, 2.3213999271392822, 0.9812999963760376, 0.7512999773025513, 0.7924000024795532, 1.7031999826431274, 0.5361999869346619, 1.861299991607666, 2.211699962615967, 1.1491999626159668, 2.7000999450683594, 2.7000999450683594, 2.7000999450683594, 2.7000999450683594, 2.700000047683716, 2.700000047683716, 2.700000047683716, 2.700000047683716, 2.699899911880493, 2.699899911880493, 2.699899911880493, 2.699899911880493, 2.699899911880493, 2.6998000144958496, 2.6998000144958496, 2.6998000144958496, 2.6998000144958496, 2.6998000144958496, 2.6998000144958496, 2.6998000144958496, 2.6998000144958496, 2.6998000144958496, 2.699700117111206, 2.699700117111206, 2.699700117111206, 2.699700117111206, 2.699700117111206, 2.6995999813079834, 2.6995999813079834, 2.6995999813079834, 2.6986000537872314, 2.5841000080108643, 2.335900068283081, 2.3190999031066895, 2.2995998859405518, 1.2305999994277954, 2.183199882507324, 0.4674000144004822, 2.0892999172210693, 0.8697999715805054, 0.8525000214576721, 0.8474000096321106, 0.5741000175476074, 2.921099901199341, 2.9210000038146973, 2.9210000038146973, 2.9209001064300537, 2.9209001064300537, 2.9209001064300537, 2.9209001064300537, 2.9209001064300537, 2.9209001064300537, 2.920799970626831, 2.920799970626831, 2.920799970626831, 2.920799970626831, 2.920799970626831, 2.920799970626831, 2.920799970626831, 2.920799970626831, 2.920799970626831, 2.9207000732421875, 2.9207000732421875, 2.9207000732421875, 2.9207000732421875, 2.920599937438965, 2.920599937438965, 2.920599937438965, 2.920599937438965, 2.920599937438965, 2.920599937438965, 2.920599937438965, 2.9205000400543213, 2.7418999671936035, 2.5215001106262207, 2.7011001110076904, 2.5671000480651855, 2.58870005607605, 2.726300001144409, 2.415299892425537, 2.3596999645233154, 1.5465999841690063, 2.2295000553131104, 1.6714999675750732, 0.6606000065803528, 2.5179998874664307], \"logprob\": [30.0, 29.0, 28.0, 27.0, 26.0, 25.0, 24.0, 23.0, 22.0, 21.0, 20.0, 19.0, 18.0, 17.0, 16.0, 15.0, 14.0, 13.0, 12.0, 11.0, 10.0, 9.0, 8.0, 7.0, 6.0, 5.0, 4.0, 3.0, 2.0, 1.0, -3.506999969482422, -4.93149995803833, -5.189499855041504, -4.9969000816345215, -5.289000034332275, -5.315700054168701, -5.444900035858154, -5.514699935913086, -5.514500141143799, -5.552499771118164, -5.57480001449585, -5.6128997802734375, -5.663700103759766, -5.711100101470947, -5.767199993133545, -5.77400016784668, -5.791999816894531, -5.807199954986572, -5.8109002113342285, -5.824399948120117, -5.83519983291626, -5.901100158691406, -6.01669979095459, -6.032700061798096, -6.04010009765625, -6.060500144958496, -6.0808000564575195, -6.108399868011475, -6.146299839019775, -6.098700046539307, -5.459400177001953, -5.687699794769287, -5.509799957275391, -5.971199989318848, -5.822400093078613, -4.86899995803833, -4.83519983291626, -2.791300058364868, -4.843400001525879, -4.918499946594238, -5.47760009765625, -3.987600088119507, -4.9456000328063965, -3.5852999687194824, -5.259099960327148, -5.285900115966797, -4.413899898529053, -5.157100200653076, -4.754799842834473, -4.728899955749512, -4.9822001457214355, -5.169000148773193, -5.127299785614014, -5.102499961853027, -5.333000183105469, -5.371200084686279, -5.355800151824951, -5.415500164031982, -5.419000148773193, -2.0601000785827637, -2.3582000732421875, -2.98799991607666, -3.367799997329712, -4.089700222015381, -4.543600082397461, -4.597499847412109, -4.895299911499023, -5.055600166320801, -5.24459981918335, -5.406300067901611, -5.7256999015808105, -5.767899990081787, -5.904399871826172, -5.912899971008301, -5.975299835205078, -6.013400077819824, -6.020500183105469, -6.05049991607666, -6.083499908447266, -6.142000198364258, -6.209400177001953, -6.258600234985352, -6.28439998626709, -6.36929988861084, -4.638500213623047, -6.398799896240234, -6.46619987487793, -6.493000030517578, -6.504899978637695, -4.957099914550781, -3.228800058364868, -3.1059999465942383, -1.787500023841858, -4.519999980926514, -4.597799777984619, -4.924200057983398, -4.561100006103516, -3.1328001022338867, -4.698500156402588, -5.578199863433838, -4.997499942779541, -3.6101999282836914, -5.722300052642822, -4.717599868774414, -5.4741997718811035, -4.491099834442139, -5.53249979019165, -5.005899906158447, -5.421299934387207, -5.4039998054504395, -3.703900098800659, -3.8680999279022217, -4.217599868774414, -4.256199836730957, -4.42140007019043, -4.661799907684326, -4.782299995422363, -4.7932000160217285, -4.814799785614014, -4.940000057220459, -4.94980001449585, -5.081699848175049, -5.154300212860107, -5.216800212860107, -5.2571001052856445, -5.2718000411987305, -5.311800003051758, -5.362100124359131, -5.392499923706055, -5.4045000076293945, -5.4197001457214355, -5.433499813079834, -5.481200218200684, -5.495699882507324, -5.499000072479248, -5.573800086975098, -5.595900058746338, -5.621500015258789, -5.63700008392334, -4.591800212860107, -5.383299827575684, -4.795599937438965, -4.043399810791016, -4.402400016784668, -4.028800010681152, -3.350800037384033, -4.386300086975098, -4.698200225830078, -4.953800201416016, -4.6697001457214355, -4.439199924468994, -3.7172999382019043, -4.473100185394287, -5.145400047302246, -4.692200183868408, -4.383500099182129, -4.684800148010254, -5.111700057983398, -5.040200233459473, -2.9509999752044678, -3.816499948501587, -4.481599807739258, -4.642000198364258, -4.828400135040283, -4.8917999267578125, -4.91510009765625, -5.0883002281188965, -5.326900005340576, -5.515900135040283, -5.596399784088135, -5.689300060272217, -5.704100131988525, -5.757900238037109, -5.779200077056885, -5.806399822235107, -5.8968000411987305, -5.932400226593018, -5.992199897766113, -6.038899898529053, -6.048699855804443, -6.065999984741211, -6.071100234985352, -6.104400157928467, -6.114500045776367, -6.126699924468994, -6.141499996185303, -6.187600135803223, -6.193999767303467, -6.196000099182129, -3.300100088119507, -3.3104000091552734, -3.080899953842163, -4.932400226593018, -4.520699977874756, -3.5, -4.6631999015808105, -3.694000005722046, -4.882699966430664, -4.361999988555908, -4.600800037384033, -4.924900054931641, -4.594200134277344, -4.453100204467773, -4.339600086212158, -4.251100063323975, -5.3190999031066895, -4.087299823760986, -5.066500186920166, -4.435400009155273, -4.03380012512207, -4.6280999183654785, -4.906099796295166, -4.581999778747559, -4.479800224304199, -4.490600109100342, -4.638400077819824, -4.815100193023682, -2.5892999172210693, -3.8452000617980957, -4.036200046539307, -4.103600025177002, -4.337399959564209, -4.583099842071533, -4.660099983215332, -4.686200141906738, -4.757199764251709, -4.911099910736084, -5.0605998039245605, -5.208199977874756, -5.253900051116943, -5.271200180053711, -5.336699962615967, -5.3516998291015625, -5.444200038909912, -5.45550012588501, -5.487100124359131, -5.529799938201904, -5.577099800109863, -5.580100059509277, -5.589799880981445, -5.6921000480651855, -5.712200164794922, -5.71589994430542, -5.744800090789795, -5.792099952697754, -5.803500175476074, -5.865799903869629, -4.969600200653076, -5.056700229644775, -4.07450008392334, -4.1194000244140625, -4.869699954986572, -4.622300148010254, -4.186999797821045, -4.607999801635742, -4.993199825286865, -4.756999969482422, -3.709700107574463, -3.712399959564209, -3.9632999897003174, -4.7382001876831055, -4.423500061035156, -4.5467000007629395, -4.84119987487793, -5.081500053405762, -5.112599849700928, -3.3619000911712646, -3.4660000801086426, -3.534899950027466, -3.7606000900268555, -4.025700092315674, -4.415900230407715, -4.622399806976318, -4.66379976272583, -4.75540018081665, -4.793799877166748, -4.84499979019165, -4.924900054931641, -5.0457000732421875, -5.078000068664551, -5.108099937438965, -5.230999946594238, -5.237299919128418, -5.502600193023682, -5.546000003814697, -5.560800075531006, -5.600900173187256, -5.706600189208984, -5.724999904632568, -5.7754998207092285, -5.7829999923706055, -5.832399845123291, -5.921800136566162, -5.9253997802734375, -5.931300163269043, -5.94189977645874, -3.1048998832702637, -2.335400104522705, -2.6777000427246094, -3.7620999813079834, -4.8495001792907715, -3.7158000469207764, -3.581199884414673, -3.799999952316284, -3.358099937438965, -5.189000129699707, -3.58870005607605, -5.01039981842041, -5.054299831390381, -3.024399995803833, -4.188399791717529, -4.357900142669678, -4.763599872589111, -4.48360013961792, -5.031300067901611, -5.040800094604492, -3.121299982070923, -3.7985000610351562, -4.412499904632568, -4.303699970245361, -4.646999835968018, -5.063000202178955, -5.160399913787842, -5.185100078582764, -5.275400161743164, -5.278200149536133, -5.288300037384033, -5.328100204467773, -5.354000091552734, -5.375999927520752, -5.384099960327148, -5.414999961853027, -5.42110013961792, -5.494699954986572, -5.495299816131592, -5.625, -5.63700008392334, -5.656199932098389, -5.745299816131592, -5.783999919891357, -5.7947001457214355, -5.835100173950195, -5.861599922180176, -5.882599830627441, -5.910699844360352, -5.9105000495910645, -3.5385000705718994, -2.0035998821258545, -5.1209001541137695, -4.244500160217285, -2.6342999935150146, -2.8153998851776123, -5.35290002822876, -4.120200157165527, -4.5395002365112305, -4.133600234985352, -3.747999906539917, -4.5457000732421875, -5.1732001304626465, -5.379899978637695, -5.383200168609619, -2.6120998859405518, -3.4535000324249268, -3.4800000190734863, -4.1392998695373535, -4.151000022888184, -4.314199924468994, -4.251399993896484, -4.458399772644043, -4.313199996948242, -4.628900051116943, -4.643799781799316, -4.808300018310547, -5.000699996948242, -5.057400226593018, -5.155399799346924, -5.173099994659424, -5.287899971008301, -5.288000106811523, -5.3267998695373535, -5.400100231170654, -5.405600070953369, -5.419300079345703, -5.459199905395508, -5.484300136566162, -5.498700141906738, -5.511499881744385, -5.560699939727783, -5.596700191497803, -5.600900173187256, -5.602499961853027, -5.032800197601318, -3.0732998847961426, -3.0869998931884766, -4.31879997253418, -4.348999977111816, -4.973499774932861, -3.152600049972534, -4.361999988555908, -4.414700031280518, -4.973599910736084, -4.5304999351501465, -5.163599967956543, -5.254799842834473, -5.201600074768066, -3.019700050354004, -3.2248001098632812, -3.3538999557495117, -3.353600025177002, -3.920599937438965, -4.185100078582764, -4.187399864196777, -4.47760009765625, -4.5995001792907715, -4.664999961853027, -4.684299945831299, -4.725500106811523, -4.832200050354004, -4.9145002365112305, -4.927999973297119, -4.9309000968933105, -4.963900089263916, -5.0503997802734375, -5.060699939727783, -3.521899938583374, -5.107600212097168, -5.1265997886657715, -5.201399803161621, -4.432799816131592, -5.314000129699707, -5.3541998863220215, -5.407199859619141, -3.7495999336242676, -5.4440999031066895, -5.523799896240234, -4.864999771118164, -4.5457000732421875, -3.2525999546051025, -4.368500232696533, -4.64139986038208, -2.9228999614715576, -4.49370002746582, -3.0766000747680664, -4.700699806213379, -4.012899875640869, -4.114799976348877, -4.429900169372559, -4.361299991607666, -3.0322000980377197, -3.8638999462127686, -4.251299858093262, -4.429699897766113, -4.509900093078613, -4.665200233459473, -4.670199871063232, -4.673699855804443, -4.683499813079834, -4.692599773406982, -4.708000183105469, -4.710700035095215, -4.738100051879883, -4.762199878692627, -4.811500072479248, -4.8582000732421875, -4.900100231170654, -4.904200077056885, -5.012400150299072, -5.046899795532227, -5.073200225830078, -5.19890022277832, -5.243800163269043, -5.247200012207031, -5.27370023727417, -5.289299964904785, -5.291299819946289, -5.344200134277344, -5.3632001876831055, -5.391600131988525, -3.596299886703491, -3.255500078201294, -4.309299945831299, -4.421000003814697, -4.502799987792969, -4.924099922180176, -4.46560001373291, -4.574900150299072, -3.670099973678589, -4.455999851226807, -4.421599864959717, -4.086599826812744, -4.901899814605713]}, \"token.table\": {\"Topic\": [2, 1, 3, 4, 5, 6, 7, 8, 2, 1, 3, 7, 7, 1, 3, 7, 3, 1, 3, 5, 7, 3, 1, 3, 7, 1, 3, 8, 5, 3, 3, 9, 9, 1, 2, 8, 2, 7, 10, 1, 4, 5, 7, 4, 8, 1, 8, 4, 4, 8, 2, 3, 9, 4, 3, 6, 1, 5, 4, 9, 2, 4, 4, 4, 10, 7, 10, 2, 3, 8, 2, 7, 8, 6, 1, 6, 1, 1, 2, 2, 6, 6, 2, 9, 5, 10, 1, 3, 4, 5, 7, 8, 9, 6, 1, 3, 4, 5, 7, 8, 10, 9, 1, 2, 3, 5, 7, 8, 9, 3, 9, 3, 10, 4, 1, 5, 7, 7, 7, 2, 5, 6, 9, 1, 10, 10, 1, 10, 6, 1, 4, 6, 1, 3, 4, 5, 10, 4, 8, 4, 7, 7, 4, 3, 4, 5, 8, 3, 5, 1, 5, 3, 1, 5, 6, 8, 1, 1, 5, 3, 1, 4, 2, 6, 9, 9, 6, 1, 1, 4, 5, 7, 8, 8, 8, 1, 5, 8, 8, 8, 10, 9, 10, 10, 5, 5, 8, 9, 2, 3, 8, 10, 6, 9, 3, 10, 1, 10, 2, 1, 4, 6, 6, 9, 10, 1, 3, 8, 2, 1, 3, 10, 1, 4, 5, 1, 5, 6, 10, 1, 3, 5, 8, 1, 5, 1, 3, 9, 3, 1, 3, 4, 5, 6, 7, 8, 10, 7, 1, 5, 7, 9, 1, 3, 4, 5, 8, 10, 1, 6, 9, 10, 4, 8, 5, 7, 5, 4, 3, 1, 9, 4, 6, 4, 10, 10, 8, 3, 4, 4, 9, 1, 3, 4, 5, 7, 8, 10, 5, 10, 5, 7, 10, 10, 7, 5, 6, 8, 10, 1, 4, 6, 6, 6, 3, 10, 1, 7, 4, 8, 2, 8, 10, 10, 9, 9, 5, 7, 5, 10, 4, 6, 2, 6, 2, 5, 4, 1, 4, 1, 2, 3, 4, 2, 6, 9, 6, 6, 8, 8, 10, 1, 4, 10, 8, 4, 5, 1, 3, 6, 1, 3, 8, 7, 9, 6, 1, 7, 3, 4, 8, 10, 9, 2, 7, 3, 1, 3, 4, 5, 3, 1, 4, 6, 7, 2, 7, 7, 1, 3, 4, 5, 7, 2, 3, 5, 7, 9, 2, 2, 3, 9, 3, 1, 3, 4, 5, 7, 8, 10, 1, 3, 5, 7, 10, 1, 1, 7, 3, 5, 1, 4, 8, 1, 4, 10, 7, 8, 3, 5, 1, 4, 6, 3, 1, 1, 1, 3, 10, 1, 3, 4, 4, 8, 4, 7, 8, 10, 2, 1, 3, 5, 7, 1, 2, 2, 1, 9, 3, 7, 2, 5, 7, 8, 1, 7, 1, 5, 6, 1, 7, 3, 9, 9, 5, 4, 3, 6, 10, 10, 3, 9, 7, 9, 6, 7, 2, 6, 2, 2, 8, 8, 2, 9, 1, 3, 4, 2, 8, 2, 1, 4, 6, 9, 4, 2, 8, 6, 2, 6, 9, 4, 1, 4, 7, 1, 5, 5, 9, 5, 9, 2, 3, 5, 9, 4, 7, 1, 3, 6, 8, 6, 1, 3, 5, 7, 5, 2, 2, 9, 2, 1, 1, 7, 1, 4, 5, 6, 10, 6, 1, 5, 6, 1, 4, 4, 2, 8, 9, 7, 1, 2, 4, 6, 9, 7, 1, 4, 1, 3, 2, 7, 1, 2, 6, 5, 4, 5, 10, 3, 8, 1, 4, 2, 6, 9, 2, 6, 8, 2, 2, 5, 1, 3, 5, 7, 10, 6, 1, 10, 1, 4, 2, 9, 9, 7, 5, 7, 4, 8, 2, 6, 1, 4, 8, 4, 6, 4, 2, 3, 9, 8, 5, 1, 4, 7, 3, 3, 6, 6, 4, 6, 6, 6, 8, 1, 6, 1, 3, 6, 5, 5, 7, 5, 6, 4, 3, 4, 5, 5, 8, 10, 10, 1, 8, 7, 3, 9, 10, 1, 4, 5, 10, 3, 1, 10, 4, 7, 8, 8, 9, 7, 1, 4, 10, 2, 2, 9, 1, 5, 6, 8, 8], \"Freq\": [0.9997721314430237, 0.20884187519550323, 0.16158516705036163, 0.028795944526791573, 0.11418589949607849, 0.13425040245056152, 0.304923415184021, 0.04743490368127823, 0.9995690584182739, 0.2835114598274231, 0.7146194577217102, 0.0017615165561437607, 0.9994677901268005, 0.26848405599594116, 0.7307400703430176, 0.0006991772097535431, 0.9998156428337097, 0.17446747422218323, 0.8245246410369873, 0.0004093558818567544, 0.0004912270815111697, 0.9996997714042664, 0.3139305114746094, 0.685857892036438, 0.00013841733743902296, 0.17437246441841125, 0.793958306312561, 0.03149312734603882, 0.9998499751091003, 0.9999534487724304, 0.8215184807777405, 0.1784050464630127, 0.9995002150535583, 0.9998601078987122, 0.25085383653640747, 0.7489193081855774, 0.9998430609703064, 0.9998835921287537, 0.9997572898864746, 0.22301506996154785, 0.23279918730258942, 0.15493017435073853, 0.38921043276786804, 0.9997267127037048, 0.999915599822998, 0.3219437599182129, 0.6780359148979187, 0.9995412826538086, 0.9998322129249573, 0.9996050596237183, 0.9989823698997498, 0.9998596906661987, 0.9993982315063477, 0.9995056986808777, 0.999793291091919, 0.9998228549957275, 0.9935629963874817, 0.006273004692047834, 0.3299402594566345, 0.6699464917182922, 0.34508004784584045, 0.6547962427139282, 0.9998046159744263, 0.1766815483570099, 0.8229982852935791, 0.999747097492218, 0.9996399879455566, 0.22814273834228516, 0.771838903427124, 0.9995628595352173, 0.9993297457695007, 0.000622557767201215, 0.9995827078819275, 0.9991846680641174, 0.9997222423553467, 0.9999573230743408, 0.9998484253883362, 0.9996154308319092, 0.9999829530715942, 0.9988454580307007, 0.9998735189437866, 0.9998749494552612, 0.9993030428886414, 0.9999108910560608, 0.9999468326568604, 0.9998763203620911, 0.008756307885050774, 0.7793654203414917, 0.04718676954507828, 0.00010810256208060309, 0.1635591685771942, 0.0010269742924720049, 0.9996618032455444, 0.9992417693138123, 0.00014299413305707276, 0.25971633195877075, 0.0932711735367775, 0.14708895981311798, 0.49817854166030884, 0.0006889717187732458, 0.0009099626331590116, 0.9996485114097595, 0.018836822360754013, 0.11951490491628647, 0.6198088526725769, 0.0005375805194489658, 0.12185875326395035, 0.00010751610534498468, 0.11932137608528137, 0.10942154377698898, 0.8904250264167786, 0.9997774958610535, 0.9996614456176758, 0.9997660517692566, 0.7328640222549438, 0.14321859180927277, 0.12390678375959396, 0.9997786283493042, 0.9992811679840088, 0.32703593373298645, 0.5990201830863953, 0.0032744526397436857, 0.07060538232326508, 0.9994717240333557, 0.9997060298919678, 0.9994816184043884, 0.28267598152160645, 0.7170906662940979, 0.999436616897583, 0.009854581207036972, 0.8943790793418884, 0.09574104845523834, 0.2101844847202301, 0.21630939841270447, 0.18656793236732483, 0.13397908210754395, 0.2529449760913849, 0.47099053859710693, 0.5289837718009949, 0.9998738765716553, 0.9997996687889099, 0.9994334578514099, 0.9990516304969788, 0.9998018145561218, 0.9999305605888367, 0.9998066425323486, 0.9996668696403503, 0.9998354315757751, 0.9993998408317566, 0.13684497773647308, 0.8629994988441467, 0.9999369382858276, 0.4162961542606354, 0.5836828947067261, 0.3286153972148895, 0.6710131764411926, 0.9998567700386047, 0.34199076890945435, 0.6579251289367676, 0.9997313022613525, 0.997529923915863, 0.002256125910207629, 0.22079968452453613, 0.5491659045219421, 0.23002754151821136, 0.9999563694000244, 0.9995213150978088, 0.999903678894043, 0.4149116277694702, 0.36423012614250183, 0.12182021141052246, 0.07659906893968582, 0.02237984910607338, 0.9995556473731995, 0.9997149705886841, 0.9998243451118469, 0.000966505438555032, 0.99872225522995, 0.9998338222503662, 0.16403843462467194, 0.8358440399169922, 0.9997296929359436, 0.9992430210113525, 0.9998747110366821, 0.9999050498008728, 0.9996224641799927, 0.403645396232605, 0.5962664484977722, 0.5687363147735596, 0.33798494935035706, 0.006063287146389484, 0.0871381014585495, 0.30522897839546204, 0.6947502493858337, 0.9999324679374695, 0.9996718168258667, 0.9996531009674072, 0.9996697306632996, 0.9996995329856873, 0.999535322189331, 0.7818784713745117, 0.21808497607707977, 0.0003113181737717241, 0.9996426701545715, 0.9997625946998596, 0.019981946796178818, 0.9798939228057861, 0.9994816184043884, 0.9994107484817505, 0.2757803201675415, 0.15368759632110596, 0.5704540610313416, 0.15983352065086365, 0.6691475510597229, 0.17101357877254486, 0.2350614219903946, 0.6031416654586792, 0.1617313176393509, 0.9992797374725342, 0.20972862839698792, 0.2123350203037262, 0.10512495040893555, 0.4726278781890869, 0.9058348536491394, 0.09409251809120178, 0.7062987089157104, 0.2935819923877716, 0.9997150301933289, 0.9999764561653137, 0.5516642332077026, 0.13049277663230896, 0.15175117552280426, 0.0009807799942791462, 0.00026971448096446693, 0.0014956895029172301, 0.12563791871070862, 0.03773551061749458, 0.9999533295631409, 0.4194730818271637, 0.1818244457244873, 0.39868709444999695, 0.9997020959854126, 0.06224101781845093, 0.18280404806137085, 0.5233660936355591, 0.1272253394126892, 7.1254740760196e-05, 0.10428132116794586, 0.21845529973506927, 0.21460828185081482, 0.5429782271385193, 0.024043822661042213, 0.9999738335609436, 0.9999033212661743, 0.9998155832290649, 0.999776303768158, 0.9992620944976807, 0.9995119571685791, 0.999882161617279, 0.0011911435285583138, 0.9984760880470276, 0.7291786074638367, 0.27082446217536926, 0.4991779625415802, 0.5007866024971008, 0.9997290968894958, 0.999718964099884, 0.3885558843612671, 0.6112454533576965, 0.00039086188189685345, 0.9995315670967102, 0.30246156454086304, 0.08498267084360123, 0.44903692603111267, 0.001128587988205254, 2.8214697522344068e-05, 0.162319153547287, 2.8214697522344068e-05, 0.999244749546051, 0.9994495511054993, 0.9997592568397522, 0.9996649622917175, 0.9992120862007141, 0.9999613165855408, 0.9995631575584412, 0.5167361497879028, 0.4283367693424225, 0.05490158498287201, 0.9995326399803162, 0.1313532441854477, 0.35962387919425964, 0.5090036988258362, 0.9999511241912842, 0.9999368190765381, 0.1972859799861908, 0.8025017976760864, 0.0010301765287294984, 0.9989493489265442, 0.342886745929718, 0.6570035219192505, 0.7679872512817383, 0.23193709552288055, 0.9997534155845642, 0.9997674822807312, 0.9996568560600281, 0.9999680519104004, 0.0943010225892067, 0.905517041683197, 0.9994150996208191, 0.9997270107269287, 0.9994774460792542, 0.9996054172515869, 0.814943253993988, 0.18460041284561157, 0.9993678331375122, 0.9998095631599426, 0.9991960525512695, 0.8530813455581665, 0.14679066836833954, 0.999748170375824, 0.999575674533844, 0.9996699690818787, 0.9992973804473877, 0.9992893934249878, 0.0001935078325914219, 0.9994679689407349, 0.9998854994773865, 0.9997943043708801, 0.9994209408760071, 0.9997112154960632, 0.9993717074394226, 0.28136542439460754, 0.04804164916276932, 0.6705377101898193, 0.9995887279510498, 0.9995802640914917, 0.9999894499778748, 0.24000410735607147, 0.3932178318500519, 0.36673229932785034, 0.7631500959396362, 0.23684385418891907, 0.9997411370277405, 0.9995006322860718, 0.99995356798172, 0.9998610019683838, 0.5505570769309998, 0.44936680793762207, 0.20140567421913147, 0.1427961140871048, 0.6556816101074219, 0.00010355047561461106, 0.999886691570282, 0.9995570778846741, 0.9995455145835876, 0.999870240688324, 0.29001951217651367, 0.003138462081551552, 0.4771102964878082, 0.22962014377117157, 0.9998999834060669, 0.9987468123435974, 0.0011604339815676212, 0.9996951222419739, 0.9997218251228333, 0.9726448059082031, 0.027166057378053665, 0.9995871782302856, 0.2844849228858948, 0.27230900526046753, 0.12985660135746002, 0.31273549795150757, 0.0005997995613142848, 0.23057445883750916, 0.5995059609413147, 0.01791229285299778, 0.15200743079185486, 0.9994723796844482, 0.9999861717224121, 0.6863228678703308, 0.31360751390457153, 0.9996138215065002, 0.9997739195823669, 0.08810640126466751, 0.35265955328941345, 0.39046624302864075, 0.0012633418664336205, 0.11477695405483246, 9.358087845612317e-05, 0.05263924598693848, 0.053588319569826126, 0.3037355840206146, 0.24371393024921417, 0.11224118620157242, 0.2866256535053253, 0.9998475909233093, 0.9998329281806946, 0.9990249872207642, 0.9998238682746887, 0.9997889995574951, 0.32270747423171997, 0.5493293404579163, 0.12788619101047516, 0.0015475413529202342, 0.33014217019081116, 0.6682799458503723, 0.9996489882469177, 0.9997676014900208, 0.9998637437820435, 0.9996259212493896, 0.2618352472782135, 0.2274598330259323, 0.5106842517852783, 0.9998029470443726, 0.9996669888496399, 0.9997158646583557, 0.3920719027519226, 0.00481439009308815, 0.6030023694038391, 0.2287958860397339, 0.2479633092880249, 0.5231815576553345, 0.7426354885101318, 0.2572580873966217, 0.635209321975708, 0.00042087744805030525, 0.10900726169347763, 0.255262166261673, 0.9989086389541626, 0.29192018508911133, 0.25897645950317383, 0.2867266833782196, 0.16231568157672882, 0.1805310994386673, 0.8192498683929443, 0.9992491006851196, 0.3167203962802887, 0.6831685900688171, 0.9997666478157043, 0.9992004036903381, 0.6156064867973328, 0.24429671466350555, 0.13992664217948914, 0.9994577169418335, 0.9979425072669983, 0.0019424671772867441, 0.9995216727256775, 0.9998324513435364, 0.9996567964553833, 0.17164243757724762, 0.8280764818191528, 0.8812215924263, 0.11875812709331512, 0.9999123215675354, 0.9993652701377869, 0.9990397095680237, 0.11532977223396301, 0.7214205265045166, 0.16314943134784698, 0.9993330240249634, 0.9996681809425354, 0.999829888343811, 0.9998930096626282, 0.9996310472488403, 0.9998275637626648, 0.9997149705886841, 0.9994308948516846, 0.9994431734085083, 0.9998062252998352, 0.8442073464393616, 0.15577146410942078, 0.9994713068008423, 0.9996392130851746, 0.99992436170578, 0.13001394271850586, 0.3224855661392212, 0.5474271178245544, 0.9998471140861511, 0.9999722242355347, 0.9994374513626099, 0.12754563987255096, 0.22948530316352844, 0.48615047335624695, 0.15681394934654236, 0.9990884065628052, 0.999705970287323, 0.9993658661842346, 0.9997603893280029, 0.742847740650177, 0.14990989863872528, 0.10723360627889633, 0.9997759461402893, 0.8971183896064758, 0.000279215193586424, 0.10256504267454147, 0.9998871088027954, 0.9996190667152405, 0.9994064569473267, 0.9996848106384277, 0.9996750354766846, 0.9997615814208984, 0.10904556512832642, 0.8238052129745483, 0.0670175850391388, 0.9998873472213745, 0.999643087387085, 0.9997031688690186, 0.9998498558998108, 0.1871192306280136, 0.8112702965736389, 0.0012609112309291959, 0.9996068477630615, 0.7342420220375061, 0.16222912073135376, 0.10344552248716354, 0.9993326663970947, 0.9997556209564209, 0.999975323677063, 0.9999929070472717, 0.9997867345809937, 0.9995285272598267, 0.9998877644538879, 0.9998704195022583, 0.9996771216392517, 0.2911199629306793, 0.14374655485153198, 0.125136598944664, 0.39786460995674133, 0.04211518168449402, 0.9999487400054932, 0.3943382203578949, 0.4287912845611572, 0.17681479454040527, 0.9999658465385437, 0.9997516870498657, 0.9994708895683289, 0.824971616268158, 0.017405683174729347, 0.15760578215122223, 0.9998037815093994, 0.10568104684352875, 0.189720019698143, 0.21907246112823486, 0.32518187165260315, 0.16034716367721558, 0.9996739625930786, 0.9997612833976746, 0.9996352791786194, 0.00023994664661586285, 0.9996176958084106, 0.8554491400718689, 0.1444682776927948, 0.9997155070304871, 0.4771338403224945, 0.5228596925735474, 0.9997423887252808, 0.9997305870056152, 0.999822735786438, 0.9997516870498657, 0.9996683597564697, 0.999922513961792, 0.9998366236686707, 0.9997803568840027, 0.3165924549102783, 0.5722229480743408, 0.11116595566272736, 0.0010429788380861282, 0.998941957950592, 0.9994046092033386, 0.9994108080863953, 0.9999278783798218, 0.9998340606689453, 0.0016480175545439124, 0.3134229779243469, 0.6848261952400208, 0.9995207190513611, 0.9994726777076721, 0.9992893934249878, 0.9998091459274292, 0.9996187090873718, 0.9838683605194092, 0.015886515378952026, 0.8593013882637024, 0.14062976837158203, 0.9997296929359436, 0.9998007416725159, 0.8125599026679993, 0.18728305399417877, 0.9994314908981323, 0.9996805191040039, 0.7596814632415771, 0.24006515741348267, 0.8875048756599426, 0.11236011236906052, 0.999876856803894, 0.9991591572761536, 0.9997438192367554, 0.9995773434638977, 0.5337365865707397, 0.31881359219551086, 0.14740842580795288, 0.9997602701187134, 0.9998878836631775, 0.9998745322227478, 0.19950072467327118, 0.8004065155982971, 0.9997228384017944, 0.9997687339782715, 0.9997425079345703, 0.9990649819374084, 0.9989963173866272, 0.9996315240859985, 0.9997131824493408, 0.999779224395752, 0.9998562932014465, 0.2695753574371338, 0.7303727269172668, 0.9996139407157898, 0.9997900128364563, 0.999392569065094, 0.9994626045227051, 0.9995356202125549, 0.9993772506713867, 0.24256178736686707, 0.7573560476303101, 0.999553918838501, 0.9998138546943665, 0.9994548559188843, 0.9998608827590942, 0.9992612600326538, 0.29796552658081055, 0.7017850279808044, 0.9996327757835388, 0.9998248219490051, 0.9997642636299133, 0.9996725916862488, 0.9998070597648621, 0.9995279312133789, 0.9996201992034912, 0.34797045588493347, 0.15509594976902008, 0.4969480335712433, 0.9998055696487427, 0.9997733235359192, 0.9997219443321228, 0.9998241066932678, 0.10930150002241135, 0.6946385502815247, 0.1960577666759491, 0.9999037981033325, 0.9995007514953613, 0.9990533590316772, 0.8535178899765015, 0.14637508988380432, 0.9998018741607666, 0.9988985061645508, 0.9999112486839294, 0.9997444152832031, 0.9997955560684204, 0.9992991089820862, 0.9997857809066772, 0.9999262690544128, 0.9998464584350586], \"Term\": [\"..\", \"...\", \"...\", \"...\", \"...\", \"...\", \"...\", \"...\", \".....\", \"1\", \"1\", \"1\", \"10x15\", \"2\", \"2\", \"2\", \"20\", \"3\", \"3\", \"3\", \"3\", \"30\", \"4\", \"4\", \"4\", \"5\", \"5\", \"5\", \":)\", \"abholen\", \"abholung\", \"abholung\", \"ablauf\", \"abschneiden\", \"absolut\", \"absolut\", \"abwicklung\", \"abzug\", \"aktuell\", \"all\", \"all\", \"all\", \"all\", \"alt\", \"anbieter\", \"ander\", \"ander\", \"anfertigen\", \"angebot\", \"angegeben\", \"angemessen\", \"ankommen\", \"ank\\u00fcndigen\", \"anleitung\", \"antwort\", \"anwendung\", \"anzeigen\", \"anzeigen\", \"app\", \"app\", \"arbeit\", \"arbeit\", \"arbeiten\", \"art\", \"art\", \"artikel\", \"aufnehmen\", \"auftrag\", \"auftrag\", \"ausfallen\", \"ausf\\u00fchrung\", \"ausf\\u00fchrung\", \"ausprobieren\", \"ausreichen\", \"aussehen\", \"auswahl\", \"ausw\\u00e4hlen\", \"b.\", \"bearbeitung\", \"bearbeitungszeit\", \"bedienbarkeit\", \"bedienen\", \"bedienend\", \"bedienung\", \"begeistern\", \"bekennen\", \"bekommen\", \"bekommen\", \"bekommen\", \"bekommen\", \"bekommen\", \"bekommen\", \"bequemen\", \"beste\", \"bestellen\", \"bestellen\", \"bestellen\", \"bestellen\", \"bestellen\", \"bestellen\", \"bestellen\", \"bestellsoftware\", \"bestellung\", \"bestellung\", \"bestellung\", \"bestellung\", \"bestellung\", \"bestellung\", \"bestellung\", \"bestens\", \"bestens\", \"bezahlen\", \"bez\\u00fcglich\", \"bieten\", \"bild\", \"bild\", \"bild\", \"bilder\", \"bilderrahmen\", \"bildqualit\\u00e4t\", \"bildqualit\\u00e4t\", \"bildqualit\\u00e4t\", \"bildqualit\\u00e4t\", \"bildschirm\", \"bislang\", \"bisschen\", \"bleiben\", \"bleiben\", \"bringen\", \"buch\", \"buch\", \"buch\", \"buchen\", \"buchen\", \"buchen\", \"buchen\", \"buchen\", \"cewe\", \"cewe\", \"cliparts\", \"cm\", \"collage\", \"dame\", \"danke\", \"danken\", \"darstellen\", \"datum\", \"dauern\", \"dhl\", \"diesmal\", \"diesmal\", \"dm\", \"drucken\", \"drucken\", \"druckqualit\\u00e4t\", \"druckqualit\\u00e4t\", \"dunkel\", \"dunkeln\", \"dunkeln\", \"e-mail\", \"einband\", \"einband\", \"einfach\", \"einfach\", \"einfach\", \"einfache\", \"einfaches\", \"einf\\u00fcgen\", \"einig\", \"einig\", \"einig\", \"einig\", \"einig\", \"einl\\u00f6sen\", \"eintreffen\", \"einzeln\", \"einzig\", \"einzig\", \"email\", \"empfehlen\", \"empfehlen\", \"empfehlung\", \"endprodukt\", \"entsprechen\", \"entt\\u00e4uschen\", \"entwickeln\", \"erfahrung\", \"erfahrung\", \"erfolgen\", \"erfolgen\", \"erfolgen\", \"erfolgen\", \"ergebnis\", \"ergebnis\", \"erhalten\", \"erinnerung\", \"erkennen\", \"erkl\\u00e4ren\", \"erledigung\", \"erscheinen\", \"erstellen\", \"erstellen\", \"erstellung\", \"erstellung\", \"erwartung\", \"euro\", \"euro\", \"exemplar\", \"fair\", \"fall\", \"fall\", \"fall\", \"fallen\", \"fallen\", \"fallen\", \"farbe\", \"farbe\", \"farbe\", \"farbqualit\\u00e4t\", \"fast\", \"fast\", \"fast\", \"fast\", \"fehlen\", \"fehlen\", \"fehler\", \"fehler\", \"fertigstellung\", \"filiale\", \"finden\", \"finden\", \"finden\", \"finden\", \"finden\", \"finden\", \"finden\", \"finden\", \"format\", \"foto\", \"foto\", \"foto\", \"fotoabz\\u00fcge\", \"fotobuch\", \"fotobuch\", \"fotobuch\", \"fotobuch\", \"fotobuch\", \"fotobuch\", \"fotobuches\", \"fotobuches\", \"fotobuches\", \"fotobuches\", \"fotob\\u00fccher\", \"fotob\\u00fcchern\", \"fotopapier\", \"fotoqualit\\u00e4t\", \"fotos\", \"fotoservice\", \"frage\", \"fragen\", \"fragen\", \"freude\", \"freude\", \"freuen\", \"freuen\", \"freund\", \"freunden\", \"freundlich\", \"freundlich\", \"funktionieren\", \"funktionieren\", \"geben\", \"geben\", \"geben\", \"geben\", \"geben\", \"geben\", \"geben\", \"gedenken\", \"geliefert\", \"gelingen\", \"gepasst\", \"gering\", \"gerne\", \"gesamt\", \"geschenk\", \"geschenk\", \"geschenk\", \"gestalt\", \"gestalten\", \"gestalten\", \"gestalten\", \"gestaltung\", \"gestaltungsm\\u00f6glichkeiten\", \"gru\\u00dfkarten\", \"gru\\u00dfkarten\", \"gr\\u00f6\\u00dfe\", \"gr\\u00f6\\u00dfe\", \"gutschein\", \"gutschein\", \"g\\u00fcnstig\", \"g\\u00fcnstig\", \"halten\", \"hand\", \"handhaben\", \"handhabung\", \"handy\", \"handy\", \"handyh\\u00fclle\", \"helfen\", \"herr\", \"herstellung\", \"hervorragen\", \"hervorragen\", \"hervorragend\", \"hilfe\", \"hilfsbereit\", \"hintergrund\", \"hintergrund\", \"hinweisen\", \"hochladen\", \"hotline\", \"h\\u00e4ufig\", \"h\\u00fclle\", \"idee\", \"idee\", \"individuell\", \"individuelle\", \"information\", \"intuitiv\", \"inzwischen\", \"jed\", \"jed\", \"jed\", \"jederzeit\", \"jedesmal\", \"kalender\", \"karte\", \"karte\", \"karte\", \"karten\", \"karten\", \"kennen\", \"kind\", \"klappen\", \"klasse\", \"klein\", \"klein\", \"kunde\", \"kunde\", \"kunde\", \"kunde\", \"kundenservice\", \"kurze\", \"lade\", \"langen\", \"lassen\", \"lassen\", \"lassen\", \"lassen\", \"laufen\", \"layout\", \"layout\", \"leichte\", \"leinwand\", \"leistung\", \"leistung\", \"leistungsverh\\u00e4ltnis\", \"letzt\", \"letzt\", \"letzt\", \"letzt\", \"letzt\", \"liefern\", \"liefern\", \"liefern\", \"liefern\", \"lieferservice\", \"lieferung\", \"lieferzeit\", \"lieferzeit\", \"lieferzeiten\", \"mail\", \"mal\", \"mal\", \"mal\", \"mal\", \"mal\", \"mal\", \"mal\", \"malen\", \"malen\", \"malen\", \"malen\", \"malen\", \"manch\", \"manchmal\", \"mangel\", \"markt\", \"matt\", \"mehrer\", \"mehrer\", \"mehrer\", \"mehrfach\", \"mehrfach\", \"mehrfach\", \"mehrmals\", \"meist\", \"mitarbeiter\", \"monat\", \"m\\u00f6glichkeit\", \"m\\u00f6glichkeit\", \"m\\u00f6glichkeit\", \"m\\u00fcller\", \"m\\u00fcsste\", \"nachbestellen\", \"nehmen\", \"nehmen\", \"nehmen\", \"neu\", \"neu\", \"neu\", \"nutzen\", \"nutzen\", \"n\\u00e4chst\", \"n\\u00e4chst\", \"n\\u00e4chst\", \"n\\u00e4chst\", \"o.k.\", \"obwohl\", \"obwohl\", \"obwohl\", \"obwohl\", \"ok\", \"ok\", \"okay\", \"online\", \"online\", \"option\", \"ordentlich\", \"ordnung\", \"ordnung\", \"ordnung\", \"ort\", \"paar\", \"paar\", \"paket\", \"papier\", \"papierqualit\\u00e4t\", \"passen\", \"passen\", \"per\", \"per\", \"perfekt\", \"person\", \"personal\", \"pers\\u00f6nlich\", \"pers\\u00f6nlich\", \"pers\\u00f6nlich\", \"pixum\", \"porto\", \"positiv\", \"poster\", \"praktisch\", \"preis\", \"preis-\", \"preis-leistung\", \"preis-leistungs-verh\\u00e4ltnis\", \"preis-leistungsverh\\u00e4ltnis\", \"preisen\", \"preisen\", \"preislich\", \"preiswert\", \"prima\", \"problem\", \"problem\", \"problem\", \"problemlos\", \"produkt\", \"produktes\", \"programm\", \"programm\", \"programm\", \"programm\", \"projekt\", \"prompt\", \"punkten\", \"qualitativ\", \"qualit\\u00e4t\", \"qualit\\u00e4t\", \"qualit\\u00e4t\", \"rabatt\", \"rahmen\", \"rahmen\", \"rahmen\", \"rand\", \"rasch\", \"raus\", \"rechnung\", \"rechtzeitig\", \"reibungslos\", \"reklamation\", \"reklamation\", \"reklamation\", \"relativ\", \"rossmann\", \"rundum\", \"r\\u00fcckseite\", \"sache\", \"sache\", \"sache\", \"sauber\", \"schaden\", \"schaden\", \"schaden\", \"schauen\", \"schief\", \"schnell\", \"schnellen\", \"schneller\", \"schnelligkeit\", \"schrift\", \"schwierig\", \"schwierigkeit\", \"sch\\u00f6n\", \"sch\\u00f6n\", \"sch\\u00f6n\", \"sch\\u00f6n\", \"sch\\u00f6n\", \"sch\\u00f6ne\", \"sehen\", \"sehen\", \"sehen\", \"seite\", \"selber\", \"selten\", \"service\", \"service\", \"service\", \"siehe\", \"software\", \"software\", \"software\", \"software\", \"software\", \"sowohl\", \"speichern\", \"sprechen\", \"sp\\u00e4t\", \"sp\\u00e4t\", \"stimmen\", \"stimmen\", \"st\\u00f6ren\", \"super\", \"super\", \"tasse\", \"team\", \"teilweise\", \"telefon\", \"telefonisch\", \"teuer\", \"text\", \"thema\", \"toll\", \"toll\", \"toll\", \"tollen\", \"tollen\", \"toller\", \"tolles\", \"top\", \"total\", \"trotzen\", \"trotzen\", \"trotzen\", \"u\", \"u.\", \"umfangreich\", \"umschlag\", \"umsetzen\", \"umst\\u00e4ndlich\", \"umst\\u00e4ndlich\", \"unkompliziert\", \"unkompliziert\", \"unkomplizierte\", \"unterschiedlich\", \"unzufrieden\", \"unzufrieden\", \"update\", \"urlaub\", \"verarbeitung\", \"verarbeitung\", \"verbessern\", \"verbessern\", \"vergleichen\", \"vergr\\u00f6\\u00dfern\", \"verh\\u00e4ltnis\", \"vermissen\", \"versand\", \"versand\", \"versand\", \"versandkosten\", \"verschenken\", \"verschieben\", \"verschieden\", \"verschieden\", \"versenden\", \"version\", \"verst\\u00e4ndlich\", \"verst\\u00e4ndliche\", \"video\", \"vielfalt\", \"vielf\\u00e4ltig\", \"vielseitig\", \"voll\", \"vorliegen\", \"vorliegen\", \"vorschau\", \"vorstellen\", \"vorstellung\", \"v\\u00f6llig\", \"wandbild\", \"wandbilder\", \"ware\", \"ware\", \"warenkorb\", \"warten\", \"wechseln\", \"weihnachten\", \"weihnachtsgeschenk\", \"weiterempfehlen\", \"weiterempfehlen\", \"weiterhin\", \"wei\\u00df\", \"werbung\", \"wissen\", \"woche\", \"wunderbar\", \"wundersch\\u00f6n\", \"w\\u00fcnschen\", \"w\\u00fcnschen\", \"w\\u00fcnschen\", \"w\\u00fcnschenswert\", \"x\", \"z.\", \"zeigen\", \"zufrieden\", \"zufrieden\", \"zufrieden\", \"zufriedenheit\", \"zufriedenstellen\", \"zuhause\", \"zum beispiel\", \"zum beispiel\", \"zurecht\", \"zusammenstellen\", \"zuverl\\u00e4ssig\", \"z\\u00fcgig\", \"\\u00e4ndern\", \"\\u00e4u\\u00dfern\", \"\\u00fcbersichtlich\", \"\\u00fcberzeugen\", \"\\u20ac\"]}, \"R\": 30, \"lambda.step\": 0.01, \"plot.opts\": {\"xlab\": \"PC1\", \"ylab\": \"PC2\"}, \"topic.order\": [3, 2, 5, 8, 6, 10, 7, 9, 4, 1]};\n",
       "\n",
       "function LDAvis_load_lib(url, callback){\n",
       "  var s = document.createElement('script');\n",
       "  s.src = url;\n",
       "  s.async = true;\n",
       "  s.onreadystatechange = s.onload = callback;\n",
       "  s.onerror = function(){console.warn(\"failed to load library \" + url);};\n",
       "  document.getElementsByTagName(\"head\")[0].appendChild(s);\n",
       "}\n",
       "\n",
       "if(typeof(LDAvis) !== \"undefined\"){\n",
       "   // already loaded: just create the visualization\n",
       "   !function(LDAvis){\n",
       "       new LDAvis(\"#\" + \"ldavis_el4605228437048719365286699205\", ldavis_el4605228437048719365286699205_data);\n",
       "   }(LDAvis);\n",
       "}else if(typeof define === \"function\" && define.amd){\n",
       "   // require.js is available: use it to load d3/LDAvis\n",
       "   require.config({paths: {d3: \"https://cdnjs.cloudflare.com/ajax/libs/d3/3.5.5/d3.min\"}});\n",
       "   require([\"d3\"], function(d3){\n",
       "      window.d3 = d3;\n",
       "      LDAvis_load_lib(\"https://cdn.rawgit.com/bmabey/pyLDAvis/files/ldavis.v1.0.0.js\", function(){\n",
       "        new LDAvis(\"#\" + \"ldavis_el4605228437048719365286699205\", ldavis_el4605228437048719365286699205_data);\n",
       "      });\n",
       "    });\n",
       "}else{\n",
       "    // require.js not available: dynamically load d3 & LDAvis\n",
       "    LDAvis_load_lib(\"https://cdnjs.cloudflare.com/ajax/libs/d3/3.5.5/d3.min.js\", function(){\n",
       "         LDAvis_load_lib(\"https://cdn.rawgit.com/bmabey/pyLDAvis/files/ldavis.v1.0.0.js\", function(){\n",
       "                 new LDAvis(\"#\" + \"ldavis_el4605228437048719365286699205\", ldavis_el4605228437048719365286699205_data);\n",
       "            })\n",
       "         });\n",
       "}\n",
       "</script>"
      ],
      "text/plain": [
       "PreparedData(topic_coordinates=              x         y  topics  cluster       Freq\n",
       "topic                                                \n",
       "2     -0.171618 -0.126378       1        1  18.750637\n",
       "1      0.314106 -0.033924       2        1  12.825027\n",
       "4     -0.125022 -0.083151       3        1  12.707475\n",
       "7     -0.100133  0.115932       4        1   9.888957\n",
       "5     -0.158717 -0.211415       5        1   9.204356\n",
       "9      0.257417 -0.056182       6        1   8.915486\n",
       "6     -0.161311 -0.092763       7        1   8.252412\n",
       "8     -0.072206  0.266807       8        1   7.348932\n",
       "3      0.286737 -0.026128       9        1   6.719543\n",
       "0     -0.069254  0.247203      10        1   5.387174, topic_info=     Category           Freq             Term          Total  loglift  logprob\n",
       "term                                                                          \n",
       "10    Default  186965.000000         qualität  186965.000000  30.0000  30.0000\n",
       "25    Default  105748.000000        schnellen  105748.000000  29.0000  29.0000\n",
       "3     Default  103658.000000        zufrieden  103658.000000  28.0000  28.0000\n",
       "23    Default   78497.000000        lieferung   78497.000000  27.0000  27.0000\n",
       "0     Default  101648.000000          einfach  101648.000000  26.0000  26.0000\n",
       "11    Default   75821.000000            super   75821.000000  25.0000  25.0000\n",
       "1181  Default   44709.000000         kalender   44709.000000  24.0000  24.0000\n",
       "29    Default  101544.000000             bild  101544.000000  23.0000  23.0000\n",
       "115   Default   80198.000000             foto   80198.000000  22.0000  22.0000\n",
       "53    Default   76926.000000        bestellen   76926.000000  21.0000  21.0000\n",
       "302   Default   34891.000000          produkt   34891.000000  20.0000  20.0000\n",
       "47    Default   41815.000000          schnell   41815.000000  19.0000  19.0000\n",
       "55    Default   33455.000000       fotobücher   33455.000000  18.0000  18.0000\n",
       "30    Default   41022.000000             cewe   41022.000000  17.0000  17.0000\n",
       "207   Default   45042.000000          service   45042.000000  16.0000  16.0000\n",
       "27    Default   32446.000000            ander   32446.000000  15.0000  15.0000\n",
       "372   Default   38928.000000          preisen   38928.000000  14.0000  14.0000\n",
       "12    Default   25887.000000           tollen   25887.000000  13.0000  13.0000\n",
       "90    Default   36382.000000            seite   36382.000000  12.0000  12.0000\n",
       "64    Default   56136.000000         fotobuch   56136.000000  11.0000  11.0000\n",
       "1048  Default   23549.000000           format   23549.000000  10.0000  10.0000\n",
       "137   Default   28599.000000      bearbeitung   28599.000000   9.0000   9.0000\n",
       "7     Default   21224.000000       handhabung   21224.000000   8.0000   8.0000\n",
       "101   Default   29869.000000        erstellen   29869.000000   7.0000   7.0000\n",
       "50    Default   26383.000000             buch   26383.000000   6.0000   6.0000\n",
       "35    Default   24201.000000         ergebnis   24201.000000   5.0000   5.0000\n",
       "175   Default   16804.000000            gerne   16804.000000   4.0000   4.0000\n",
       "737   Default   20000.000000          auswahl   20000.000000   3.0000   3.0000\n",
       "225   Default   46504.000000       bestellung   46504.000000   2.0000   2.0000\n",
       "768   Default   17288.000000          klappen   17288.000000   1.0000   1.0000\n",
       "...       ...            ...              ...            ...      ...      ...\n",
       "881   Topic10    2979.172607      wunderschön    2980.131836   2.9208  -4.7622\n",
       "3003  Topic10    2835.745117          telefon    2836.704346   2.9208  -4.8115\n",
       "2164  Topic10    2706.468506               u.    2707.427734   2.9208  -4.8582\n",
       "1187  Topic10    2595.469971        geliefert    2596.429199   2.9208  -4.9001\n",
       "764   Topic10    2584.654541        erwartung    2585.613770   2.9208  -4.9042\n",
       "4055  Topic10    2319.604004          aktuell    2320.563232   2.9207  -5.0124\n",
       "1446  Topic10    2241.088623          gestalt    2242.047852   2.9207  -5.0469\n",
       "2047  Topic10    2182.826904        aufnehmen    2183.786133   2.9207  -5.0732\n",
       "550   Topic10    1925.039185         bisschen    1925.998413   2.9207  -5.1989\n",
       "1879  Topic10    1840.434692       endprodukt    1841.393921   2.9206  -5.2438\n",
       "2465  Topic10    1834.264771            pixum    1835.223999   2.9206  -5.2472\n",
       "2636  Topic10    1786.328125     farbqualität    1787.287354   2.9206  -5.2737\n",
       "43    Topic10    1758.557983          bislang    1759.517212   2.9206  -5.2893\n",
       "561   Topic10    1755.144165       inzwischen    1756.103394   2.9206  -5.2913\n",
       "544   Topic10    1664.675903         umsetzen    1665.635132   2.9206  -5.3442\n",
       "1898  Topic10    1633.328491           gering    1634.287720   2.9206  -5.3632\n",
       "762   Topic10    1587.578613        bezüglich    1588.537842   2.9205  -5.3916\n",
       "705   Topic10    9559.168945        empfehlen   11436.343750   2.7419  -3.5963\n",
       "130   Topic10   13441.318359              jed   20045.107422   2.5215  -3.2555\n",
       "1515  Topic10    4685.971191       grußkarten    5839.239258   2.7011  -4.3093\n",
       "236   Topic10    4190.477539  weiterempfehlen    5970.489258   2.5671  -4.4210\n",
       "680   Topic10    3861.371582          bleiben    5384.256348   2.5887  -4.5028\n",
       "880   Topic10    2533.940430              art    3078.985840   2.7263  -4.9241\n",
       "488   Topic10    4007.902588           nehmen    6646.740234   2.4153  -4.4656\n",
       "918   Topic10    3592.677734             fall    6298.491211   2.3597  -4.5749\n",
       "74    Topic10    8879.480469           buchen   35102.496094   1.5466  -3.6701\n",
       "184   Topic10    4046.513428           freuen    8081.286133   2.2295  -4.4560\n",
       "401   Topic10    4187.867676            malen   14611.392578   1.6715  -4.4216\n",
       "64    Topic10    5854.414551         fotobuch   56136.613281   0.6606  -4.0866\n",
       "847   Topic10    2590.617432         mehrfach    3877.117676   2.5180  -4.9019\n",
       "\n",
       "[521 rows x 6 columns], token_table=      Topic      Freq              Term\n",
       "term                                   \n",
       "510       2  0.999772                ..\n",
       "13        1  0.208842               ...\n",
       "13        3  0.161585               ...\n",
       "13        4  0.028796               ...\n",
       "13        5  0.114186               ...\n",
       "13        6  0.134250               ...\n",
       "13        7  0.304923               ...\n",
       "13        8  0.047435               ...\n",
       "606       2  0.999569             .....\n",
       "143       1  0.283511                 1\n",
       "143       3  0.714619                 1\n",
       "143       7  0.001762                 1\n",
       "4046      7  0.999468             10x15\n",
       "296       1  0.268484                 2\n",
       "296       3  0.730740                 2\n",
       "296       7  0.000699                 2\n",
       "1653      3  0.999816                20\n",
       "469       1  0.174467                 3\n",
       "469       3  0.824525                 3\n",
       "469       5  0.000409                 3\n",
       "469       7  0.000491                 3\n",
       "1237      3  0.999700                30\n",
       "1621      1  0.313931                 4\n",
       "1621      3  0.685858                 4\n",
       "1621      7  0.000138                 4\n",
       "238       1  0.174372                 5\n",
       "238       3  0.793958                 5\n",
       "238       8  0.031493                 5\n",
       "2470      5  0.999850                :)\n",
       "52        3  0.999953           abholen\n",
       "...     ...       ...               ...\n",
       "166       1  0.999825              weiß\n",
       "468       8  0.999764           werbung\n",
       "2254      7  0.999673            wissen\n",
       "61        3  0.999807             woche\n",
       "509       9  0.999528         wunderbar\n",
       "881      10  0.999620       wunderschön\n",
       "95        1  0.347970          wünschen\n",
       "95        4  0.155096          wünschen\n",
       "95        5  0.496948          wünschen\n",
       "750      10  0.999806     wünschenswert\n",
       "2718      3  0.999773                 x\n",
       "121       1  0.999722                z.\n",
       "394      10  0.999824            zeigen\n",
       "3         4  0.109302         zufrieden\n",
       "3         7  0.694639         zufrieden\n",
       "3         8  0.196058         zufrieden\n",
       "522       8  0.999904     zufriedenheit\n",
       "1910      9  0.999501  zufriedenstellen\n",
       "753       7  0.999053           zuhause\n",
       "251       1  0.853518      zum beispiel\n",
       "251       4  0.146375      zum beispiel\n",
       "885      10  0.999802           zurecht\n",
       "4496      2  0.998899   zusammenstellen\n",
       "897       2  0.999911       zuverlässig\n",
       "877       9  0.999744             zügig\n",
       "619       1  0.999796            ändern\n",
       "41        5  0.999299            äußern\n",
       "892       6  0.999786     übersichtlich\n",
       "794       8  0.999926        überzeugen\n",
       "194       8  0.999846                 €\n",
       "\n",
       "[663 rows x 3 columns], R=30, lambda_step=0.01, plot_opts={'xlab': 'PC1', 'ylab': 'PC2'}, topic_order=[3, 2, 5, 8, 6, 10, 7, 9, 4, 1])"
      ]
     },
     "execution_count": 288,
     "metadata": {},
     "output_type": "execute_result"
    }
   ],
   "source": [
    "import pyLDAvis.gensim\n",
    "pyLDAvis.enable_notebook()\n",
    "vis = pyLDAvis.gensim.prepare(lda2, corpus, dictionary=dictionary)\n",
    "vis"
   ]
  },
  {
   "cell_type": "code",
   "execution_count": null,
   "metadata": {},
   "outputs": [],
   "source": []
  }
 ],
 "metadata": {
  "kernelspec": {
   "display_name": "Python 3",
   "language": "python",
   "name": "python3"
  }
 },
 "nbformat": 4,
 "nbformat_minor": 2
}
