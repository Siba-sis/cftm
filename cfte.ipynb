{
 "cells": [
  {
   "cell_type": "code",
   "execution_count": 1,
   "metadata": {},
   "outputs": [],
   "source": [
    "import numpy as np\n",
    "import pandas as pd\n",
    "from pyspark.context import SparkContext\n",
    "from pyspark.sql.session import SparkSession"
   ]
  },
  {
   "cell_type": "markdown",
   "metadata": {},
   "source": [
    "# Data Inspection"
   ]
  },
  {
   "cell_type": "markdown",
   "metadata": {},
   "source": [
    "## Data in customer_feedbacks/"
   ]
  },
  {
   "cell_type": "code",
   "execution_count": 117,
   "metadata": {},
   "outputs": [
    {
     "ename": "ValueError",
     "evalue": "Cannot run multiple SparkContexts at once; existing SparkContext(app=pyspark-shell, master=local) created by __init__ at <ipython-input-2-68232241316b>:1 ",
     "output_type": "error",
     "traceback": [
      "\u001b[1;31m---------------------------------------------------------------------------\u001b[0m",
      "\u001b[1;31mValueError\u001b[0m                                Traceback (most recent call last)",
      "\u001b[1;32m<ipython-input-117-68232241316b>\u001b[0m in \u001b[0;36m<module>\u001b[1;34m\u001b[0m\n\u001b[1;32m----> 1\u001b[1;33m \u001b[0msc\u001b[0m \u001b[1;33m=\u001b[0m \u001b[0mSparkContext\u001b[0m\u001b[1;33m(\u001b[0m\u001b[1;34m'local'\u001b[0m\u001b[1;33m)\u001b[0m\u001b[1;33m\u001b[0m\u001b[1;33m\u001b[0m\u001b[0m\n\u001b[0m\u001b[0;32m      2\u001b[0m \u001b[0mspark\u001b[0m \u001b[1;33m=\u001b[0m \u001b[0mSparkSession\u001b[0m\u001b[1;33m(\u001b[0m\u001b[0msc\u001b[0m\u001b[1;33m)\u001b[0m\u001b[1;33m\u001b[0m\u001b[1;33m\u001b[0m\u001b[0m\n\u001b[0;32m      3\u001b[0m \u001b[0mparquetFile\u001b[0m \u001b[1;33m=\u001b[0m \u001b[0mspark\u001b[0m\u001b[1;33m.\u001b[0m\u001b[0mread\u001b[0m\u001b[1;33m.\u001b[0m\u001b[0mparquet\u001b[0m\u001b[1;33m(\u001b[0m\u001b[1;34m\"../data/customer_feedbacks/part-00000-985ad763-a6d6-4ead-a6dd-c02279e9eeba-c000.snappy.parquet\"\u001b[0m\u001b[1;33m)\u001b[0m\u001b[1;33m\u001b[0m\u001b[1;33m\u001b[0m\u001b[0m\n",
      "\u001b[1;32m~\\AppData\\Local\\Continuum\\anaconda3\\lib\\site-packages\\pyspark\\context.py\u001b[0m in \u001b[0;36m__init__\u001b[1;34m(self, master, appName, sparkHome, pyFiles, environment, batchSize, serializer, conf, gateway, jsc, profiler_cls)\u001b[0m\n\u001b[0;32m    131\u001b[0m                     \" note this option will be removed in Spark 3.0\")\n\u001b[0;32m    132\u001b[0m \u001b[1;33m\u001b[0m\u001b[0m\n\u001b[1;32m--> 133\u001b[1;33m         \u001b[0mSparkContext\u001b[0m\u001b[1;33m.\u001b[0m\u001b[0m_ensure_initialized\u001b[0m\u001b[1;33m(\u001b[0m\u001b[0mself\u001b[0m\u001b[1;33m,\u001b[0m \u001b[0mgateway\u001b[0m\u001b[1;33m=\u001b[0m\u001b[0mgateway\u001b[0m\u001b[1;33m,\u001b[0m \u001b[0mconf\u001b[0m\u001b[1;33m=\u001b[0m\u001b[0mconf\u001b[0m\u001b[1;33m)\u001b[0m\u001b[1;33m\u001b[0m\u001b[1;33m\u001b[0m\u001b[0m\n\u001b[0m\u001b[0;32m    134\u001b[0m         \u001b[1;32mtry\u001b[0m\u001b[1;33m:\u001b[0m\u001b[1;33m\u001b[0m\u001b[1;33m\u001b[0m\u001b[0m\n\u001b[0;32m    135\u001b[0m             self._do_init(master, appName, sparkHome, pyFiles, environment, batchSize, serializer,\n",
      "\u001b[1;32m~\\AppData\\Local\\Continuum\\anaconda3\\lib\\site-packages\\pyspark\\context.py\u001b[0m in \u001b[0;36m_ensure_initialized\u001b[1;34m(cls, instance, gateway, conf)\u001b[0m\n\u001b[0;32m    330\u001b[0m                         \u001b[1;34m\" created by %s at %s:%s \"\u001b[0m\u001b[1;33m\u001b[0m\u001b[1;33m\u001b[0m\u001b[0m\n\u001b[0;32m    331\u001b[0m                         % (currentAppName, currentMaster,\n\u001b[1;32m--> 332\u001b[1;33m                             callsite.function, callsite.file, callsite.linenum))\n\u001b[0m\u001b[0;32m    333\u001b[0m                 \u001b[1;32melse\u001b[0m\u001b[1;33m:\u001b[0m\u001b[1;33m\u001b[0m\u001b[1;33m\u001b[0m\u001b[0m\n\u001b[0;32m    334\u001b[0m                     \u001b[0mSparkContext\u001b[0m\u001b[1;33m.\u001b[0m\u001b[0m_active_spark_context\u001b[0m \u001b[1;33m=\u001b[0m \u001b[0minstance\u001b[0m\u001b[1;33m\u001b[0m\u001b[1;33m\u001b[0m\u001b[0m\n",
      "\u001b[1;31mValueError\u001b[0m: Cannot run multiple SparkContexts at once; existing SparkContext(app=pyspark-shell, master=local) created by __init__ at <ipython-input-2-68232241316b>:1 "
     ]
    }
   ],
   "source": [
    "sc = SparkContext('local')\n",
    "spark = SparkSession(sc)\n",
    "parquetFile = spark.read.parquet(\"../data/customer_feedbacks/part-00000-985ad763-a6d6-4ead-a6dd-c02279e9eeba-c000.snappy.parquet\")"
   ]
  },
  {
   "cell_type": "code",
   "execution_count": 87,
   "metadata": {},
   "outputs": [
    {
     "name": "stdout",
     "output_type": "stream",
     "text": [
      "root\n",
      " |-- ERGEBNISSATZ_ID: decimal(38,10) (nullable = true)\n",
      " |-- DATUM_ID: timestamp (nullable = true)\n",
      " |-- JAHR_ID: decimal(18,0) (nullable = true)\n",
      " |-- MONAT_ID: decimal(18,0) (nullable = true)\n",
      " |-- KW_ID: decimal(18,0) (nullable = true)\n",
      " |-- TAG_ID: decimal(18,0) (nullable = true)\n",
      " |-- KEY_ACCOUNT_ID: string (nullable = true)\n",
      " |-- UMFRAGE_ID: decimal(38,10) (nullable = true)\n",
      " |-- UMFRAGETYP_ID: decimal(38,10) (nullable = true)\n",
      " |-- UMFRAGE_KATEGORIE_ID: decimal(38,10) (nullable = true)\n",
      " |-- LAND_ID: decimal(38,10) (nullable = true)\n",
      " |-- LABOR_ID: decimal(18,0) (nullable = true)\n",
      " |-- CLIENT_ID: decimal(18,0) (nullable = true)\n",
      " |-- CLIENT_VERSION_ID: decimal(18,0) (nullable = true)\n",
      " |-- COMPLETION_ID: decimal(18,0) (nullable = true)\n",
      " |-- NPS_STATUS_ID: decimal(18,0) (nullable = true)\n",
      " |-- NPS_KLASSE_ID: decimal(18,0) (nullable = true)\n",
      " |-- DKON_KONSUMENT_CODE: string (nullable = true)\n",
      " |-- KONTAKTWUNSCH_ID: decimal(18,0) (nullable = true)\n",
      " |-- ERSTBESTELLER_ID: decimal(18,0) (nullable = true)\n",
      " |-- PERMISSION_ID: decimal(18,0) (nullable = true)\n",
      " |-- ARTIKEL_ID: decimal(18,0) (nullable = true)\n",
      " |-- MULTI_ARTIKEL_ID: decimal(18,0) (nullable = true)\n",
      " |-- MOBILE_DEVICE_ID: decimal(18,0) (nullable = true)\n",
      " |-- NAMENSTYP_ID: decimal(18,0) (nullable = true)\n",
      " |-- BILD_ID: decimal(18,0) (nullable = true)\n",
      " |-- BESTELLERTYP_ID: decimal(18,0) (nullable = true)\n",
      " |-- KUNDENTYP_ID: decimal(18,0) (nullable = true)\n",
      " |-- CLASS_ID: decimal(18,0) (nullable = true)\n",
      " |-- NPS: decimal(18,0) (nullable = true)\n",
      " |-- LD_QUALITAET: decimal(18,0) (nullable = true)\n",
      " |-- LD_OPTIK: decimal(18,0) (nullable = true)\n",
      " |-- LD_LIEFERUNG: decimal(18,0) (nullable = true)\n",
      " |-- LD_BINDUNG: decimal(18,0) (nullable = true)\n",
      " |-- LD_FARBBRILLANZ: decimal(18,0) (nullable = true)\n",
      " |-- LD_PAPIER: decimal(18,0) (nullable = true)\n",
      " |-- LD_FORMATAUSWAHL: decimal(18,0) (nullable = true)\n",
      " |-- LD_DESIGNVIELFALT: decimal(18,0) (nullable = true)\n",
      " |-- LD_DESIGNVORLAGEN: decimal(18,0) (nullable = true)\n",
      " |-- LD_BEDIENBARKEIT: decimal(18,0) (nullable = true)\n",
      " |-- LD_GESTALTUNGSMOEGLICHKEITEN: decimal(18,0) (nullable = true)\n",
      " |-- MARKE_HOCHWERTIG: decimal(18,0) (nullable = true)\n",
      " |-- MARKE_INNOVATIV: decimal(18,0) (nullable = true)\n",
      " |-- MARKE_ZUVERLAESSIG: decimal(18,0) (nullable = true)\n",
      " |-- MARKE_PREIS_LEISTUNG: decimal(18,0) (nullable = true)\n",
      " |-- ENPS_WIEDERKAUFABSICHT: decimal(18,0) (nullable = true)\n",
      " |-- ENPS_ZUSATZKAUFABSICHT: decimal(18,0) (nullable = true)\n",
      " |-- ENPS_PREISTOLERANZ: decimal(18,0) (nullable = true)\n",
      " |-- ENPS_KUNDENDURCHDRINGUNG: decimal(18,0) (nullable = true)\n",
      " |-- PI_CFB: decimal(18,0) (nullable = true)\n",
      " |-- PI_CARDS: decimal(18,0) (nullable = true)\n",
      " |-- PI_WANDBILDER: decimal(18,0) (nullable = true)\n",
      " |-- PI_KALENDER: decimal(18,0) (nullable = true)\n",
      " |-- PI_FOTOS: decimal(18,0) (nullable = true)\n",
      " |-- PI_FOTOGESCHENKE: decimal(18,0) (nullable = true)\n",
      " |-- PI_SOFORTDRUCK: decimal(18,0) (nullable = true)\n",
      " |-- LD_CP_DRUCKDATEN: decimal(18,0) (nullable = true)\n",
      " |-- LD_CP_LIEFERDAUER: decimal(18,0) (nullable = true)\n",
      " |-- LD_CP_UNTERSTUETZUNG: decimal(18,0) (nullable = true)\n",
      " |-- LD_CP_BESTELLPROZESS: decimal(18,0) (nullable = true)\n",
      " |-- LD_CP_PRODUKTVIELFALT: decimal(18,0) (nullable = true)\n",
      " |-- LD_CP_PRODUKTBESCHREIBUNG: decimal(18,0) (nullable = true)\n",
      " |-- LD_CP_WARENSCHUTZ: decimal(18,0) (nullable = true)\n",
      " |-- LD_CP_PRODUKTQUALITAET: decimal(18,0) (nullable = true)\n",
      " |-- LD_CP_PREIS_LEISTUNG: decimal(18,0) (nullable = true)\n",
      " |-- LD_CP_BERATUNG: decimal(18,0) (nullable = true)\n",
      " |-- ANTWORT_ID: decimal(38,10) (nullable = true)\n",
      " |-- ANTWORT_TEXT_ID: decimal(18,0) (nullable = true)\n",
      " |-- ANTWORT_TEXT: string (nullable = true)\n",
      " |-- ANTWORT_WERT: string (nullable = true)\n",
      " |-- ANTWORTSKALA_ID: decimal(18,0) (nullable = true)\n",
      " |-- KD_EXIST: decimal(18,0) (nullable = true)\n",
      " |-- KD_NAME: string (nullable = true)\n",
      " |-- KD_EMAIL: string (nullable = true)\n",
      " |-- KD_TELEFON: string (nullable = true)\n",
      " |-- KD_AUFTRAGSNUMMER: string (nullable = true)\n",
      " |-- PD_EXIST: decimal(18,0) (nullable = true)\n",
      " |-- PD_VORNAME: string (nullable = true)\n",
      " |-- PD_NACHNAME: string (nullable = true)\n",
      " |-- PD_ALTER: string (nullable = true)\n",
      " |-- PD_ORT: string (nullable = true)\n",
      " |-- PD_BERUF: string (nullable = true)\n",
      " |-- BERUF_EXIST: decimal(18,0) (nullable = true)\n",
      " |-- OBERKATEGORIE_ID: decimal(38,10) (nullable = true)\n",
      " |-- UNTERKATEGORIE_ID: decimal(38,10) (nullable = true)\n",
      " |-- GRUPPE_ID: decimal(38,10) (nullable = true)\n",
      " |-- CHECKBOX_ID: decimal(38,10) (nullable = true)\n",
      " |-- CHECKBOX_GRP_ID: decimal(38,10) (nullable = true)\n",
      " |-- KATEGORIE_1_ID: decimal(38,10) (nullable = true)\n",
      " |-- KATEGORIE_2_ID: decimal(38,10) (nullable = true)\n",
      " |-- STIMMUNG_ID: decimal(38,10) (nullable = true)\n",
      " |-- PUBLISH_ID: decimal(38,10) (nullable = true)\n",
      " |-- WKATEGORIE_ID: decimal(38,10) (nullable = true)\n",
      " |-- OCCASION_ID: decimal(38,10) (nullable = true)\n",
      " |-- PRODUCT_ID: decimal(38,10) (nullable = true)\n",
      " |-- ANZAHL_CAT_ANSWERS: decimal(18,0) (nullable = true)\n",
      " |-- ARTGRP_ID: decimal(18,0) (nullable = true)\n",
      " |-- VEREDELUNG_TYP_ID: decimal(10,0) (nullable = true)\n",
      " |-- MESSE_JAHR_ID: decimal(18,0) (nullable = true)\n",
      " |-- ANZAHL_ANTWORTEN: decimal(18,0) (nullable = true)\n",
      " |-- ANZAHL_TEILNEHMER: decimal(18,0) (nullable = true)\n",
      "\n"
     ]
    }
   ],
   "source": [
    "parquetFile.printSchema()"
   ]
  },
  {
   "cell_type": "code",
   "execution_count": 113,
   "metadata": {},
   "outputs": [],
   "source": [
    "parquetFile.createOrReplaceTempView(\"parquetFile\")"
   ]
  },
  {
   "cell_type": "code",
   "execution_count": 114,
   "metadata": {},
   "outputs": [
    {
     "data": {
      "text/plain": [
       "101"
      ]
     },
     "execution_count": 114,
     "metadata": {},
     "output_type": "execute_result"
    }
   ],
   "source": [
    "len(parquetFile.columns)"
   ]
  },
  {
   "cell_type": "code",
   "execution_count": 116,
   "metadata": {},
   "outputs": [
    {
     "name": "stdout",
     "output_type": "stream",
     "text": [
      "+------------------+-------------------+-------+--------+-----+------+--------------+--------------------+-------------+--------------------+------------+--------+---------+-----------------+-------------+-------------+-------------+-------------------+----------------+----------------+-------------+----------+----------------+----------------+------------+-------+---------------+------------+--------+---+------------+--------+------------+----------+---------------+---------+----------------+-----------------+-----------------+----------------+----------------------------+----------------+---------------+------------------+--------------------+----------------------+----------------------+------------------+------------------------+------+--------+-------------+-----------+--------+----------------+--------------+----------------+-----------------+--------------------+--------------------+---------------------+-------------------------+-----------------+----------------------+--------------------+--------------+--------------------+---------------+------------+------------+---------------+--------+-------------+--------------------+----------+-----------------+--------+----------+-----------+--------+------+--------+-----------+----------------+-----------------+-------------+-------------+---------------+--------------+--------------+-------------+-------------+-------------+-------------+-------------+------------------+---------+-----------------+-------------+----------------+-----------------+\n",
      "|   ERGEBNISSATZ_ID|           DATUM_ID|JAHR_ID|MONAT_ID|KW_ID|TAG_ID|KEY_ACCOUNT_ID|          UMFRAGE_ID|UMFRAGETYP_ID|UMFRAGE_KATEGORIE_ID|     LAND_ID|LABOR_ID|CLIENT_ID|CLIENT_VERSION_ID|COMPLETION_ID|NPS_STATUS_ID|NPS_KLASSE_ID|DKON_KONSUMENT_CODE|KONTAKTWUNSCH_ID|ERSTBESTELLER_ID|PERMISSION_ID|ARTIKEL_ID|MULTI_ARTIKEL_ID|MOBILE_DEVICE_ID|NAMENSTYP_ID|BILD_ID|BESTELLERTYP_ID|KUNDENTYP_ID|CLASS_ID|NPS|LD_QUALITAET|LD_OPTIK|LD_LIEFERUNG|LD_BINDUNG|LD_FARBBRILLANZ|LD_PAPIER|LD_FORMATAUSWAHL|LD_DESIGNVIELFALT|LD_DESIGNVORLAGEN|LD_BEDIENBARKEIT|LD_GESTALTUNGSMOEGLICHKEITEN|MARKE_HOCHWERTIG|MARKE_INNOVATIV|MARKE_ZUVERLAESSIG|MARKE_PREIS_LEISTUNG|ENPS_WIEDERKAUFABSICHT|ENPS_ZUSATZKAUFABSICHT|ENPS_PREISTOLERANZ|ENPS_KUNDENDURCHDRINGUNG|PI_CFB|PI_CARDS|PI_WANDBILDER|PI_KALENDER|PI_FOTOS|PI_FOTOGESCHENKE|PI_SOFORTDRUCK|LD_CP_DRUCKDATEN|LD_CP_LIEFERDAUER|LD_CP_UNTERSTUETZUNG|LD_CP_BESTELLPROZESS|LD_CP_PRODUKTVIELFALT|LD_CP_PRODUKTBESCHREIBUNG|LD_CP_WARENSCHUTZ|LD_CP_PRODUKTQUALITAET|LD_CP_PREIS_LEISTUNG|LD_CP_BERATUNG|          ANTWORT_ID|ANTWORT_TEXT_ID|ANTWORT_TEXT|ANTWORT_WERT|ANTWORTSKALA_ID|KD_EXIST|      KD_NAME|            KD_EMAIL|KD_TELEFON|KD_AUFTRAGSNUMMER|PD_EXIST|PD_VORNAME|PD_NACHNAME|PD_ALTER|PD_ORT|PD_BERUF|BERUF_EXIST|OBERKATEGORIE_ID|UNTERKATEGORIE_ID|    GRUPPE_ID|  CHECKBOX_ID|CHECKBOX_GRP_ID|KATEGORIE_1_ID|KATEGORIE_2_ID|  STIMMUNG_ID|   PUBLISH_ID|WKATEGORIE_ID|  OCCASION_ID|   PRODUCT_ID|ANZAHL_CAT_ANSWERS|ARTGRP_ID|VEREDELUNG_TYP_ID|MESSE_JAHR_ID|ANZAHL_ANTWORTEN|ANZAHL_TEILNEHMER|\n",
      "+------------------+-------------------+-------+--------+-----+------+--------------+--------------------+-------------+--------------------+------------+--------+---------+-----------------+-------------+-------------+-------------+-------------------+----------------+----------------+-------------+----------+----------------+----------------+------------+-------+---------------+------------+--------+---+------------+--------+------------+----------+---------------+---------+----------------+-----------------+-----------------+----------------+----------------------------+----------------+---------------+------------------+--------------------+----------------------+----------------------+------------------+------------------------+------+--------+-------------+-----------+--------+----------------+--------------+----------------+-----------------+--------------------+--------------------+---------------------+-------------------------+-----------------+----------------------+--------------------+--------------+--------------------+---------------+------------+------------+---------------+--------+-------------+--------------------+----------+-----------------+--------+----------+-----------+--------+------+--------+-----------+----------------+-----------------+-------------+-------------+---------------+--------------+--------------+-------------+-------------+-------------+-------------+-------------+------------------+---------+-----------------+-------------+----------------+-----------------+\n",
      "|7492033.0000000000|2012-04-14 00:00:00|   2012|       4|   16|    14|          3018|1602629807.000000...| 1.0000000000|        1.0000000000|1.0000000000|       0|       -1|               -1|            1|            1|            1|               null|               0|               0|            0|        -1|               1|              -1|           0|      0|             -1|          -1|      -1|  0|        null|       1|           1|         1|              1|        1|            null|             null|             null|               5|                           5|               1|              1|                 1|                   1|                  null|                  null|              null|                    null|  null|    null|         null|       null|    null|            null|          null|            null|             null|                null|                null|                 null|                     null|             null|                  null|                null|          null|1290295477492033....|            126|           0|           1|              0|       1|Manuela Mayer|Manuela.mayer@onl...|      null|             null|       0|      null|       null|    null|  null|    null|          0|    8.0000000000|    34.0000000000|68.0000000000|-1.0000000000|  -1.0000000000| -1.0000000000| -1.0000000000|-1.0000000000|-1.0000000000|-1.0000000000|-1.0000000000|-1.0000000000|              null|     null|               -1|           -1|               1|                1|\n",
      "+------------------+-------------------+-------+--------+-----+------+--------------+--------------------+-------------+--------------------+------------+--------+---------+-----------------+-------------+-------------+-------------+-------------------+----------------+----------------+-------------+----------+----------------+----------------+------------+-------+---------------+------------+--------+---+------------+--------+------------+----------+---------------+---------+----------------+-----------------+-----------------+----------------+----------------------------+----------------+---------------+------------------+--------------------+----------------------+----------------------+------------------+------------------------+------+--------+-------------+-----------+--------+----------------+--------------+----------------+-----------------+--------------------+--------------------+---------------------+-------------------------+-----------------+----------------------+--------------------+--------------+--------------------+---------------+------------+------------+---------------+--------+-------------+--------------------+----------+-----------------+--------+----------+-----------+--------+------+--------+-----------+----------------+-----------------+-------------+-------------+---------------+--------------+--------------+-------------+-------------+-------------+-------------+-------------+------------------+---------+-----------------+-------------+----------------+-----------------+\n",
      "\n"
     ]
    }
   ],
   "source": [
    "spark.sql(\"SELECT * FROM parquetFile LIMIT 1\").show()"
   ]
  },
  {
   "cell_type": "markdown",
   "metadata": {},
   "source": [
    "## Data in customer_feedbacks_cat/"
   ]
  },
  {
   "cell_type": "code",
   "execution_count": 45,
   "metadata": {},
   "outputs": [],
   "source": [
    "parquetFile2 = spark.read.parquet(\"../data/customer_feedbacks_cat/part-00000-4820af87-4b19-4958-a7a6-7ed03b76f1b1-c000.snappy.parquet\")"
   ]
  },
  {
   "cell_type": "code",
   "execution_count": 74,
   "metadata": {},
   "outputs": [
    {
     "name": "stdout",
     "output_type": "stream",
     "text": [
      "+--------------------+-----------+----------+--------------+--------------+-----------+--------------+\n",
      "|         KATEGORIE_2|KATEGORIE_1|  STIMMUNG|KATEGORIE_2_ID|KATEGORIE_1_ID|STIMMUNG_ID|KATEGORIE_2_CC|\n",
      "+--------------------+-----------+----------+--------------+--------------+-----------+--------------+\n",
      "| Versand - Vorschlag|    Versand|Suggestion|            38|            10|          4|          1038|\n",
      "|       Versand - Lob|    Versand|    Praise|            39|            10|          2|          1039|\n",
      "|     Versand - Keine|    Versand|      None|            40|            10|          1|          1040|\n",
      "|Versand - Beschwerde|    Versand| Complaint|            41|            10|          3|          1041|\n",
      "|  Editor - Vorschlag|     Editor|Suggestion|            42|            11|          4|          1142|\n",
      "+--------------------+-----------+----------+--------------+--------------+-----------+--------------+\n",
      "\n"
     ]
    }
   ],
   "source": [
    "parquetFile2.createOrReplaceTempView(\"parquetFile2\")\n",
    "spark.sql(\"SELECT * FROM parquetFile2 LIMIT 5\").show()"
   ]
  },
  {
   "cell_type": "markdown",
   "metadata": {},
   "source": [
    "# Generate dataframe"
   ]
  },
  {
   "cell_type": "code",
   "execution_count": 104,
   "metadata": {},
   "outputs": [],
   "source": [
    "df=spark.sql(\"\"\"\n",
    "SELECT\n",
    "    T0.KATEGORIE_2     AS CATEGORY_2,\n",
    "    T0.KATEGORIE_1     AS CATEGORY_1,\n",
    "    T0.STIMMUNG          AS SENTIMENT,\n",
    "    T1.ERGEBNISSATZ_ID AS RESPONSE_ID,\n",
    "    T1.DATUM_ID        AS DATE,\n",
    "    T1.ANTWORT_WERT    AS TEXT\n",
    "FROM\n",
    "    parquetFile2 T0,\n",
    "    parquetFile T1\n",
    "WHERE\n",
    "    T0.KATEGORIE_1_ID = T1.KATEGORIE_1_ID\n",
    "    AND T0.KATEGORIE_2_ID = T1.KATEGORIE_2_ID\n",
    "    AND T0.STIMMUNG_ID = T1.STIMMUNG_ID            \n",
    "    AND (NOT T1.ANTWORT_WERT IS NULL\n",
    "        AND (T1.UMFRAGE_KATEGORIE_ID = 1\n",
    "            AND (T1.GRUPPE_ID = 170\n",
    "                OR T1.GRUPPE_ID = 171)))\n",
    "\"\"\")"
   ]
  },
  {
   "cell_type": "code",
   "execution_count": 105,
   "metadata": {},
   "outputs": [
    {
     "name": "stdout",
     "output_type": "stream",
     "text": [
      "+--------------------+--------------------+---------+------------------+-------------------+--------------------+\n",
      "|          CATEGORY_2|          CATEGORY_1|SENTIMENT|       RESPONSE_ID|               DATE|                TEXT|\n",
      "+--------------------+--------------------+---------+------------------+-------------------+--------------------+\n",
      "|Delivery & POS Fe...|Delivery & POS Fe...|     None|7492033.0000000000|2012-04-14 00:00:00|Habe bis heute me...|\n",
      "|  Other - Beschwerde|               Other|Complaint|7492033.0000000000|2012-04-14 00:00:00|Habe bis heute me...|\n",
      "|                 N/A|                 N/A|      N/A|7492033.0000000000|2012-04-14 00:00:00|  Bin stinke sauer! |\n",
      "|HPS, IPS & App - ...|      HPS, IPS & App|     None|7509285.0000000000|2012-04-16 00:00:00|Teuer, aber gut. ...|\n",
      "|Customer Service ...|Customer Service ...|   Praise|7509285.0000000000|2012-04-16 00:00:00|Teuer, aber gut. ...|\n",
      "|Product Quality -...|     Product Quality|   Praise|7510696.0000000000|2012-04-16 00:00:00|Bisher war ich mi...|\n",
      "|         Other - Lob|               Other|   Praise|7510696.0000000000|2012-04-16 00:00:00|Bisher war ich mi...|\n",
      "|                 N/A|                 N/A|      N/A|7520322.0000000000|2012-04-17 00:00:00|Bisher damit sehr...|\n",
      "|                 N/A|                 N/A|      N/A|7520322.0000000000|2012-04-17 00:00:00|                   -|\n",
      "|Product Quality -...|     Product Quality|   Praise|7520330.0000000000|2012-04-17 00:00:00|Ich habe gute Erf...|\n",
      "|                 N/A|                 N/A|      N/A|7522134.0000000000|2012-04-17 00:00:00|da es super gewor...|\n",
      "|Product Quality -...|     Product Quality|   Praise|7525607.0000000000|2012-04-17 00:00:00|gute Qualität, sc...|\n",
      "|         Other - Lob|               Other|   Praise|7525607.0000000000|2012-04-17 00:00:00|gute Qualität, sc...|\n",
      "|HPS, IPS & App - Lob|      HPS, IPS & App|   Praise|7526877.0000000000|2012-04-17 00:00:00|Es ist einfach mi...|\n",
      "|       Other - Keine|               Other|     None|7526877.0000000000|2012-04-17 00:00:00|Es ist einfach mi...|\n",
      "|Customer Service ...|Customer Service ...|Complaint|7533276.0000000000|2012-04-17 00:00:00|Ich habe vor läng...|\n",
      "|  Other - Beschwerde|               Other|Complaint|7533276.0000000000|2012-04-17 00:00:00|Ich habe vor läng...|\n",
      "|Product Quality -...|     Product Quality|   Praise|7544885.0000000000|2012-04-18 00:00:00|Schnelle Bearbeit...|\n",
      "|         Other - Lob|               Other|   Praise|7544885.0000000000|2012-04-18 00:00:00|Schnelle Bearbeit...|\n",
      "|Delivery & POS Fe...|Delivery & POS Fe...|   Praise|7544976.0000000000|2012-04-18 00:00:00|wir waren super z...|\n",
      "+--------------------+--------------------+---------+------------------+-------------------+--------------------+\n",
      "only showing top 20 rows\n",
      "\n"
     ]
    }
   ],
   "source": [
    "df.show()"
   ]
  },
  {
   "cell_type": "code",
   "execution_count": 124,
   "metadata": {},
   "outputs": [
    {
     "data": {
      "text/plain": [
       "Row(CATEGORY_2='Delivery & POS Feedback - Keine', CATEGORY_1='Delivery & POS Feedback', SENTIMENT='None', RESPONSE_ID=Decimal('7492033.0000000000'), DATE=datetime.datetime(2012, 4, 14, 0, 0), TEXT='Habe bis heute mein Fotobuch noch nicht obwohl ich es im März bestellt habe. War ein Geburtstagsgeschenk doch dieser ist mittlerweile auch vorbei. Keiner weiß wo mein Buch geblieben ist. Schade oder- Vertrauen dahin. Werde ich nie wieder über Müller machen! ')"
      ]
     },
     "execution_count": 124,
     "metadata": {},
     "output_type": "execute_result"
    }
   ],
   "source": [
    "df.head()"
   ]
  },
  {
   "cell_type": "code",
   "execution_count": 90,
   "metadata": {},
   "outputs": [
    {
     "name": "stdout",
     "output_type": "stream",
     "text": [
      "root\n",
      " |-- CATEGORY_2: string (nullable = true)\n",
      " |-- CATEGORY_1: string (nullable = true)\n",
      " |-- SENTIMENT: string (nullable = true)\n",
      " |-- RESPONSE_ID: decimal(38,10) (nullable = true)\n",
      " |-- DATE: timestamp (nullable = true)\n",
      " |-- TEXT: string (nullable = true)\n",
      "\n"
     ]
    }
   ],
   "source": [
    "df.printSchema()"
   ]
  },
  {
   "cell_type": "markdown",
   "metadata": {},
   "source": [
    "# Data Cleaning"
   ]
  },
  {
   "cell_type": "code",
   "execution_count": 122,
   "metadata": {},
   "outputs": [
    {
     "data": {
      "text/plain": [
       "[Row(CATEGORY_2='Delivery & POS Feedback - Keine', CATEGORY_1='Delivery & POS Feedback', SENTIMENT='None', RESPONSE_ID=Decimal('7492033.0000000000'), DATE=datetime.datetime(2012, 4, 14, 0, 0), TEXT='Habe bis heute mein Fotobuch noch nicht obwohl ich es im März bestellt habe. War ein Geburtstagsgeschenk doch dieser ist mittlerweile auch vorbei. Keiner weiß wo mein Buch geblieben ist. Schade oder- Vertrauen dahin. Werde ich nie wieder über Müller machen! '),\n",
       " Row(CATEGORY_2='Other - Beschwerde', CATEGORY_1='Other', SENTIMENT='Complaint', RESPONSE_ID=Decimal('7492033.0000000000'), DATE=datetime.datetime(2012, 4, 14, 0, 0), TEXT='Habe bis heute mein Fotobuch noch nicht obwohl ich es im März bestellt habe. War ein Geburtstagsgeschenk doch dieser ist mittlerweile auch vorbei. Keiner weiß wo mein Buch geblieben ist. Schade oder- Vertrauen dahin. Werde ich nie wieder über Müller machen! '),\n",
       " Row(CATEGORY_2='N/A', CATEGORY_1='N/A', SENTIMENT='N/A', RESPONSE_ID=Decimal('7492033.0000000000'), DATE=datetime.datetime(2012, 4, 14, 0, 0), TEXT='Bin stinke sauer! '),\n",
       " Row(CATEGORY_2='HPS, IPS & App - Keine', CATEGORY_1='HPS, IPS & App', SENTIMENT='None', RESPONSE_ID=Decimal('7509285.0000000000'), DATE=datetime.datetime(2012, 4, 16, 0, 0), TEXT='Teuer, aber gut. Ich schätze die vielen Möglichkeiten der Software, nutze regelmäßig das Forum und bei Problemen hilft der Kundendienst gut weiter.'),\n",
       " Row(CATEGORY_2='Customer Service Feedback - Lob', CATEGORY_1='Customer Service Feedback', SENTIMENT='Praise', RESPONSE_ID=Decimal('7509285.0000000000'), DATE=datetime.datetime(2012, 4, 16, 0, 0), TEXT='Teuer, aber gut. Ich schätze die vielen Möglichkeiten der Software, nutze regelmäßig das Forum und bei Problemen hilft der Kundendienst gut weiter.')]"
      ]
     },
     "execution_count": 122,
     "metadata": {},
     "output_type": "execute_result"
    }
   ],
   "source": []
  },
  {
   "cell_type": "code",
   "execution_count": null,
   "metadata": {},
   "outputs": [],
   "source": []
  }
 ],
 "metadata": {
  "kernelspec": {
   "display_name": "Python 3",
   "language": "python",
   "name": "python3"
  },
  "language_info": {
   "codemirror_mode": {
    "name": "ipython",
    "version": 3
   },
   "file_extension": ".py",
   "mimetype": "text/x-python",
   "name": "python",
   "nbconvert_exporter": "python",
   "pygments_lexer": "ipython3",
   "version": "3.7.1"
  }
 },
 "nbformat": 4,
 "nbformat_minor": 2
}
