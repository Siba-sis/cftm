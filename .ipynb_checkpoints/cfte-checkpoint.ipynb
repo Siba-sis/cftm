{
 "cells": [
  {
   "cell_type": "code",
   "execution_count": 1,
   "metadata": {},
   "outputs": [],
   "source": [
    "import numpy as np\n",
    "import pandas as pd\n",
    "from pyspark.context import SparkContext\n",
    "from pyspark.sql.session import SparkSession"
   ]
  },
  {
   "cell_type": "code",
   "execution_count": null,
   "metadata": {},
   "outputs": [],
   "source": [
    "# Out of Memory\n",
    "# df0 = pd.read_parquet(\"../data/customer_feedbacks/part-00000-985ad763-a6d6-4ead-a6dd-c02279e9eeba-c000.snappy.parquet\", engine='pyarrow')"
   ]
  },
  {
   "cell_type": "markdown",
   "metadata": {},
   "source": [
    "# Data Inspection"
   ]
  },
  {
   "cell_type": "markdown",
   "metadata": {},
   "source": [
    "## Data in customer_feedbacks/"
   ]
  },
  {
   "cell_type": "code",
   "execution_count": 2,
   "metadata": {},
   "outputs": [],
   "source": [
    "sc = SparkContext('local')\n",
    "spark = SparkSession(sc)\n",
    "parquetFile = spark.read.parquet(\"../data/customer_feedbacks/part-00000-985ad763-a6d6-4ead-a6dd-c02279e9eeba-c000.snappy.parquet\")"
   ]
  },
  {
   "cell_type": "code",
   "execution_count": 3,
   "metadata": {},
   "outputs": [],
   "source": [
    "parquetFile.createOrReplaceTempView(\"parquetFile\")"
   ]
  },
  {
   "cell_type": "code",
   "execution_count": 47,
   "metadata": {},
   "outputs": [
    {
     "data": {
      "text/plain": [
       "101"
      ]
     },
     "execution_count": 47,
     "metadata": {},
     "output_type": "execute_result"
    }
   ],
   "source": [
    "len(parquetFile.columns)"
   ]
  },
  {
   "cell_type": "code",
   "execution_count": 49,
   "metadata": {},
   "outputs": [
    {
     "name": "stdout",
     "output_type": "stream",
     "text": [
      "+------------------+-------------------+-------+--------+-----+------+--------------+--------------------+-------------+--------------------+------------+--------+---------+-----------------+-------------+-------------+-------------+-------------------+----------------+----------------+-------------+----------+----------------+----------------+------------+-------+---------------+------------+--------+---+------------+--------+------------+----------+---------------+---------+----------------+-----------------+-----------------+----------------+----------------------------+----------------+---------------+------------------+--------------------+----------------------+----------------------+------------------+------------------------+------+--------+-------------+-----------+--------+----------------+--------------+----------------+-----------------+--------------------+--------------------+---------------------+-------------------------+-----------------+----------------------+--------------------+--------------+--------------------+---------------+------------+--------------------+---------------+--------+-------------+--------------------+----------+-----------------+--------+----------+-----------+--------+------+--------+-----------+----------------+-----------------+--------------+--------------+---------------+--------------+--------------+-------------+-------------+-------------+-------------+-------------+------------------+---------+-----------------+-------------+----------------+-----------------+\n",
      "|   ERGEBNISSATZ_ID|           DATUM_ID|JAHR_ID|MONAT_ID|KW_ID|TAG_ID|KEY_ACCOUNT_ID|          UMFRAGE_ID|UMFRAGETYP_ID|UMFRAGE_KATEGORIE_ID|     LAND_ID|LABOR_ID|CLIENT_ID|CLIENT_VERSION_ID|COMPLETION_ID|NPS_STATUS_ID|NPS_KLASSE_ID|DKON_KONSUMENT_CODE|KONTAKTWUNSCH_ID|ERSTBESTELLER_ID|PERMISSION_ID|ARTIKEL_ID|MULTI_ARTIKEL_ID|MOBILE_DEVICE_ID|NAMENSTYP_ID|BILD_ID|BESTELLERTYP_ID|KUNDENTYP_ID|CLASS_ID|NPS|LD_QUALITAET|LD_OPTIK|LD_LIEFERUNG|LD_BINDUNG|LD_FARBBRILLANZ|LD_PAPIER|LD_FORMATAUSWAHL|LD_DESIGNVIELFALT|LD_DESIGNVORLAGEN|LD_BEDIENBARKEIT|LD_GESTALTUNGSMOEGLICHKEITEN|MARKE_HOCHWERTIG|MARKE_INNOVATIV|MARKE_ZUVERLAESSIG|MARKE_PREIS_LEISTUNG|ENPS_WIEDERKAUFABSICHT|ENPS_ZUSATZKAUFABSICHT|ENPS_PREISTOLERANZ|ENPS_KUNDENDURCHDRINGUNG|PI_CFB|PI_CARDS|PI_WANDBILDER|PI_KALENDER|PI_FOTOS|PI_FOTOGESCHENKE|PI_SOFORTDRUCK|LD_CP_DRUCKDATEN|LD_CP_LIEFERDAUER|LD_CP_UNTERSTUETZUNG|LD_CP_BESTELLPROZESS|LD_CP_PRODUKTVIELFALT|LD_CP_PRODUKTBESCHREIBUNG|LD_CP_WARENSCHUTZ|LD_CP_PRODUKTQUALITAET|LD_CP_PREIS_LEISTUNG|LD_CP_BERATUNG|          ANTWORT_ID|ANTWORT_TEXT_ID|ANTWORT_TEXT|        ANTWORT_WERT|ANTWORTSKALA_ID|KD_EXIST|      KD_NAME|            KD_EMAIL|KD_TELEFON|KD_AUFTRAGSNUMMER|PD_EXIST|PD_VORNAME|PD_NACHNAME|PD_ALTER|PD_ORT|PD_BERUF|BERUF_EXIST|OBERKATEGORIE_ID|UNTERKATEGORIE_ID|     GRUPPE_ID|   CHECKBOX_ID|CHECKBOX_GRP_ID|KATEGORIE_1_ID|KATEGORIE_2_ID|  STIMMUNG_ID|   PUBLISH_ID|WKATEGORIE_ID|  OCCASION_ID|   PRODUCT_ID|ANZAHL_CAT_ANSWERS|ARTGRP_ID|VEREDELUNG_TYP_ID|MESSE_JAHR_ID|ANZAHL_ANTWORTEN|ANZAHL_TEILNEHMER|\n",
      "+------------------+-------------------+-------+--------+-----+------+--------------+--------------------+-------------+--------------------+------------+--------+---------+-----------------+-------------+-------------+-------------+-------------------+----------------+----------------+-------------+----------+----------------+----------------+------------+-------+---------------+------------+--------+---+------------+--------+------------+----------+---------------+---------+----------------+-----------------+-----------------+----------------+----------------------------+----------------+---------------+------------------+--------------------+----------------------+----------------------+------------------+------------------------+------+--------+-------------+-----------+--------+----------------+--------------+----------------+-----------------+--------------------+--------------------+---------------------+-------------------------+-----------------+----------------------+--------------------+--------------+--------------------+---------------+------------+--------------------+---------------+--------+-------------+--------------------+----------+-----------------+--------+----------+-----------+--------+------+--------+-----------+----------------+-----------------+--------------+--------------+---------------+--------------+--------------+-------------+-------------+-------------+-------------+-------------+------------------+---------+-----------------+-------------+----------------+-----------------+\n",
      "|7492033.0000000000|2012-04-14 00:00:00|   2012|       4|   16|    14|          3018|1602629807.000000...| 1.0000000000|        1.0000000000|1.0000000000|       0|       -1|               -1|            1|            1|            1|               null|               0|               0|            0|        -1|               1|              -1|           0|      0|             -1|          -1|      -1|  0|        null|       1|           1|         1|              1|        1|            null|             null|             null|               5|                           5|               1|              1|                 1|                   1|                  null|                  null|              null|                    null|  null|    null|         null|       null|    null|            null|          null|            null|             null|                null|                null|                 null|                     null|             null|                  null|                null|          null|1290295477492033....|            126|           0|                   1|              0|       1|Manuela Mayer|Manuela.mayer@onl...|      null|             null|       0|      null|       null|    null|  null|    null|          0|    8.0000000000|    34.0000000000| 68.0000000000| -1.0000000000|  -1.0000000000| -1.0000000000| -1.0000000000|-1.0000000000|-1.0000000000|-1.0000000000|-1.0000000000|-1.0000000000|              null|     null|               -1|           -1|               1|                1|\n",
      "|7492033.0000000000|2012-04-14 00:00:00|   2012|       4|   16|    14|          3018|1602629807.000000...| 1.0000000000|        1.0000000000|1.0000000000|       0|       -1|               -1|            1|            1|            1|               null|               0|               0|            0|        -1|               1|              -1|           0|      0|             -1|          -1|      -1|  0|        null|       1|           1|         1|              1|        1|            null|             null|             null|               5|                           5|               1|              1|                 1|                   1|                  null|                  null|              null|                    null|  null|    null|         null|       null|    null|            null|          null|            null|             null|                null|                null|                 null|                     null|             null|                  null|                null|          null|1290295587492033....|            907|         N/A|Habe bis heute me...|             -1|       1|Manuela Mayer|Manuela.mayer@onl...|      null|             null|       0|      null|       null|    null|  null|    null|          0|    7.0000000000|   177.0000000000|170.0000000000|301.0000000000|  21.0000000000|  4.0000000000| 14.0000000000| 1.0000000000| 2.0000000000|-1.0000000000|-1.0000000000|-1.0000000000|                 1|     null|               -1|           -1|               1|             null|\n",
      "|7492033.0000000000|2012-04-14 00:00:00|   2012|       4|   16|    14|          3018|1602629807.000000...| 1.0000000000|        1.0000000000|1.0000000000|       0|       -1|               -1|            1|            1|            1|               null|               0|               0|            0|        -1|               1|              -1|           0|      0|             -1|          -1|      -1|  0|        null|       1|           1|         1|              1|        1|            null|             null|             null|               5|                           5|               1|              1|                 1|                   1|                  null|                  null|              null|                    null|  null|    null|         null|       null|    null|            null|          null|            null|             null|                null|                null|                 null|                     null|             null|                  null|                null|          null|1290295587492033....|            907|         N/A|Habe bis heute me...|             -1|       1|Manuela Mayer|Manuela.mayer@onl...|      null|             null|       0|      null|       null|    null|  null|    null|          0|    7.0000000000|   177.0000000000|170.0000000000|301.0000000000|  21.0000000000|  9.0000000000| 37.0000000000| 3.0000000000| 2.0000000000|-1.0000000000|-1.0000000000|-1.0000000000|                 1|     null|               -1|           -1|            null|             null|\n",
      "|7492033.0000000000|2012-04-14 00:00:00|   2012|       4|   16|    14|          3018|1602629807.000000...| 1.0000000000|        1.0000000000|1.0000000000|       0|       -1|               -1|            1|            1|            1|               null|               0|               0|            0|        -1|               1|              -1|           0|      0|             -1|          -1|      -1|  0|        null|       1|           1|         1|              1|        1|            null|             null|             null|               5|                           5|               1|              1|                 1|                   1|                  null|                  null|              null|                    null|  null|    null|         null|       null|    null|            null|          null|            null|             null|                null|                null|                 null|                     null|             null|                  null|                null|          null|1290298297492033....|            298|   zufrieden|                   5|              5|       1|Manuela Mayer|Manuela.mayer@onl...|      null|             null|       0|      null|       null|    null|  null|    null|          0|    2.0000000000|    23.0000000000| 81.0000000000| -1.0000000000|  -1.0000000000| -1.0000000000| -1.0000000000|-1.0000000000|-1.0000000000|-1.0000000000|-1.0000000000|-1.0000000000|              null|     null|               -1|           -1|               1|             null|\n",
      "|7492033.0000000000|2012-04-14 00:00:00|   2012|       4|   16|    14|          3018|1602629807.000000...| 1.0000000000|        1.0000000000|1.0000000000|       0|       -1|               -1|            1|            1|            1|               null|               0|               0|            0|        -1|               1|              -1|           0|      0|             -1|          -1|      -1|  0|        null|       1|           1|         1|              1|        1|            null|             null|             null|               5|                           5|               1|              1|                 1|                   1|                  null|                  null|              null|                    null|  null|    null|         null|       null|    null|            null|          null|            null|             null|                null|                null|                 null|                     null|             null|                  null|                null|          null|1290298357492033....|            431|   zufrieden|                   5|              5|       1|Manuela Mayer|Manuela.mayer@onl...|      null|             null|       0|      null|       null|    null|  null|    null|          0|    2.0000000000|    25.0000000000| 83.0000000000| -1.0000000000|  -1.0000000000| -1.0000000000| -1.0000000000|-1.0000000000|-1.0000000000|-1.0000000000|-1.0000000000|-1.0000000000|              null|     null|               -1|           -1|               1|             null|\n",
      "+------------------+-------------------+-------+--------+-----+------+--------------+--------------------+-------------+--------------------+------------+--------+---------+-----------------+-------------+-------------+-------------+-------------------+----------------+----------------+-------------+----------+----------------+----------------+------------+-------+---------------+------------+--------+---+------------+--------+------------+----------+---------------+---------+----------------+-----------------+-----------------+----------------+----------------------------+----------------+---------------+------------------+--------------------+----------------------+----------------------+------------------+------------------------+------+--------+-------------+-----------+--------+----------------+--------------+----------------+-----------------+--------------------+--------------------+---------------------+-------------------------+-----------------+----------------------+--------------------+--------------+--------------------+---------------+------------+--------------------+---------------+--------+-------------+--------------------+----------+-----------------+--------+----------+-----------+--------+------+--------+-----------+----------------+-----------------+--------------+--------------+---------------+--------------+--------------+-------------+-------------+-------------+-------------+-------------+------------------+---------+-----------------+-------------+----------------+-----------------+\n",
      "\n"
     ]
    }
   ],
   "source": [
    "df0 = spark.sql(\"SELECT * FROM parquetFile LIMIT 5\")\n",
    "df0.show()"
   ]
  },
  {
   "cell_type": "code",
   "execution_count": 28,
   "metadata": {},
   "outputs": [],
   "source": [
    "antwort = spark.sql(\"SELECT ANTWORT_WERT, KD_NAME FROM parquetFile LIMIT 20\")"
   ]
  },
  {
   "cell_type": "code",
   "execution_count": 29,
   "metadata": {
    "scrolled": true
   },
   "outputs": [
    {
     "name": "stdout",
     "output_type": "stream",
     "text": [
      "+--------------------+-------------+\n",
      "|        ANTWORT_WERT|      KD_NAME|\n",
      "+--------------------+-------------+\n",
      "|                   1|Manuela Mayer|\n",
      "|Habe bis heute me...|Manuela Mayer|\n",
      "|Habe bis heute me...|Manuela Mayer|\n",
      "|                   5|Manuela Mayer|\n",
      "|                   5|Manuela Mayer|\n",
      "|                   1|Manuela Mayer|\n",
      "|                   1|Manuela Mayer|\n",
      "|                   1|Manuela Mayer|\n",
      "|                   1|Manuela Mayer|\n",
      "|                   1|Manuela Mayer|\n",
      "|                   1|Manuela Mayer|\n",
      "|                   1|Manuela Mayer|\n",
      "|                   1|Manuela Mayer|\n",
      "|                   1|Manuela Mayer|\n",
      "|       Manuela Mayer|Manuela Mayer|\n",
      "|Manuela.mayer@onl...|Manuela Mayer|\n",
      "|                   2|Manuela Mayer|\n",
      "|  Bin stinke sauer! |Manuela Mayer|\n",
      "|                  11|         null|\n",
      "|Teuer, aber gut. ...|         null|\n",
      "+--------------------+-------------+\n",
      "\n"
     ]
    }
   ],
   "source": [
    "antwort.show()"
   ]
  },
  {
   "cell_type": "markdown",
   "metadata": {},
   "source": [
    "## Data in customer_feedbacks_cat/"
   ]
  },
  {
   "cell_type": "code",
   "execution_count": 45,
   "metadata": {},
   "outputs": [],
   "source": [
    "parquetFile2 = spark.read.parquet(\"../data/customer_feedbacks_cat/part-00000-4820af87-4b19-4958-a7a6-7ed03b76f1b1-c000.snappy.parquet\")"
   ]
  },
  {
   "cell_type": "code",
   "execution_count": 48,
   "metadata": {},
   "outputs": [
    {
     "name": "stdout",
     "output_type": "stream",
     "text": [
      "+--------------------+-----------+----------+--------------+--------------+-----------+--------------+\n",
      "|         KATEGORIE_2|KATEGORIE_1|  STIMMUNG|KATEGORIE_2_ID|KATEGORIE_1_ID|STIMMUNG_ID|KATEGORIE_2_CC|\n",
      "+--------------------+-----------+----------+--------------+--------------+-----------+--------------+\n",
      "| Versand - Vorschlag|    Versand|Suggestion|            38|            10|          4|          1038|\n",
      "|       Versand - Lob|    Versand|    Praise|            39|            10|          2|          1039|\n",
      "|     Versand - Keine|    Versand|      None|            40|            10|          1|          1040|\n",
      "|Versand - Beschwerde|    Versand| Complaint|            41|            10|          3|          1041|\n",
      "|  Editor - Vorschlag|     Editor|Suggestion|            42|            11|          4|          1142|\n",
      "+--------------------+-----------+----------+--------------+--------------+-----------+--------------+\n",
      "\n"
     ]
    }
   ],
   "source": [
    "parquetFile2.createOrReplaceTempView(\"parquetFile2\")\n",
    "spark.sql(\"SELECT * FROM parquetFile2 LIMIT 5\").show()"
   ]
  },
  {
   "cell_type": "code",
   "execution_count": 55,
   "metadata": {},
   "outputs": [
    {
     "ename": "ParseException",
     "evalue": "'\\nextraneous input \\'\"KATEGORIE_2\"\\' expecting {\\'SELECT\\', \\'FROM\\', \\'ADD\\', \\'AS\\', \\'ALL\\', \\'ANY\\', \\'DISTINCT\\', \\'WHERE\\', \\'GROUP\\', \\'BY\\', \\'GROUPING\\', \\'SETS\\', \\'CUBE\\', \\'ROLLUP\\', \\'ORDER\\', \\'HAVING\\', \\'LIMIT\\', \\'AT\\', \\'OR\\', \\'AND\\', \\'IN\\', NOT, \\'NO\\', \\'EXISTS\\', \\'BETWEEN\\', \\'LIKE\\', RLIKE, \\'IS\\', \\'NULL\\', \\'TRUE\\', \\'FALSE\\', \\'NULLS\\', \\'ASC\\', \\'DESC\\', \\'FOR\\', \\'INTERVAL\\', \\'CASE\\', \\'WHEN\\', \\'THEN\\', \\'ELSE\\', \\'END\\', \\'JOIN\\', \\'CROSS\\', \\'OUTER\\', \\'INNER\\', \\'LEFT\\', \\'SEMI\\', \\'RIGHT\\', \\'FULL\\', \\'NATURAL\\', \\'ON\\', \\'PIVOT\\', \\'LATERAL\\', \\'WINDOW\\', \\'OVER\\', \\'PARTITION\\', \\'RANGE\\', \\'ROWS\\', \\'UNBOUNDED\\', \\'PRECEDING\\', \\'FOLLOWING\\', \\'CURRENT\\', \\'FIRST\\', \\'AFTER\\', \\'LAST\\', \\'ROW\\', \\'WITH\\', \\'VALUES\\', \\'CREATE\\', \\'TABLE\\', \\'DIRECTORY\\', \\'VIEW\\', \\'REPLACE\\', \\'INSERT\\', \\'DELETE\\', \\'INTO\\', \\'DESCRIBE\\', \\'EXPLAIN\\', \\'FORMAT\\', \\'LOGICAL\\', \\'CODEGEN\\', \\'COST\\', \\'CAST\\', \\'SHOW\\', \\'TABLES\\', \\'COLUMNS\\', \\'COLUMN\\', \\'USE\\', \\'PARTITIONS\\', \\'FUNCTIONS\\', \\'DROP\\', \\'UNION\\', \\'EXCEPT\\', \\'MINUS\\', \\'INTERSECT\\', \\'TO\\', \\'TABLESAMPLE\\', \\'STRATIFY\\', \\'ALTER\\', \\'RENAME\\', \\'ARRAY\\', \\'MAP\\', \\'STRUCT\\', \\'COMMENT\\', \\'SET\\', \\'RESET\\', \\'DATA\\', \\'START\\', \\'TRANSACTION\\', \\'COMMIT\\', \\'ROLLBACK\\', \\'MACRO\\', \\'IGNORE\\', \\'BOTH\\', \\'LEADING\\', \\'TRAILING\\', \\'IF\\', \\'POSITION\\', \\'EXTRACT\\', \\'DIV\\', \\'PERCENT\\', \\'BUCKET\\', \\'OUT\\', \\'OF\\', \\'SORT\\', \\'CLUSTER\\', \\'DISTRIBUTE\\', \\'OVERWRITE\\', \\'TRANSFORM\\', \\'REDUCE\\', \\'SERDE\\', \\'SERDEPROPERTIES\\', \\'RECORDREADER\\', \\'RECORDWRITER\\', \\'DELIMITED\\', \\'FIELDS\\', \\'TERMINATED\\', \\'COLLECTION\\', \\'ITEMS\\', \\'KEYS\\', \\'ESCAPED\\', \\'LINES\\', \\'SEPARATED\\', \\'FUNCTION\\', \\'EXTENDED\\', \\'REFRESH\\', \\'CLEAR\\', \\'CACHE\\', \\'UNCACHE\\', \\'LAZY\\', \\'FORMATTED\\', \\'GLOBAL\\', TEMPORARY, \\'OPTIONS\\', \\'UNSET\\', \\'TBLPROPERTIES\\', \\'DBPROPERTIES\\', \\'BUCKETS\\', \\'SKEWED\\', \\'STORED\\', \\'DIRECTORIES\\', \\'LOCATION\\', \\'EXCHANGE\\', \\'ARCHIVE\\', \\'UNARCHIVE\\', \\'FILEFORMAT\\', \\'TOUCH\\', \\'COMPACT\\', \\'CONCATENATE\\', \\'CHANGE\\', \\'CASCADE\\', \\'RESTRICT\\', \\'CLUSTERED\\', \\'SORTED\\', \\'PURGE\\', \\'INPUTFORMAT\\', \\'OUTPUTFORMAT\\', DATABASE, DATABASES, \\'DFS\\', \\'TRUNCATE\\', \\'ANALYZE\\', \\'COMPUTE\\', \\'LIST\\', \\'STATISTICS\\', \\'PARTITIONED\\', \\'EXTERNAL\\', \\'DEFINED\\', \\'REVOKE\\', \\'GRANT\\', \\'LOCK\\', \\'UNLOCK\\', \\'MSCK\\', \\'REPAIR\\', \\'RECOVER\\', \\'EXPORT\\', \\'IMPORT\\', \\'LOAD\\', \\'ROLE\\', \\'ROLES\\', \\'COMPACTIONS\\', \\'PRINCIPALS\\', \\'TRANSACTIONS\\', \\'INDEX\\', \\'INDEXES\\', \\'LOCKS\\', \\'OPTION\\', \\'ANTI\\', \\'LOCAL\\', \\'INPATH\\', IDENTIFIER, BACKQUOTED_IDENTIFIER}(line 1, pos 10)\\n\\n== SQL ==\\nSELECT T0.\"KATEGORIE_2\" AS \"CATEGORY_2\", T0.\"KATEGORIE_1\" AS \"CATEGORY_1\", T0.STIMMUNG AS SENTIMENT, T1.\"ERGEBNISSATZ_ID\" AS \"RESPONSE_ID\", T1.\"DATUM_ID\" AS \"DATE\", T1.\"ANTWORT_WERT\" AS TEXT FROM parquetFile2 T0, parquetFile T1 WHERE (((((T1.\"GRUPPE_ID\" = 170) OR (T1.\"GRUPPE_ID\" = 171)) AND (T1.\"UMFRAGE_KATEGORIE_ID\" = 1)) AND (T1.\"DATUM_ID\" >= TO_DATE(\\'2019-01-01 00:00:00\\', \\'YYYY-MM-DD HH24:MI:SS\\'))) AND NOT((T1.\"ANTWORT_WERT\" IS NULL))) AND (T0.\"KATEGORIE_1_ID\" = T1.\"KATEGORIE_1_ID\") AND (T0.\"KATEGORIE_2_ID\" = T1.\"KATEGORIE_2_ID\") AND (T0.\"STIMMUNG_ID\" = T1.\"STIMMUNG_ID\")\\n----------^^^\\n'",
     "output_type": "error",
     "traceback": [
      "\u001b[1;31m---------------------------------------------------------------------------\u001b[0m",
      "\u001b[1;31mPy4JJavaError\u001b[0m                             Traceback (most recent call last)",
      "\u001b[1;32m~\\AppData\\Local\\Continuum\\anaconda3\\lib\\site-packages\\pyspark\\sql\\utils.py\u001b[0m in \u001b[0;36mdeco\u001b[1;34m(*a, **kw)\u001b[0m\n\u001b[0;32m     62\u001b[0m         \u001b[1;32mtry\u001b[0m\u001b[1;33m:\u001b[0m\u001b[1;33m\u001b[0m\u001b[1;33m\u001b[0m\u001b[0m\n\u001b[1;32m---> 63\u001b[1;33m             \u001b[1;32mreturn\u001b[0m \u001b[0mf\u001b[0m\u001b[1;33m(\u001b[0m\u001b[1;33m*\u001b[0m\u001b[0ma\u001b[0m\u001b[1;33m,\u001b[0m \u001b[1;33m**\u001b[0m\u001b[0mkw\u001b[0m\u001b[1;33m)\u001b[0m\u001b[1;33m\u001b[0m\u001b[1;33m\u001b[0m\u001b[0m\n\u001b[0m\u001b[0;32m     64\u001b[0m         \u001b[1;32mexcept\u001b[0m \u001b[0mpy4j\u001b[0m\u001b[1;33m.\u001b[0m\u001b[0mprotocol\u001b[0m\u001b[1;33m.\u001b[0m\u001b[0mPy4JJavaError\u001b[0m \u001b[1;32mas\u001b[0m \u001b[0me\u001b[0m\u001b[1;33m:\u001b[0m\u001b[1;33m\u001b[0m\u001b[1;33m\u001b[0m\u001b[0m\n",
      "\u001b[1;32m~\\AppData\\Local\\Continuum\\anaconda3\\lib\\site-packages\\py4j\\protocol.py\u001b[0m in \u001b[0;36mget_return_value\u001b[1;34m(answer, gateway_client, target_id, name)\u001b[0m\n\u001b[0;32m    327\u001b[0m                     \u001b[1;34m\"An error occurred while calling {0}{1}{2}.\\n\"\u001b[0m\u001b[1;33m.\u001b[0m\u001b[1;33m\u001b[0m\u001b[1;33m\u001b[0m\u001b[0m\n\u001b[1;32m--> 328\u001b[1;33m                     format(target_id, \".\", name), value)\n\u001b[0m\u001b[0;32m    329\u001b[0m             \u001b[1;32melse\u001b[0m\u001b[1;33m:\u001b[0m\u001b[1;33m\u001b[0m\u001b[1;33m\u001b[0m\u001b[0m\n",
      "\u001b[1;31mPy4JJavaError\u001b[0m: An error occurred while calling o21.sql.\n: org.apache.spark.sql.catalyst.parser.ParseException: \nextraneous input '\"KATEGORIE_2\"' expecting {'SELECT', 'FROM', 'ADD', 'AS', 'ALL', 'ANY', 'DISTINCT', 'WHERE', 'GROUP', 'BY', 'GROUPING', 'SETS', 'CUBE', 'ROLLUP', 'ORDER', 'HAVING', 'LIMIT', 'AT', 'OR', 'AND', 'IN', NOT, 'NO', 'EXISTS', 'BETWEEN', 'LIKE', RLIKE, 'IS', 'NULL', 'TRUE', 'FALSE', 'NULLS', 'ASC', 'DESC', 'FOR', 'INTERVAL', 'CASE', 'WHEN', 'THEN', 'ELSE', 'END', 'JOIN', 'CROSS', 'OUTER', 'INNER', 'LEFT', 'SEMI', 'RIGHT', 'FULL', 'NATURAL', 'ON', 'PIVOT', 'LATERAL', 'WINDOW', 'OVER', 'PARTITION', 'RANGE', 'ROWS', 'UNBOUNDED', 'PRECEDING', 'FOLLOWING', 'CURRENT', 'FIRST', 'AFTER', 'LAST', 'ROW', 'WITH', 'VALUES', 'CREATE', 'TABLE', 'DIRECTORY', 'VIEW', 'REPLACE', 'INSERT', 'DELETE', 'INTO', 'DESCRIBE', 'EXPLAIN', 'FORMAT', 'LOGICAL', 'CODEGEN', 'COST', 'CAST', 'SHOW', 'TABLES', 'COLUMNS', 'COLUMN', 'USE', 'PARTITIONS', 'FUNCTIONS', 'DROP', 'UNION', 'EXCEPT', 'MINUS', 'INTERSECT', 'TO', 'TABLESAMPLE', 'STRATIFY', 'ALTER', 'RENAME', 'ARRAY', 'MAP', 'STRUCT', 'COMMENT', 'SET', 'RESET', 'DATA', 'START', 'TRANSACTION', 'COMMIT', 'ROLLBACK', 'MACRO', 'IGNORE', 'BOTH', 'LEADING', 'TRAILING', 'IF', 'POSITION', 'EXTRACT', 'DIV', 'PERCENT', 'BUCKET', 'OUT', 'OF', 'SORT', 'CLUSTER', 'DISTRIBUTE', 'OVERWRITE', 'TRANSFORM', 'REDUCE', 'SERDE', 'SERDEPROPERTIES', 'RECORDREADER', 'RECORDWRITER', 'DELIMITED', 'FIELDS', 'TERMINATED', 'COLLECTION', 'ITEMS', 'KEYS', 'ESCAPED', 'LINES', 'SEPARATED', 'FUNCTION', 'EXTENDED', 'REFRESH', 'CLEAR', 'CACHE', 'UNCACHE', 'LAZY', 'FORMATTED', 'GLOBAL', TEMPORARY, 'OPTIONS', 'UNSET', 'TBLPROPERTIES', 'DBPROPERTIES', 'BUCKETS', 'SKEWED', 'STORED', 'DIRECTORIES', 'LOCATION', 'EXCHANGE', 'ARCHIVE', 'UNARCHIVE', 'FILEFORMAT', 'TOUCH', 'COMPACT', 'CONCATENATE', 'CHANGE', 'CASCADE', 'RESTRICT', 'CLUSTERED', 'SORTED', 'PURGE', 'INPUTFORMAT', 'OUTPUTFORMAT', DATABASE, DATABASES, 'DFS', 'TRUNCATE', 'ANALYZE', 'COMPUTE', 'LIST', 'STATISTICS', 'PARTITIONED', 'EXTERNAL', 'DEFINED', 'REVOKE', 'GRANT', 'LOCK', 'UNLOCK', 'MSCK', 'REPAIR', 'RECOVER', 'EXPORT', 'IMPORT', 'LOAD', 'ROLE', 'ROLES', 'COMPACTIONS', 'PRINCIPALS', 'TRANSACTIONS', 'INDEX', 'INDEXES', 'LOCKS', 'OPTION', 'ANTI', 'LOCAL', 'INPATH', IDENTIFIER, BACKQUOTED_IDENTIFIER}(line 1, pos 10)\n\n== SQL ==\nSELECT T0.\"KATEGORIE_2\" AS \"CATEGORY_2\", T0.\"KATEGORIE_1\" AS \"CATEGORY_1\", T0.STIMMUNG AS SENTIMENT, T1.\"ERGEBNISSATZ_ID\" AS \"RESPONSE_ID\", T1.\"DATUM_ID\" AS \"DATE\", T1.\"ANTWORT_WERT\" AS TEXT FROM parquetFile2 T0, parquetFile T1 WHERE (((((T1.\"GRUPPE_ID\" = 170) OR (T1.\"GRUPPE_ID\" = 171)) AND (T1.\"UMFRAGE_KATEGORIE_ID\" = 1)) AND (T1.\"DATUM_ID\" >= TO_DATE('2019-01-01 00:00:00', 'YYYY-MM-DD HH24:MI:SS'))) AND NOT((T1.\"ANTWORT_WERT\" IS NULL))) AND (T0.\"KATEGORIE_1_ID\" = T1.\"KATEGORIE_1_ID\") AND (T0.\"KATEGORIE_2_ID\" = T1.\"KATEGORIE_2_ID\") AND (T0.\"STIMMUNG_ID\" = T1.\"STIMMUNG_ID\")\n----------^^^\n\r\n\tat org.apache.spark.sql.catalyst.parser.ParseException.withCommand(ParseDriver.scala:241)\r\n\tat org.apache.spark.sql.catalyst.parser.AbstractSqlParser.parse(ParseDriver.scala:117)\r\n\tat org.apache.spark.sql.execution.SparkSqlParser.parse(SparkSqlParser.scala:48)\r\n\tat org.apache.spark.sql.catalyst.parser.AbstractSqlParser.parsePlan(ParseDriver.scala:69)\r\n\tat org.apache.spark.sql.SparkSession.sql(SparkSession.scala:642)\r\n\tat sun.reflect.GeneratedMethodAccessor45.invoke(Unknown Source)\r\n\tat sun.reflect.DelegatingMethodAccessorImpl.invoke(Unknown Source)\r\n\tat java.lang.reflect.Method.invoke(Unknown Source)\r\n\tat py4j.reflection.MethodInvoker.invoke(MethodInvoker.java:244)\r\n\tat py4j.reflection.ReflectionEngine.invoke(ReflectionEngine.java:357)\r\n\tat py4j.Gateway.invoke(Gateway.java:282)\r\n\tat py4j.commands.AbstractCommand.invokeMethod(AbstractCommand.java:132)\r\n\tat py4j.commands.CallCommand.execute(CallCommand.java:79)\r\n\tat py4j.GatewayConnection.run(GatewayConnection.java:238)\r\n\tat java.lang.Thread.run(Unknown Source)\r\n",
      "\nDuring handling of the above exception, another exception occurred:\n",
      "\u001b[1;31mParseException\u001b[0m                            Traceback (most recent call last)",
      "\u001b[1;32m<ipython-input-55-37c7a39b0901>\u001b[0m in \u001b[0;36m<module>\u001b[1;34m\u001b[0m\n\u001b[1;32m----> 1\u001b[1;33m \u001b[0mspark\u001b[0m\u001b[1;33m.\u001b[0m\u001b[0msql\u001b[0m\u001b[1;33m(\u001b[0m\u001b[1;34m\"\"\"SELECT T0.\"KATEGORIE_2\" AS \"CATEGORY_2\", T0.\"KATEGORIE_1\" AS \"CATEGORY_1\", T0.STIMMUNG AS SENTIMENT, T1.\"ERGEBNISSATZ_ID\" AS \"RESPONSE_ID\", T1.\"DATUM_ID\" AS \"DATE\", T1.\"ANTWORT_WERT\" AS TEXT FROM parquetFile2 T0, parquetFile T1 WHERE (((((T1.\"GRUPPE_ID\" = 170) OR (T1.\"GRUPPE_ID\" = 171)) AND (T1.\"UMFRAGE_KATEGORIE_ID\" = 1)) AND (T1.\"DATUM_ID\" >= TO_DATE('2019-01-01 00:00:00', 'YYYY-MM-DD HH24:MI:SS'))) AND NOT((T1.\"ANTWORT_WERT\" IS NULL))) AND (T0.\"KATEGORIE_1_ID\" = T1.\"KATEGORIE_1_ID\") AND (T0.\"KATEGORIE_2_ID\" = T1.\"KATEGORIE_2_ID\") AND (T0.\"STIMMUNG_ID\" = T1.\"STIMMUNG_ID\")\"\"\"\u001b[0m\u001b[1;33m)\u001b[0m\u001b[1;33m.\u001b[0m\u001b[0mshow\u001b[0m\u001b[1;33m(\u001b[0m\u001b[1;33m)\u001b[0m\u001b[1;33m\u001b[0m\u001b[1;33m\u001b[0m\u001b[0m\n\u001b[0m",
      "\u001b[1;32m~\\AppData\\Local\\Continuum\\anaconda3\\lib\\site-packages\\pyspark\\sql\\session.py\u001b[0m in \u001b[0;36msql\u001b[1;34m(self, sqlQuery)\u001b[0m\n\u001b[0;32m    765\u001b[0m         \u001b[1;33m[\u001b[0m\u001b[0mRow\u001b[0m\u001b[1;33m(\u001b[0m\u001b[0mf1\u001b[0m\u001b[1;33m=\u001b[0m\u001b[1;36m1\u001b[0m\u001b[1;33m,\u001b[0m \u001b[0mf2\u001b[0m\u001b[1;33m=\u001b[0m\u001b[1;34mu'row1'\u001b[0m\u001b[1;33m)\u001b[0m\u001b[1;33m,\u001b[0m \u001b[0mRow\u001b[0m\u001b[1;33m(\u001b[0m\u001b[0mf1\u001b[0m\u001b[1;33m=\u001b[0m\u001b[1;36m2\u001b[0m\u001b[1;33m,\u001b[0m \u001b[0mf2\u001b[0m\u001b[1;33m=\u001b[0m\u001b[1;34mu'row2'\u001b[0m\u001b[1;33m)\u001b[0m\u001b[1;33m,\u001b[0m \u001b[0mRow\u001b[0m\u001b[1;33m(\u001b[0m\u001b[0mf1\u001b[0m\u001b[1;33m=\u001b[0m\u001b[1;36m3\u001b[0m\u001b[1;33m,\u001b[0m \u001b[0mf2\u001b[0m\u001b[1;33m=\u001b[0m\u001b[1;34mu'row3'\u001b[0m\u001b[1;33m)\u001b[0m\u001b[1;33m]\u001b[0m\u001b[1;33m\u001b[0m\u001b[1;33m\u001b[0m\u001b[0m\n\u001b[0;32m    766\u001b[0m         \"\"\"\n\u001b[1;32m--> 767\u001b[1;33m         \u001b[1;32mreturn\u001b[0m \u001b[0mDataFrame\u001b[0m\u001b[1;33m(\u001b[0m\u001b[0mself\u001b[0m\u001b[1;33m.\u001b[0m\u001b[0m_jsparkSession\u001b[0m\u001b[1;33m.\u001b[0m\u001b[0msql\u001b[0m\u001b[1;33m(\u001b[0m\u001b[0msqlQuery\u001b[0m\u001b[1;33m)\u001b[0m\u001b[1;33m,\u001b[0m \u001b[0mself\u001b[0m\u001b[1;33m.\u001b[0m\u001b[0m_wrapped\u001b[0m\u001b[1;33m)\u001b[0m\u001b[1;33m\u001b[0m\u001b[1;33m\u001b[0m\u001b[0m\n\u001b[0m\u001b[0;32m    768\u001b[0m \u001b[1;33m\u001b[0m\u001b[0m\n\u001b[0;32m    769\u001b[0m     \u001b[1;33m@\u001b[0m\u001b[0msince\u001b[0m\u001b[1;33m(\u001b[0m\u001b[1;36m2.0\u001b[0m\u001b[1;33m)\u001b[0m\u001b[1;33m\u001b[0m\u001b[1;33m\u001b[0m\u001b[0m\n",
      "\u001b[1;32m~\\AppData\\Local\\Continuum\\anaconda3\\lib\\site-packages\\py4j\\java_gateway.py\u001b[0m in \u001b[0;36m__call__\u001b[1;34m(self, *args)\u001b[0m\n\u001b[0;32m   1255\u001b[0m         \u001b[0manswer\u001b[0m \u001b[1;33m=\u001b[0m \u001b[0mself\u001b[0m\u001b[1;33m.\u001b[0m\u001b[0mgateway_client\u001b[0m\u001b[1;33m.\u001b[0m\u001b[0msend_command\u001b[0m\u001b[1;33m(\u001b[0m\u001b[0mcommand\u001b[0m\u001b[1;33m)\u001b[0m\u001b[1;33m\u001b[0m\u001b[1;33m\u001b[0m\u001b[0m\n\u001b[0;32m   1256\u001b[0m         return_value = get_return_value(\n\u001b[1;32m-> 1257\u001b[1;33m             answer, self.gateway_client, self.target_id, self.name)\n\u001b[0m\u001b[0;32m   1258\u001b[0m \u001b[1;33m\u001b[0m\u001b[0m\n\u001b[0;32m   1259\u001b[0m         \u001b[1;32mfor\u001b[0m \u001b[0mtemp_arg\u001b[0m \u001b[1;32min\u001b[0m \u001b[0mtemp_args\u001b[0m\u001b[1;33m:\u001b[0m\u001b[1;33m\u001b[0m\u001b[1;33m\u001b[0m\u001b[0m\n",
      "\u001b[1;32m~\\AppData\\Local\\Continuum\\anaconda3\\lib\\site-packages\\pyspark\\sql\\utils.py\u001b[0m in \u001b[0;36mdeco\u001b[1;34m(*a, **kw)\u001b[0m\n\u001b[0;32m     71\u001b[0m                 \u001b[1;32mraise\u001b[0m \u001b[0mAnalysisException\u001b[0m\u001b[1;33m(\u001b[0m\u001b[0ms\u001b[0m\u001b[1;33m.\u001b[0m\u001b[0msplit\u001b[0m\u001b[1;33m(\u001b[0m\u001b[1;34m': '\u001b[0m\u001b[1;33m,\u001b[0m \u001b[1;36m1\u001b[0m\u001b[1;33m)\u001b[0m\u001b[1;33m[\u001b[0m\u001b[1;36m1\u001b[0m\u001b[1;33m]\u001b[0m\u001b[1;33m,\u001b[0m \u001b[0mstackTrace\u001b[0m\u001b[1;33m)\u001b[0m\u001b[1;33m\u001b[0m\u001b[1;33m\u001b[0m\u001b[0m\n\u001b[0;32m     72\u001b[0m             \u001b[1;32mif\u001b[0m \u001b[0ms\u001b[0m\u001b[1;33m.\u001b[0m\u001b[0mstartswith\u001b[0m\u001b[1;33m(\u001b[0m\u001b[1;34m'org.apache.spark.sql.catalyst.parser.ParseException: '\u001b[0m\u001b[1;33m)\u001b[0m\u001b[1;33m:\u001b[0m\u001b[1;33m\u001b[0m\u001b[1;33m\u001b[0m\u001b[0m\n\u001b[1;32m---> 73\u001b[1;33m                 \u001b[1;32mraise\u001b[0m \u001b[0mParseException\u001b[0m\u001b[1;33m(\u001b[0m\u001b[0ms\u001b[0m\u001b[1;33m.\u001b[0m\u001b[0msplit\u001b[0m\u001b[1;33m(\u001b[0m\u001b[1;34m': '\u001b[0m\u001b[1;33m,\u001b[0m \u001b[1;36m1\u001b[0m\u001b[1;33m)\u001b[0m\u001b[1;33m[\u001b[0m\u001b[1;36m1\u001b[0m\u001b[1;33m]\u001b[0m\u001b[1;33m,\u001b[0m \u001b[0mstackTrace\u001b[0m\u001b[1;33m)\u001b[0m\u001b[1;33m\u001b[0m\u001b[1;33m\u001b[0m\u001b[0m\n\u001b[0m\u001b[0;32m     74\u001b[0m             \u001b[1;32mif\u001b[0m \u001b[0ms\u001b[0m\u001b[1;33m.\u001b[0m\u001b[0mstartswith\u001b[0m\u001b[1;33m(\u001b[0m\u001b[1;34m'org.apache.spark.sql.streaming.StreamingQueryException: '\u001b[0m\u001b[1;33m)\u001b[0m\u001b[1;33m:\u001b[0m\u001b[1;33m\u001b[0m\u001b[1;33m\u001b[0m\u001b[0m\n\u001b[0;32m     75\u001b[0m                 \u001b[1;32mraise\u001b[0m \u001b[0mStreamingQueryException\u001b[0m\u001b[1;33m(\u001b[0m\u001b[0ms\u001b[0m\u001b[1;33m.\u001b[0m\u001b[0msplit\u001b[0m\u001b[1;33m(\u001b[0m\u001b[1;34m': '\u001b[0m\u001b[1;33m,\u001b[0m \u001b[1;36m1\u001b[0m\u001b[1;33m)\u001b[0m\u001b[1;33m[\u001b[0m\u001b[1;36m1\u001b[0m\u001b[1;33m]\u001b[0m\u001b[1;33m,\u001b[0m \u001b[0mstackTrace\u001b[0m\u001b[1;33m)\u001b[0m\u001b[1;33m\u001b[0m\u001b[1;33m\u001b[0m\u001b[0m\n",
      "\u001b[1;31mParseException\u001b[0m: '\\nextraneous input \\'\"KATEGORIE_2\"\\' expecting {\\'SELECT\\', \\'FROM\\', \\'ADD\\', \\'AS\\', \\'ALL\\', \\'ANY\\', \\'DISTINCT\\', \\'WHERE\\', \\'GROUP\\', \\'BY\\', \\'GROUPING\\', \\'SETS\\', \\'CUBE\\', \\'ROLLUP\\', \\'ORDER\\', \\'HAVING\\', \\'LIMIT\\', \\'AT\\', \\'OR\\', \\'AND\\', \\'IN\\', NOT, \\'NO\\', \\'EXISTS\\', \\'BETWEEN\\', \\'LIKE\\', RLIKE, \\'IS\\', \\'NULL\\', \\'TRUE\\', \\'FALSE\\', \\'NULLS\\', \\'ASC\\', \\'DESC\\', \\'FOR\\', \\'INTERVAL\\', \\'CASE\\', \\'WHEN\\', \\'THEN\\', \\'ELSE\\', \\'END\\', \\'JOIN\\', \\'CROSS\\', \\'OUTER\\', \\'INNER\\', \\'LEFT\\', \\'SEMI\\', \\'RIGHT\\', \\'FULL\\', \\'NATURAL\\', \\'ON\\', \\'PIVOT\\', \\'LATERAL\\', \\'WINDOW\\', \\'OVER\\', \\'PARTITION\\', \\'RANGE\\', \\'ROWS\\', \\'UNBOUNDED\\', \\'PRECEDING\\', \\'FOLLOWING\\', \\'CURRENT\\', \\'FIRST\\', \\'AFTER\\', \\'LAST\\', \\'ROW\\', \\'WITH\\', \\'VALUES\\', \\'CREATE\\', \\'TABLE\\', \\'DIRECTORY\\', \\'VIEW\\', \\'REPLACE\\', \\'INSERT\\', \\'DELETE\\', \\'INTO\\', \\'DESCRIBE\\', \\'EXPLAIN\\', \\'FORMAT\\', \\'LOGICAL\\', \\'CODEGEN\\', \\'COST\\', \\'CAST\\', \\'SHOW\\', \\'TABLES\\', \\'COLUMNS\\', \\'COLUMN\\', \\'USE\\', \\'PARTITIONS\\', \\'FUNCTIONS\\', \\'DROP\\', \\'UNION\\', \\'EXCEPT\\', \\'MINUS\\', \\'INTERSECT\\', \\'TO\\', \\'TABLESAMPLE\\', \\'STRATIFY\\', \\'ALTER\\', \\'RENAME\\', \\'ARRAY\\', \\'MAP\\', \\'STRUCT\\', \\'COMMENT\\', \\'SET\\', \\'RESET\\', \\'DATA\\', \\'START\\', \\'TRANSACTION\\', \\'COMMIT\\', \\'ROLLBACK\\', \\'MACRO\\', \\'IGNORE\\', \\'BOTH\\', \\'LEADING\\', \\'TRAILING\\', \\'IF\\', \\'POSITION\\', \\'EXTRACT\\', \\'DIV\\', \\'PERCENT\\', \\'BUCKET\\', \\'OUT\\', \\'OF\\', \\'SORT\\', \\'CLUSTER\\', \\'DISTRIBUTE\\', \\'OVERWRITE\\', \\'TRANSFORM\\', \\'REDUCE\\', \\'SERDE\\', \\'SERDEPROPERTIES\\', \\'RECORDREADER\\', \\'RECORDWRITER\\', \\'DELIMITED\\', \\'FIELDS\\', \\'TERMINATED\\', \\'COLLECTION\\', \\'ITEMS\\', \\'KEYS\\', \\'ESCAPED\\', \\'LINES\\', \\'SEPARATED\\', \\'FUNCTION\\', \\'EXTENDED\\', \\'REFRESH\\', \\'CLEAR\\', \\'CACHE\\', \\'UNCACHE\\', \\'LAZY\\', \\'FORMATTED\\', \\'GLOBAL\\', TEMPORARY, \\'OPTIONS\\', \\'UNSET\\', \\'TBLPROPERTIES\\', \\'DBPROPERTIES\\', \\'BUCKETS\\', \\'SKEWED\\', \\'STORED\\', \\'DIRECTORIES\\', \\'LOCATION\\', \\'EXCHANGE\\', \\'ARCHIVE\\', \\'UNARCHIVE\\', \\'FILEFORMAT\\', \\'TOUCH\\', \\'COMPACT\\', \\'CONCATENATE\\', \\'CHANGE\\', \\'CASCADE\\', \\'RESTRICT\\', \\'CLUSTERED\\', \\'SORTED\\', \\'PURGE\\', \\'INPUTFORMAT\\', \\'OUTPUTFORMAT\\', DATABASE, DATABASES, \\'DFS\\', \\'TRUNCATE\\', \\'ANALYZE\\', \\'COMPUTE\\', \\'LIST\\', \\'STATISTICS\\', \\'PARTITIONED\\', \\'EXTERNAL\\', \\'DEFINED\\', \\'REVOKE\\', \\'GRANT\\', \\'LOCK\\', \\'UNLOCK\\', \\'MSCK\\', \\'REPAIR\\', \\'RECOVER\\', \\'EXPORT\\', \\'IMPORT\\', \\'LOAD\\', \\'ROLE\\', \\'ROLES\\', \\'COMPACTIONS\\', \\'PRINCIPALS\\', \\'TRANSACTIONS\\', \\'INDEX\\', \\'INDEXES\\', \\'LOCKS\\', \\'OPTION\\', \\'ANTI\\', \\'LOCAL\\', \\'INPATH\\', IDENTIFIER, BACKQUOTED_IDENTIFIER}(line 1, pos 10)\\n\\n== SQL ==\\nSELECT T0.\"KATEGORIE_2\" AS \"CATEGORY_2\", T0.\"KATEGORIE_1\" AS \"CATEGORY_1\", T0.STIMMUNG AS SENTIMENT, T1.\"ERGEBNISSATZ_ID\" AS \"RESPONSE_ID\", T1.\"DATUM_ID\" AS \"DATE\", T1.\"ANTWORT_WERT\" AS TEXT FROM parquetFile2 T0, parquetFile T1 WHERE (((((T1.\"GRUPPE_ID\" = 170) OR (T1.\"GRUPPE_ID\" = 171)) AND (T1.\"UMFRAGE_KATEGORIE_ID\" = 1)) AND (T1.\"DATUM_ID\" >= TO_DATE(\\'2019-01-01 00:00:00\\', \\'YYYY-MM-DD HH24:MI:SS\\'))) AND NOT((T1.\"ANTWORT_WERT\" IS NULL))) AND (T0.\"KATEGORIE_1_ID\" = T1.\"KATEGORIE_1_ID\") AND (T0.\"KATEGORIE_2_ID\" = T1.\"KATEGORIE_2_ID\") AND (T0.\"STIMMUNG_ID\" = T1.\"STIMMUNG_ID\")\\n----------^^^\\n'"
     ]
    }
   ],
   "source": [
    "spark.sql(\"\"\"SELECT T0.\"KATEGORIE_2\" AS \"CATEGORY_2\", T0.\"KATEGORIE_1\" AS \"CATEGORY_1\", T0.STIMMUNG AS SENTIMENT, T1.\"ERGEBNISSATZ_ID\" AS \"RESPONSE_ID\", T1.\"DATUM_ID\" AS \"DATE\", T1.\"ANTWORT_WERT\" AS TEXT FROM parquetFile2 T0, parquetFile T1 WHERE (((((T1.\"GRUPPE_ID\" = 170) OR (T1.\"GRUPPE_ID\" = 171)) AND (T1.\"UMFRAGE_KATEGORIE_ID\" = 1)) AND (T1.\"DATUM_ID\" >= TO_DATE('2019-01-01 00:00:00', 'YYYY-MM-DD HH24:MI:SS'))) AND NOT((T1.\"ANTWORT_WERT\" IS NULL))) AND (T0.\"KATEGORIE_1_ID\" = T1.\"KATEGORIE_1_ID\") AND (T0.\"KATEGORIE_2_ID\" = T1.\"KATEGORIE_2_ID\") AND (T0.\"STIMMUNG_ID\" = T1.\"STIMMUNG_ID\")\"\"\").show()"
   ]
  },
  {
   "cell_type": "code",
   "execution_count": 57,
   "metadata": {},
   "outputs": [
    {
     "ename": "ParseException",
     "evalue": "'\\nextraneous input \\'\"KATEGORIE_2\"\\' expecting {\\'SELECT\\', \\'FROM\\', \\'ADD\\', \\'AS\\', \\'ALL\\', \\'ANY\\', \\'DISTINCT\\', \\'WHERE\\', \\'GROUP\\', \\'BY\\', \\'GROUPING\\', \\'SETS\\', \\'CUBE\\', \\'ROLLUP\\', \\'ORDER\\', \\'HAVING\\', \\'LIMIT\\', \\'AT\\', \\'OR\\', \\'AND\\', \\'IN\\', NOT, \\'NO\\', \\'EXISTS\\', \\'BETWEEN\\', \\'LIKE\\', RLIKE, \\'IS\\', \\'NULL\\', \\'TRUE\\', \\'FALSE\\', \\'NULLS\\', \\'ASC\\', \\'DESC\\', \\'FOR\\', \\'INTERVAL\\', \\'CASE\\', \\'WHEN\\', \\'THEN\\', \\'ELSE\\', \\'END\\', \\'JOIN\\', \\'CROSS\\', \\'OUTER\\', \\'INNER\\', \\'LEFT\\', \\'SEMI\\', \\'RIGHT\\', \\'FULL\\', \\'NATURAL\\', \\'ON\\', \\'PIVOT\\', \\'LATERAL\\', \\'WINDOW\\', \\'OVER\\', \\'PARTITION\\', \\'RANGE\\', \\'ROWS\\', \\'UNBOUNDED\\', \\'PRECEDING\\', \\'FOLLOWING\\', \\'CURRENT\\', \\'FIRST\\', \\'AFTER\\', \\'LAST\\', \\'ROW\\', \\'WITH\\', \\'VALUES\\', \\'CREATE\\', \\'TABLE\\', \\'DIRECTORY\\', \\'VIEW\\', \\'REPLACE\\', \\'INSERT\\', \\'DELETE\\', \\'INTO\\', \\'DESCRIBE\\', \\'EXPLAIN\\', \\'FORMAT\\', \\'LOGICAL\\', \\'CODEGEN\\', \\'COST\\', \\'CAST\\', \\'SHOW\\', \\'TABLES\\', \\'COLUMNS\\', \\'COLUMN\\', \\'USE\\', \\'PARTITIONS\\', \\'FUNCTIONS\\', \\'DROP\\', \\'UNION\\', \\'EXCEPT\\', \\'MINUS\\', \\'INTERSECT\\', \\'TO\\', \\'TABLESAMPLE\\', \\'STRATIFY\\', \\'ALTER\\', \\'RENAME\\', \\'ARRAY\\', \\'MAP\\', \\'STRUCT\\', \\'COMMENT\\', \\'SET\\', \\'RESET\\', \\'DATA\\', \\'START\\', \\'TRANSACTION\\', \\'COMMIT\\', \\'ROLLBACK\\', \\'MACRO\\', \\'IGNORE\\', \\'BOTH\\', \\'LEADING\\', \\'TRAILING\\', \\'IF\\', \\'POSITION\\', \\'EXTRACT\\', \\'DIV\\', \\'PERCENT\\', \\'BUCKET\\', \\'OUT\\', \\'OF\\', \\'SORT\\', \\'CLUSTER\\', \\'DISTRIBUTE\\', \\'OVERWRITE\\', \\'TRANSFORM\\', \\'REDUCE\\', \\'SERDE\\', \\'SERDEPROPERTIES\\', \\'RECORDREADER\\', \\'RECORDWRITER\\', \\'DELIMITED\\', \\'FIELDS\\', \\'TERMINATED\\', \\'COLLECTION\\', \\'ITEMS\\', \\'KEYS\\', \\'ESCAPED\\', \\'LINES\\', \\'SEPARATED\\', \\'FUNCTION\\', \\'EXTENDED\\', \\'REFRESH\\', \\'CLEAR\\', \\'CACHE\\', \\'UNCACHE\\', \\'LAZY\\', \\'FORMATTED\\', \\'GLOBAL\\', TEMPORARY, \\'OPTIONS\\', \\'UNSET\\', \\'TBLPROPERTIES\\', \\'DBPROPERTIES\\', \\'BUCKETS\\', \\'SKEWED\\', \\'STORED\\', \\'DIRECTORIES\\', \\'LOCATION\\', \\'EXCHANGE\\', \\'ARCHIVE\\', \\'UNARCHIVE\\', \\'FILEFORMAT\\', \\'TOUCH\\', \\'COMPACT\\', \\'CONCATENATE\\', \\'CHANGE\\', \\'CASCADE\\', \\'RESTRICT\\', \\'CLUSTERED\\', \\'SORTED\\', \\'PURGE\\', \\'INPUTFORMAT\\', \\'OUTPUTFORMAT\\', DATABASE, DATABASES, \\'DFS\\', \\'TRUNCATE\\', \\'ANALYZE\\', \\'COMPUTE\\', \\'LIST\\', \\'STATISTICS\\', \\'PARTITIONED\\', \\'EXTERNAL\\', \\'DEFINED\\', \\'REVOKE\\', \\'GRANT\\', \\'LOCK\\', \\'UNLOCK\\', \\'MSCK\\', \\'REPAIR\\', \\'RECOVER\\', \\'EXPORT\\', \\'IMPORT\\', \\'LOAD\\', \\'ROLE\\', \\'ROLES\\', \\'COMPACTIONS\\', \\'PRINCIPALS\\', \\'TRANSACTIONS\\', \\'INDEX\\', \\'INDEXES\\', \\'LOCKS\\', \\'OPTION\\', \\'ANTI\\', \\'LOCAL\\', \\'INPATH\\', IDENTIFIER, BACKQUOTED_IDENTIFIER}(line 2, pos 7)\\n\\n== SQL ==\\nSELECT\\n    T0.\"KATEGORIE_2\"     AS \"CATEGORY_2\",\\n-------^^^\\n    T0.\"KATEGORIE_1\"     AS \"CATEGORY_1\",\\n    T0.STIMMUNG          AS SENTIMENT,\\n    T1.\"ERGEBNISSATZ_ID\" AS \"RESPONSE_ID\",\\n    T1.\"DATUM_ID\"        AS \"DATE\",\\n    T1.\"ANTWORT_WERT\"    AS TEXT\\nFROM\\n    \"parquetFile2\" T0,\\n    \"parquetFile\" T1\\nWHERE\\n    (((((\\n                        T1.\"GRUPPE_ID\" = 170)\\n                OR  (\\n                        T1.\"GRUPPE_ID\" = 171))\\n            AND (\\n                    T1.\"UMFRAGE_KATEGORIE_ID\" = 1))\\n        AND (\\n                T1.\"DATUM_ID\" >= TO_DATE(\\'2019-01-01 00:00:00\\', \\'YYYY-MM-DD HH24:MI:SS\\')))\\n    AND NOT((\\n                T1.\"ANTWORT_WERT\" IS NULL)))\\nAND (\\n        T0.\"KATEGORIE_1_ID\" = T1.\"KATEGORIE_1_ID\")\\nAND (\\n        T0.\"KATEGORIE_2_ID\" = T1.\"KATEGORIE_2_ID\")\\nAND (\\n        T0.\"STIMMUNG_ID\" = T1.\"STIMMUNG_ID\")\\n'",
     "output_type": "error",
     "traceback": [
      "\u001b[1;31m---------------------------------------------------------------------------\u001b[0m",
      "\u001b[1;31mPy4JJavaError\u001b[0m                             Traceback (most recent call last)",
      "\u001b[1;32m~\\AppData\\Local\\Continuum\\anaconda3\\lib\\site-packages\\pyspark\\sql\\utils.py\u001b[0m in \u001b[0;36mdeco\u001b[1;34m(*a, **kw)\u001b[0m\n\u001b[0;32m     62\u001b[0m         \u001b[1;32mtry\u001b[0m\u001b[1;33m:\u001b[0m\u001b[1;33m\u001b[0m\u001b[1;33m\u001b[0m\u001b[0m\n\u001b[1;32m---> 63\u001b[1;33m             \u001b[1;32mreturn\u001b[0m \u001b[0mf\u001b[0m\u001b[1;33m(\u001b[0m\u001b[1;33m*\u001b[0m\u001b[0ma\u001b[0m\u001b[1;33m,\u001b[0m \u001b[1;33m**\u001b[0m\u001b[0mkw\u001b[0m\u001b[1;33m)\u001b[0m\u001b[1;33m\u001b[0m\u001b[1;33m\u001b[0m\u001b[0m\n\u001b[0m\u001b[0;32m     64\u001b[0m         \u001b[1;32mexcept\u001b[0m \u001b[0mpy4j\u001b[0m\u001b[1;33m.\u001b[0m\u001b[0mprotocol\u001b[0m\u001b[1;33m.\u001b[0m\u001b[0mPy4JJavaError\u001b[0m \u001b[1;32mas\u001b[0m \u001b[0me\u001b[0m\u001b[1;33m:\u001b[0m\u001b[1;33m\u001b[0m\u001b[1;33m\u001b[0m\u001b[0m\n",
      "\u001b[1;32m~\\AppData\\Local\\Continuum\\anaconda3\\lib\\site-packages\\py4j\\protocol.py\u001b[0m in \u001b[0;36mget_return_value\u001b[1;34m(answer, gateway_client, target_id, name)\u001b[0m\n\u001b[0;32m    327\u001b[0m                     \u001b[1;34m\"An error occurred while calling {0}{1}{2}.\\n\"\u001b[0m\u001b[1;33m.\u001b[0m\u001b[1;33m\u001b[0m\u001b[1;33m\u001b[0m\u001b[0m\n\u001b[1;32m--> 328\u001b[1;33m                     format(target_id, \".\", name), value)\n\u001b[0m\u001b[0;32m    329\u001b[0m             \u001b[1;32melse\u001b[0m\u001b[1;33m:\u001b[0m\u001b[1;33m\u001b[0m\u001b[1;33m\u001b[0m\u001b[0m\n",
      "\u001b[1;31mPy4JJavaError\u001b[0m: An error occurred while calling o21.sql.\n: org.apache.spark.sql.catalyst.parser.ParseException: \nextraneous input '\"KATEGORIE_2\"' expecting {'SELECT', 'FROM', 'ADD', 'AS', 'ALL', 'ANY', 'DISTINCT', 'WHERE', 'GROUP', 'BY', 'GROUPING', 'SETS', 'CUBE', 'ROLLUP', 'ORDER', 'HAVING', 'LIMIT', 'AT', 'OR', 'AND', 'IN', NOT, 'NO', 'EXISTS', 'BETWEEN', 'LIKE', RLIKE, 'IS', 'NULL', 'TRUE', 'FALSE', 'NULLS', 'ASC', 'DESC', 'FOR', 'INTERVAL', 'CASE', 'WHEN', 'THEN', 'ELSE', 'END', 'JOIN', 'CROSS', 'OUTER', 'INNER', 'LEFT', 'SEMI', 'RIGHT', 'FULL', 'NATURAL', 'ON', 'PIVOT', 'LATERAL', 'WINDOW', 'OVER', 'PARTITION', 'RANGE', 'ROWS', 'UNBOUNDED', 'PRECEDING', 'FOLLOWING', 'CURRENT', 'FIRST', 'AFTER', 'LAST', 'ROW', 'WITH', 'VALUES', 'CREATE', 'TABLE', 'DIRECTORY', 'VIEW', 'REPLACE', 'INSERT', 'DELETE', 'INTO', 'DESCRIBE', 'EXPLAIN', 'FORMAT', 'LOGICAL', 'CODEGEN', 'COST', 'CAST', 'SHOW', 'TABLES', 'COLUMNS', 'COLUMN', 'USE', 'PARTITIONS', 'FUNCTIONS', 'DROP', 'UNION', 'EXCEPT', 'MINUS', 'INTERSECT', 'TO', 'TABLESAMPLE', 'STRATIFY', 'ALTER', 'RENAME', 'ARRAY', 'MAP', 'STRUCT', 'COMMENT', 'SET', 'RESET', 'DATA', 'START', 'TRANSACTION', 'COMMIT', 'ROLLBACK', 'MACRO', 'IGNORE', 'BOTH', 'LEADING', 'TRAILING', 'IF', 'POSITION', 'EXTRACT', 'DIV', 'PERCENT', 'BUCKET', 'OUT', 'OF', 'SORT', 'CLUSTER', 'DISTRIBUTE', 'OVERWRITE', 'TRANSFORM', 'REDUCE', 'SERDE', 'SERDEPROPERTIES', 'RECORDREADER', 'RECORDWRITER', 'DELIMITED', 'FIELDS', 'TERMINATED', 'COLLECTION', 'ITEMS', 'KEYS', 'ESCAPED', 'LINES', 'SEPARATED', 'FUNCTION', 'EXTENDED', 'REFRESH', 'CLEAR', 'CACHE', 'UNCACHE', 'LAZY', 'FORMATTED', 'GLOBAL', TEMPORARY, 'OPTIONS', 'UNSET', 'TBLPROPERTIES', 'DBPROPERTIES', 'BUCKETS', 'SKEWED', 'STORED', 'DIRECTORIES', 'LOCATION', 'EXCHANGE', 'ARCHIVE', 'UNARCHIVE', 'FILEFORMAT', 'TOUCH', 'COMPACT', 'CONCATENATE', 'CHANGE', 'CASCADE', 'RESTRICT', 'CLUSTERED', 'SORTED', 'PURGE', 'INPUTFORMAT', 'OUTPUTFORMAT', DATABASE, DATABASES, 'DFS', 'TRUNCATE', 'ANALYZE', 'COMPUTE', 'LIST', 'STATISTICS', 'PARTITIONED', 'EXTERNAL', 'DEFINED', 'REVOKE', 'GRANT', 'LOCK', 'UNLOCK', 'MSCK', 'REPAIR', 'RECOVER', 'EXPORT', 'IMPORT', 'LOAD', 'ROLE', 'ROLES', 'COMPACTIONS', 'PRINCIPALS', 'TRANSACTIONS', 'INDEX', 'INDEXES', 'LOCKS', 'OPTION', 'ANTI', 'LOCAL', 'INPATH', IDENTIFIER, BACKQUOTED_IDENTIFIER}(line 2, pos 7)\n\n== SQL ==\nSELECT\n    T0.\"KATEGORIE_2\"     AS \"CATEGORY_2\",\n-------^^^\n    T0.\"KATEGORIE_1\"     AS \"CATEGORY_1\",\n    T0.STIMMUNG          AS SENTIMENT,\n    T1.\"ERGEBNISSATZ_ID\" AS \"RESPONSE_ID\",\n    T1.\"DATUM_ID\"        AS \"DATE\",\n    T1.\"ANTWORT_WERT\"    AS TEXT\nFROM\n    \"parquetFile2\" T0,\n    \"parquetFile\" T1\nWHERE\n    (((((\n                        T1.\"GRUPPE_ID\" = 170)\n                OR  (\n                        T1.\"GRUPPE_ID\" = 171))\n            AND (\n                    T1.\"UMFRAGE_KATEGORIE_ID\" = 1))\n        AND (\n                T1.\"DATUM_ID\" >= TO_DATE('2019-01-01 00:00:00', 'YYYY-MM-DD HH24:MI:SS')))\n    AND NOT((\n                T1.\"ANTWORT_WERT\" IS NULL)))\nAND (\n        T0.\"KATEGORIE_1_ID\" = T1.\"KATEGORIE_1_ID\")\nAND (\n        T0.\"KATEGORIE_2_ID\" = T1.\"KATEGORIE_2_ID\")\nAND (\n        T0.\"STIMMUNG_ID\" = T1.\"STIMMUNG_ID\")\n\r\n\tat org.apache.spark.sql.catalyst.parser.ParseException.withCommand(ParseDriver.scala:241)\r\n\tat org.apache.spark.sql.catalyst.parser.AbstractSqlParser.parse(ParseDriver.scala:117)\r\n\tat org.apache.spark.sql.execution.SparkSqlParser.parse(SparkSqlParser.scala:48)\r\n\tat org.apache.spark.sql.catalyst.parser.AbstractSqlParser.parsePlan(ParseDriver.scala:69)\r\n\tat org.apache.spark.sql.SparkSession.sql(SparkSession.scala:642)\r\n\tat sun.reflect.GeneratedMethodAccessor45.invoke(Unknown Source)\r\n\tat sun.reflect.DelegatingMethodAccessorImpl.invoke(Unknown Source)\r\n\tat java.lang.reflect.Method.invoke(Unknown Source)\r\n\tat py4j.reflection.MethodInvoker.invoke(MethodInvoker.java:244)\r\n\tat py4j.reflection.ReflectionEngine.invoke(ReflectionEngine.java:357)\r\n\tat py4j.Gateway.invoke(Gateway.java:282)\r\n\tat py4j.commands.AbstractCommand.invokeMethod(AbstractCommand.java:132)\r\n\tat py4j.commands.CallCommand.execute(CallCommand.java:79)\r\n\tat py4j.GatewayConnection.run(GatewayConnection.java:238)\r\n\tat java.lang.Thread.run(Unknown Source)\r\n",
      "\nDuring handling of the above exception, another exception occurred:\n",
      "\u001b[1;31mParseException\u001b[0m                            Traceback (most recent call last)",
      "\u001b[1;32m<ipython-input-57-41109a4fbe09>\u001b[0m in \u001b[0;36m<module>\u001b[1;34m\u001b[0m\n\u001b[0;32m     26\u001b[0m AND (\n\u001b[0;32m     27\u001b[0m         T0.\"STIMMUNG_ID\" = T1.\"STIMMUNG_ID\")\n\u001b[1;32m---> 28\u001b[1;33m \"\"\")\n\u001b[0m",
      "\u001b[1;32m~\\AppData\\Local\\Continuum\\anaconda3\\lib\\site-packages\\pyspark\\sql\\session.py\u001b[0m in \u001b[0;36msql\u001b[1;34m(self, sqlQuery)\u001b[0m\n\u001b[0;32m    765\u001b[0m         \u001b[1;33m[\u001b[0m\u001b[0mRow\u001b[0m\u001b[1;33m(\u001b[0m\u001b[0mf1\u001b[0m\u001b[1;33m=\u001b[0m\u001b[1;36m1\u001b[0m\u001b[1;33m,\u001b[0m \u001b[0mf2\u001b[0m\u001b[1;33m=\u001b[0m\u001b[1;34mu'row1'\u001b[0m\u001b[1;33m)\u001b[0m\u001b[1;33m,\u001b[0m \u001b[0mRow\u001b[0m\u001b[1;33m(\u001b[0m\u001b[0mf1\u001b[0m\u001b[1;33m=\u001b[0m\u001b[1;36m2\u001b[0m\u001b[1;33m,\u001b[0m \u001b[0mf2\u001b[0m\u001b[1;33m=\u001b[0m\u001b[1;34mu'row2'\u001b[0m\u001b[1;33m)\u001b[0m\u001b[1;33m,\u001b[0m \u001b[0mRow\u001b[0m\u001b[1;33m(\u001b[0m\u001b[0mf1\u001b[0m\u001b[1;33m=\u001b[0m\u001b[1;36m3\u001b[0m\u001b[1;33m,\u001b[0m \u001b[0mf2\u001b[0m\u001b[1;33m=\u001b[0m\u001b[1;34mu'row3'\u001b[0m\u001b[1;33m)\u001b[0m\u001b[1;33m]\u001b[0m\u001b[1;33m\u001b[0m\u001b[1;33m\u001b[0m\u001b[0m\n\u001b[0;32m    766\u001b[0m         \"\"\"\n\u001b[1;32m--> 767\u001b[1;33m         \u001b[1;32mreturn\u001b[0m \u001b[0mDataFrame\u001b[0m\u001b[1;33m(\u001b[0m\u001b[0mself\u001b[0m\u001b[1;33m.\u001b[0m\u001b[0m_jsparkSession\u001b[0m\u001b[1;33m.\u001b[0m\u001b[0msql\u001b[0m\u001b[1;33m(\u001b[0m\u001b[0msqlQuery\u001b[0m\u001b[1;33m)\u001b[0m\u001b[1;33m,\u001b[0m \u001b[0mself\u001b[0m\u001b[1;33m.\u001b[0m\u001b[0m_wrapped\u001b[0m\u001b[1;33m)\u001b[0m\u001b[1;33m\u001b[0m\u001b[1;33m\u001b[0m\u001b[0m\n\u001b[0m\u001b[0;32m    768\u001b[0m \u001b[1;33m\u001b[0m\u001b[0m\n\u001b[0;32m    769\u001b[0m     \u001b[1;33m@\u001b[0m\u001b[0msince\u001b[0m\u001b[1;33m(\u001b[0m\u001b[1;36m2.0\u001b[0m\u001b[1;33m)\u001b[0m\u001b[1;33m\u001b[0m\u001b[1;33m\u001b[0m\u001b[0m\n",
      "\u001b[1;32m~\\AppData\\Local\\Continuum\\anaconda3\\lib\\site-packages\\py4j\\java_gateway.py\u001b[0m in \u001b[0;36m__call__\u001b[1;34m(self, *args)\u001b[0m\n\u001b[0;32m   1255\u001b[0m         \u001b[0manswer\u001b[0m \u001b[1;33m=\u001b[0m \u001b[0mself\u001b[0m\u001b[1;33m.\u001b[0m\u001b[0mgateway_client\u001b[0m\u001b[1;33m.\u001b[0m\u001b[0msend_command\u001b[0m\u001b[1;33m(\u001b[0m\u001b[0mcommand\u001b[0m\u001b[1;33m)\u001b[0m\u001b[1;33m\u001b[0m\u001b[1;33m\u001b[0m\u001b[0m\n\u001b[0;32m   1256\u001b[0m         return_value = get_return_value(\n\u001b[1;32m-> 1257\u001b[1;33m             answer, self.gateway_client, self.target_id, self.name)\n\u001b[0m\u001b[0;32m   1258\u001b[0m \u001b[1;33m\u001b[0m\u001b[0m\n\u001b[0;32m   1259\u001b[0m         \u001b[1;32mfor\u001b[0m \u001b[0mtemp_arg\u001b[0m \u001b[1;32min\u001b[0m \u001b[0mtemp_args\u001b[0m\u001b[1;33m:\u001b[0m\u001b[1;33m\u001b[0m\u001b[1;33m\u001b[0m\u001b[0m\n",
      "\u001b[1;32m~\\AppData\\Local\\Continuum\\anaconda3\\lib\\site-packages\\pyspark\\sql\\utils.py\u001b[0m in \u001b[0;36mdeco\u001b[1;34m(*a, **kw)\u001b[0m\n\u001b[0;32m     71\u001b[0m                 \u001b[1;32mraise\u001b[0m \u001b[0mAnalysisException\u001b[0m\u001b[1;33m(\u001b[0m\u001b[0ms\u001b[0m\u001b[1;33m.\u001b[0m\u001b[0msplit\u001b[0m\u001b[1;33m(\u001b[0m\u001b[1;34m': '\u001b[0m\u001b[1;33m,\u001b[0m \u001b[1;36m1\u001b[0m\u001b[1;33m)\u001b[0m\u001b[1;33m[\u001b[0m\u001b[1;36m1\u001b[0m\u001b[1;33m]\u001b[0m\u001b[1;33m,\u001b[0m \u001b[0mstackTrace\u001b[0m\u001b[1;33m)\u001b[0m\u001b[1;33m\u001b[0m\u001b[1;33m\u001b[0m\u001b[0m\n\u001b[0;32m     72\u001b[0m             \u001b[1;32mif\u001b[0m \u001b[0ms\u001b[0m\u001b[1;33m.\u001b[0m\u001b[0mstartswith\u001b[0m\u001b[1;33m(\u001b[0m\u001b[1;34m'org.apache.spark.sql.catalyst.parser.ParseException: '\u001b[0m\u001b[1;33m)\u001b[0m\u001b[1;33m:\u001b[0m\u001b[1;33m\u001b[0m\u001b[1;33m\u001b[0m\u001b[0m\n\u001b[1;32m---> 73\u001b[1;33m                 \u001b[1;32mraise\u001b[0m \u001b[0mParseException\u001b[0m\u001b[1;33m(\u001b[0m\u001b[0ms\u001b[0m\u001b[1;33m.\u001b[0m\u001b[0msplit\u001b[0m\u001b[1;33m(\u001b[0m\u001b[1;34m': '\u001b[0m\u001b[1;33m,\u001b[0m \u001b[1;36m1\u001b[0m\u001b[1;33m)\u001b[0m\u001b[1;33m[\u001b[0m\u001b[1;36m1\u001b[0m\u001b[1;33m]\u001b[0m\u001b[1;33m,\u001b[0m \u001b[0mstackTrace\u001b[0m\u001b[1;33m)\u001b[0m\u001b[1;33m\u001b[0m\u001b[1;33m\u001b[0m\u001b[0m\n\u001b[0m\u001b[0;32m     74\u001b[0m             \u001b[1;32mif\u001b[0m \u001b[0ms\u001b[0m\u001b[1;33m.\u001b[0m\u001b[0mstartswith\u001b[0m\u001b[1;33m(\u001b[0m\u001b[1;34m'org.apache.spark.sql.streaming.StreamingQueryException: '\u001b[0m\u001b[1;33m)\u001b[0m\u001b[1;33m:\u001b[0m\u001b[1;33m\u001b[0m\u001b[1;33m\u001b[0m\u001b[0m\n\u001b[0;32m     75\u001b[0m                 \u001b[1;32mraise\u001b[0m \u001b[0mStreamingQueryException\u001b[0m\u001b[1;33m(\u001b[0m\u001b[0ms\u001b[0m\u001b[1;33m.\u001b[0m\u001b[0msplit\u001b[0m\u001b[1;33m(\u001b[0m\u001b[1;34m': '\u001b[0m\u001b[1;33m,\u001b[0m \u001b[1;36m1\u001b[0m\u001b[1;33m)\u001b[0m\u001b[1;33m[\u001b[0m\u001b[1;36m1\u001b[0m\u001b[1;33m]\u001b[0m\u001b[1;33m,\u001b[0m \u001b[0mstackTrace\u001b[0m\u001b[1;33m)\u001b[0m\u001b[1;33m\u001b[0m\u001b[1;33m\u001b[0m\u001b[0m\n",
      "\u001b[1;31mParseException\u001b[0m: '\\nextraneous input \\'\"KATEGORIE_2\"\\' expecting {\\'SELECT\\', \\'FROM\\', \\'ADD\\', \\'AS\\', \\'ALL\\', \\'ANY\\', \\'DISTINCT\\', \\'WHERE\\', \\'GROUP\\', \\'BY\\', \\'GROUPING\\', \\'SETS\\', \\'CUBE\\', \\'ROLLUP\\', \\'ORDER\\', \\'HAVING\\', \\'LIMIT\\', \\'AT\\', \\'OR\\', \\'AND\\', \\'IN\\', NOT, \\'NO\\', \\'EXISTS\\', \\'BETWEEN\\', \\'LIKE\\', RLIKE, \\'IS\\', \\'NULL\\', \\'TRUE\\', \\'FALSE\\', \\'NULLS\\', \\'ASC\\', \\'DESC\\', \\'FOR\\', \\'INTERVAL\\', \\'CASE\\', \\'WHEN\\', \\'THEN\\', \\'ELSE\\', \\'END\\', \\'JOIN\\', \\'CROSS\\', \\'OUTER\\', \\'INNER\\', \\'LEFT\\', \\'SEMI\\', \\'RIGHT\\', \\'FULL\\', \\'NATURAL\\', \\'ON\\', \\'PIVOT\\', \\'LATERAL\\', \\'WINDOW\\', \\'OVER\\', \\'PARTITION\\', \\'RANGE\\', \\'ROWS\\', \\'UNBOUNDED\\', \\'PRECEDING\\', \\'FOLLOWING\\', \\'CURRENT\\', \\'FIRST\\', \\'AFTER\\', \\'LAST\\', \\'ROW\\', \\'WITH\\', \\'VALUES\\', \\'CREATE\\', \\'TABLE\\', \\'DIRECTORY\\', \\'VIEW\\', \\'REPLACE\\', \\'INSERT\\', \\'DELETE\\', \\'INTO\\', \\'DESCRIBE\\', \\'EXPLAIN\\', \\'FORMAT\\', \\'LOGICAL\\', \\'CODEGEN\\', \\'COST\\', \\'CAST\\', \\'SHOW\\', \\'TABLES\\', \\'COLUMNS\\', \\'COLUMN\\', \\'USE\\', \\'PARTITIONS\\', \\'FUNCTIONS\\', \\'DROP\\', \\'UNION\\', \\'EXCEPT\\', \\'MINUS\\', \\'INTERSECT\\', \\'TO\\', \\'TABLESAMPLE\\', \\'STRATIFY\\', \\'ALTER\\', \\'RENAME\\', \\'ARRAY\\', \\'MAP\\', \\'STRUCT\\', \\'COMMENT\\', \\'SET\\', \\'RESET\\', \\'DATA\\', \\'START\\', \\'TRANSACTION\\', \\'COMMIT\\', \\'ROLLBACK\\', \\'MACRO\\', \\'IGNORE\\', \\'BOTH\\', \\'LEADING\\', \\'TRAILING\\', \\'IF\\', \\'POSITION\\', \\'EXTRACT\\', \\'DIV\\', \\'PERCENT\\', \\'BUCKET\\', \\'OUT\\', \\'OF\\', \\'SORT\\', \\'CLUSTER\\', \\'DISTRIBUTE\\', \\'OVERWRITE\\', \\'TRANSFORM\\', \\'REDUCE\\', \\'SERDE\\', \\'SERDEPROPERTIES\\', \\'RECORDREADER\\', \\'RECORDWRITER\\', \\'DELIMITED\\', \\'FIELDS\\', \\'TERMINATED\\', \\'COLLECTION\\', \\'ITEMS\\', \\'KEYS\\', \\'ESCAPED\\', \\'LINES\\', \\'SEPARATED\\', \\'FUNCTION\\', \\'EXTENDED\\', \\'REFRESH\\', \\'CLEAR\\', \\'CACHE\\', \\'UNCACHE\\', \\'LAZY\\', \\'FORMATTED\\', \\'GLOBAL\\', TEMPORARY, \\'OPTIONS\\', \\'UNSET\\', \\'TBLPROPERTIES\\', \\'DBPROPERTIES\\', \\'BUCKETS\\', \\'SKEWED\\', \\'STORED\\', \\'DIRECTORIES\\', \\'LOCATION\\', \\'EXCHANGE\\', \\'ARCHIVE\\', \\'UNARCHIVE\\', \\'FILEFORMAT\\', \\'TOUCH\\', \\'COMPACT\\', \\'CONCATENATE\\', \\'CHANGE\\', \\'CASCADE\\', \\'RESTRICT\\', \\'CLUSTERED\\', \\'SORTED\\', \\'PURGE\\', \\'INPUTFORMAT\\', \\'OUTPUTFORMAT\\', DATABASE, DATABASES, \\'DFS\\', \\'TRUNCATE\\', \\'ANALYZE\\', \\'COMPUTE\\', \\'LIST\\', \\'STATISTICS\\', \\'PARTITIONED\\', \\'EXTERNAL\\', \\'DEFINED\\', \\'REVOKE\\', \\'GRANT\\', \\'LOCK\\', \\'UNLOCK\\', \\'MSCK\\', \\'REPAIR\\', \\'RECOVER\\', \\'EXPORT\\', \\'IMPORT\\', \\'LOAD\\', \\'ROLE\\', \\'ROLES\\', \\'COMPACTIONS\\', \\'PRINCIPALS\\', \\'TRANSACTIONS\\', \\'INDEX\\', \\'INDEXES\\', \\'LOCKS\\', \\'OPTION\\', \\'ANTI\\', \\'LOCAL\\', \\'INPATH\\', IDENTIFIER, BACKQUOTED_IDENTIFIER}(line 2, pos 7)\\n\\n== SQL ==\\nSELECT\\n    T0.\"KATEGORIE_2\"     AS \"CATEGORY_2\",\\n-------^^^\\n    T0.\"KATEGORIE_1\"     AS \"CATEGORY_1\",\\n    T0.STIMMUNG          AS SENTIMENT,\\n    T1.\"ERGEBNISSATZ_ID\" AS \"RESPONSE_ID\",\\n    T1.\"DATUM_ID\"        AS \"DATE\",\\n    T1.\"ANTWORT_WERT\"    AS TEXT\\nFROM\\n    \"parquetFile2\" T0,\\n    \"parquetFile\" T1\\nWHERE\\n    (((((\\n                        T1.\"GRUPPE_ID\" = 170)\\n                OR  (\\n                        T1.\"GRUPPE_ID\" = 171))\\n            AND (\\n                    T1.\"UMFRAGE_KATEGORIE_ID\" = 1))\\n        AND (\\n                T1.\"DATUM_ID\" >= TO_DATE(\\'2019-01-01 00:00:00\\', \\'YYYY-MM-DD HH24:MI:SS\\')))\\n    AND NOT((\\n                T1.\"ANTWORT_WERT\" IS NULL)))\\nAND (\\n        T0.\"KATEGORIE_1_ID\" = T1.\"KATEGORIE_1_ID\")\\nAND (\\n        T0.\"KATEGORIE_2_ID\" = T1.\"KATEGORIE_2_ID\")\\nAND (\\n        T0.\"STIMMUNG_ID\" = T1.\"STIMMUNG_ID\")\\n'"
     ]
    }
   ],
   "source": [
    "spark.sql(\"\"\"SELECT\n",
    "    T0.\"KATEGORIE_2\"     AS \"CATEGORY_2\",\n",
    "    T0.\"KATEGORIE_1\"     AS \"CATEGORY_1\",\n",
    "    T0.STIMMUNG          AS SENTIMENT,\n",
    "    T1.\"ERGEBNISSATZ_ID\" AS \"RESPONSE_ID\",\n",
    "    T1.\"DATUM_ID\"        AS \"DATE\",\n",
    "    T1.\"ANTWORT_WERT\"    AS TEXT\n",
    "FROM\n",
    "    \"parquetFile2\" T0,\n",
    "    \"parquetFile\" T1\n",
    "WHERE\n",
    "    (((((\n",
    "                        T1.\"GRUPPE_ID\" = 170)\n",
    "                OR  (\n",
    "                        T1.\"GRUPPE_ID\" = 171))\n",
    "            AND (\n",
    "                    T1.\"UMFRAGE_KATEGORIE_ID\" = 1))\n",
    "        AND (\n",
    "                T1.\"DATUM_ID\" >= TO_DATE('2019-01-01 00:00:00', 'YYYY-MM-DD HH24:MI:SS')))\n",
    "    AND NOT((\n",
    "                T1.\"ANTWORT_WERT\" IS NULL)))\n",
    "AND (\n",
    "        T0.\"KATEGORIE_1_ID\" = T1.\"KATEGORIE_1_ID\")\n",
    "AND (\n",
    "        T0.\"KATEGORIE_2_ID\" = T1.\"KATEGORIE_2_ID\")\n",
    "AND (\n",
    "        T0.\"STIMMUNG_ID\" = T1.\"STIMMUNG_ID\")\n",
    "\"\"\")"
   ]
  },
  {
   "cell_type": "code",
   "execution_count": null,
   "metadata": {},
   "outputs": [],
   "source": []
  }
 ],
 "metadata": {
  "kernelspec": {
   "display_name": "Python 3",
   "language": "python",
   "name": "python3"
  },
  "language_info": {
   "codemirror_mode": {
    "name": "ipython",
    "version": 3
   },
   "file_extension": ".py",
   "mimetype": "text/x-python",
   "name": "python",
   "nbconvert_exporter": "python",
   "pygments_lexer": "ipython3",
   "version": "3.7.1"
  }
 },
 "nbformat": 4,
 "nbformat_minor": 2
}
