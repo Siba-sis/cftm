{
 "cells": [
  {
   "cell_type": "code",
   "execution_count": 1,
   "metadata": {},
   "outputs": [],
   "source": [
    "from pyspark.context import SparkContext\n",
    "from pyspark.sql.session import SparkSession\n",
    "import string"
   ]
  },
  {
   "cell_type": "code",
   "execution_count": 2,
   "metadata": {},
   "outputs": [],
   "source": [
    "def parquet_transform(path1, path2, n=-1):\n",
    "    sc = SparkContext('local')\n",
    "    spark = SparkSession(sc)\n",
    "\n",
    "    # Load parquet file into spark dataframe\n",
    "    parquetFile = spark.read.parquet(\n",
    "        \"../data/customer_feedbacks/part-00000-985ad763-a6d6-4ead-a6dd-c02279e9eeba-c000.snappy.parquet\")\n",
    "    parquetFile.createOrReplaceTempView(\"parquetFile\")\n",
    "    parquetFile2 = spark.read.parquet(\n",
    "        \"../data/customer_feedbacks_cat/part-00000-4820af87-4b19-4958-a7a6-7ed03b76f1b1-c000.snappy.parquet\")\n",
    "    parquetFile2.createOrReplaceTempView(\"parquetFile2\")\n",
    "\n",
    "    # Select columns which are needed\n",
    "    df = spark.sql(\"\"\"\n",
    "    SELECT\n",
    "        /* T0.KATEGORIE_2     AS CATEGORY_2,\n",
    "        T0.KATEGORIE_1     AS CATEGORY_1,\n",
    "        T1.ERGEBNISSATZ_ID AS RESPONSE_ID,\n",
    "        T0.STIMMUNG          AS SENTIMENT,\n",
    "        T1.DATUM_ID        AS DATE, */\n",
    "        T1.ANTWORT_WERT    AS TEXT\n",
    "    FROM\n",
    "        parquetFile2 T0,\n",
    "        parquetFile T1\n",
    "    WHERE\n",
    "        T0.KATEGORIE_1_ID = T1.KATEGORIE_1_ID\n",
    "        AND T0.KATEGORIE_2_ID = T1.KATEGORIE_2_ID\n",
    "        AND T0.STIMMUNG_ID = T1.STIMMUNG_ID\n",
    "        AND (NOT T1.ANTWORT_WERT IS NULL\n",
    "            AND (T1.UMFRAGE_KATEGORIE_ID = 1\n",
    "                AND (T1.GRUPPE_ID = 170\n",
    "                    OR T1.GRUPPE_ID = 171)))\n",
    "    \"\"\")\n",
    "\n",
    "    # Convert Spark dataframe to Pandas dataframe\n",
    "    if n>=0:\n",
    "        df_pd = df.dropDuplicates().toPandas()[:n]\n",
    "    else:\n",
    "        df_pd = df.dropDuplicates().toPandas()[:n]\n",
    "        \n",
    "    sc.stop()\n",
    "\n",
    "    return df_pd"
   ]
  },
  {
   "cell_type": "code",
   "execution_count": 3,
   "metadata": {},
   "outputs": [],
   "source": [
    "def text_preproc_maker(nlp, stopwords):\n",
    "    def text_preproc(sentence):\n",
    "        mytokens = nlp.tokenizer(sentence)\n",
    "        mytokens = [word.lemma_.lower().strip() for word in mytokens]\n",
    "        mytokens = [word for word in mytokens if word not in stopwords and word not in string.punctuation]\n",
    "        return mytokens\n",
    "\n",
    "    return text_preproc"
   ]
  },
  {
   "cell_type": "code",
   "execution_count": 4,
   "metadata": {},
   "outputs": [],
   "source": [
    "import spacy\n",
    "from spacy.lang.de.stop_words import STOP_WORDS\n",
    "\n",
    "path1 = \"../data/customer_feedbacks/part-00000-985ad763-a6d6-4ead-a6dd-c02279e9eeba-c000.snappy.parquet\"\n",
    "path2 = \"../data/customer_feedbacks_cat/part-00000-4820af87-4b19-4958-a7a6-7ed03b76f1b1-c000.snappy.parquet\"\n",
    "df_pd = parquet_transform(path1, path2, n=100)\n",
    "\n",
    "nlp = spacy.load('de')\n",
    "stopwords = list(STOP_WORDS)\n",
    "text_preproc = text_preproc_maker(nlp, stopwords)"
   ]
  },
  {
   "cell_type": "code",
   "execution_count": 5,
   "metadata": {},
   "outputs": [
    {
     "name": "stdout",
     "output_type": "stream",
     "text": [
      "0                                     [stimmt, einfach]\n",
      "1                                   [100%ig, zufrieden]\n",
      "2     [finden, programm, super, handhabung, einfach,...\n",
      "3                                                 [...]\n",
      "4     [einfach, bedienen, programm, perfekt, genau, ...\n",
      "5                                   [einfach, anwenden]\n",
      "6     [ausführung, gestaltungmoeglichkeiten, relativ...\n",
      "7     [ander, anbieter, äußern, erfahrung, doppelsei...\n",
      "8           [bislang, bestens, funktionieren, qualität]\n",
      "9                     [nähe, filiale, schnell, versand]\n",
      "10               [qualität, prima, handhabung, einfach]\n",
      "11                          [kompetent, qualität, buch]\n",
      "12    [einig, fotobücher, lassen, jedesmal, zufriede...\n",
      "13                                   [einfach, perfekt]\n",
      "14    [leisteungen, rundum, zufrieden, letztendlich,...\n",
      "15    [hallo, vorletzte, buchstellung, auftragsnumme...\n",
      "16         [einfach, bedienen, unkompliziert, qualität]\n",
      "17    [anhieb, gelingen, toll, buchen, erstellen, ob...\n",
      "18                                           [fotobuch]\n",
      "19          [einfach, unkompliziert, abholung, filiale]\n",
      "20    [ändert, bitte, gestaltungsmöglichkeiten, dank...\n",
      "21                                         [cewe, cewe]\n",
      "22                                [fotobuch, zufrieden]\n",
      "23              [qualität, schnellen, bearbeitungszeit]\n",
      "24    [fotobuch, möglichkeit, individuell, gestaltun...\n",
      "25                                      [super, arbeit]\n",
      "26                                            [perfekt]\n",
      "27    [jed, wichtig, ereignis, fotobuch, zeitalter, ...\n",
      "28              [bearbeitung, einfach, ergebnis, super]\n",
      "29    [seite, kleben, öffnen, dritt, fotobuch, folge...\n",
      "                            ...                        \n",
      "70          [super, zufrieden, schnelligkeit, qualität]\n",
      "71    [malen, fotobuch, qualität, erstaunen, handlin...\n",
      "72                    [zufrieden, qualität, fotobücher]\n",
      "73               [super, service, schnellen, lieferung]\n",
      "74    [fotobuch, toll, sache, spiegeln, eindrücke, r...\n",
      "75        [weiß, hintegrund, automatisch, rahmen, bild]\n",
      "76    [2, buch, erhalten, ander, hören, zurückschick...\n",
      "77    [hinweis/wunsch, gestaltung, zum beispiel, rec...\n",
      "78                [tolles, buchen, schnellen, fertigen]\n",
      "79    [super, programm, hilfreich, tipps, gestaltung...\n",
      "80    [bedienend, software, hinweis, qualitaet, bild...\n",
      "81    [12.nov.12, fotobuch, auft, nr.593169, 011609,...\n",
      "82    [2x, innerhalb, 6, monat, bestellung, ordnungs...\n",
      "83    [echt, stören, aufdringlich, werbung, buchend,...\n",
      "84    [fotoheft, online, bestellung, zeitgründen, ge...\n",
      "85    [buchen, insgesamt, dunkeln, zeitnah, brauchen...\n",
      "86    [qualität, foto, fallen, gestaltung, schnellen...\n",
      "87    [erstellen, bearbeiten, anfänglich, problem, m...\n",
      "88    [fotobuch, qualitativ, fallen, schön, finden, ...\n",
      "89                                              [super]\n",
      "90    [foto, buchumschlag, stehen, schief, einbinden...\n",
      "91    [bekennen, fotobuch, zeigen, zugangsdaten, geb...\n",
      "92                              [fotobücher, erstellen]\n",
      "93      [cewe, freund, empfolen, laufen, zufriedenheit]\n",
      "94    [ok, hintergrundbilder, gestalten, schwach, no...\n",
      "95    [software, bieten, textfelder, layoutfunktione...\n",
      "96    [freundliche, mitarbeiter, laupheim, reihen, r...\n",
      "97          [verschieben, einzeln, seite, doppelseiten]\n",
      "98    [cewe, fotobücher, letzt, super, entwickeln, r...\n",
      "99                         [zufrieden, dm, markt, nähe]\n",
      "Name: TEXT, Length: 100, dtype: object\n"
     ]
    }
   ],
   "source": [
    "data = df_pd['TEXT'].apply(text_preproc)\n",
    "print(data)"
   ]
  },
  {
   "cell_type": "code",
   "execution_count": null,
   "metadata": {},
   "outputs": [],
   "source": []
  }
 ],
 "metadata": {
  "kernelspec": {
   "display_name": "Python 3",
   "language": "python",
   "name": "python3"
  },
  "language_info": {
   "codemirror_mode": {
    "name": "ipython",
    "version": 3
   },
   "file_extension": ".py",
   "mimetype": "text/x-python",
   "name": "python",
   "nbconvert_exporter": "python",
   "pygments_lexer": "ipython3",
   "version": "3.7.1"
  }
 },
 "nbformat": 4,
 "nbformat_minor": 2
}
